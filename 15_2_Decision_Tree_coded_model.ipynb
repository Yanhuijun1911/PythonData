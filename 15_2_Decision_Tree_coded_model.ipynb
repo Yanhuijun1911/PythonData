{
  "nbformat": 4,
  "nbformat_minor": 0,
  "metadata": {
    "colab": {
      "name": "15.2 Decision-Tree-coded-model.ipynb",
      "provenance": [],
      "collapsed_sections": [],
      "include_colab_link": true
    },
    "kernelspec": {
      "display_name": "Python 3",
      "language": "python",
      "name": "python3"
    },
    "language_info": {
      "codemirror_mode": {
        "name": "ipython",
        "version": 3
      },
      "file_extension": ".py",
      "mimetype": "text/x-python",
      "name": "python",
      "nbconvert_exporter": "python",
      "pygments_lexer": "ipython3",
      "version": "3.8.5"
    }
  },
  "cells": [
    {
      "cell_type": "markdown",
      "metadata": {
        "id": "view-in-github",
        "colab_type": "text"
      },
      "source": [
        "<a href=\"https://colab.research.google.com/github/Yanhuijun1911/PythonData/blob/main/15_2_Decision_Tree_coded_model.ipynb\" target=\"_parent\"><img src=\"https://colab.research.google.com/assets/colab-badge.svg\" alt=\"Open In Colab\"/></a>"
      ]
    },
    {
      "cell_type": "markdown",
      "metadata": {
        "id": "9HyLZK84N75s"
      },
      "source": [
        "# Coding a simple decision tree\n",
        "---\n",
        "\n",
        "In this worksheet we are going to work with a data set, using the idea of a decision tree class.  We are going to simplify the model and use Python code to make a simple decision tree classification model.  We will do this for two reasons:\n",
        "*   writing the code is often good for helping to understand what is going on under the bonnet of a library function\n",
        "*   it is a good coding exercise for practice as it mostly depends on calculations and if..elif..else statements\n",
        "\n",
        "In this worksheet we are going to code a decision tree which will use the calculated probabilities to make decisions about whether a row of given data would be classified as Iris-virginica, or not, based on sepal and petal dimensions.  It is easier to classify between two values (Iris-virginica or not).  Later, using this information, species would be further predicted by probabilities of error.\n",
        "\n",
        "![Iris-petals and sepals](https://www.math.umd.edu/~petersd/666/html/iris_with_labels.jpg)\n",
        "\n",
        "The workflow is:\n",
        "*  divide the data set into 70% of the rows for training and 30% for testing  (we can increase the size of the training set later)\n",
        "*  find the median for each of the 4 size columns\n",
        "*  calculate the proportion of each column that are on or above median that are of a species (ie proportion of petal-lengths on or above median that are Iris-virginica)\n",
        "*  infer the proportion of each that are not of that species (using 1 - proportion above).  In both cases we are looking to find if either of these is 1, which could be infered as definitely not that species. \n",
        "*  calculate a Gini Index that will indicate the probability that a prediction will be incorrect\n",
        "*  use the results of the Gini Index to model a decision tree\n",
        "*  code the decision tree model into a function that will return whether or not a row in the test set is predicted to be of species Iris-virginica\n",
        "*  use the decision tree function to predict, for each row in the test set, if the species will be Iris-virginicia or not, using a set of nested if statements to classify\n",
        "*  compare the predicted values against the actual values in the test set - what proportion were predicted correctly?\n"
      ]
    },
    {
      "cell_type": "markdown",
      "metadata": {
        "id": "4iR8g8h_Ol0j"
      },
      "source": [
        "### Exercise 1 - investigate the iris data set\n",
        "---\n",
        "Let's start by looking at the data.  We are going to use a data set that contains data on iris flowers.\n",
        "\n",
        "Read the data at this location: https://raw.githubusercontent.com/jbrownlee/Datasets/master/iris.csv into a dataframe called iris_data\n",
        "\n",
        "The columns in the CSV file do not have headings, when you read the file, add column headings like this:\n",
        "```\n",
        "url = \"https://raw.githubusercontent.com/jbrownlee/Datasets/master/iris.csv\"\n",
        "names = ['sepal-length', 'sepal-width', 'petal-length', 'petal-width', 'species']\n",
        "iris_data = pd.read_csv(url, name=names)\n",
        "```\n",
        "*  Take a look at the column info (how many columns, what type of data, any missing data?)\n",
        "*  Take a look at the data values in the first 10 and the last 10 records to get an idea of the type of values included\n",
        "*  Find out how many unique values there are in the species column\n",
        "*  Find out the maximum, minimum, median and upper and lower quartile values in each of the columns\n"
      ]
    },
    {
      "cell_type": "code",
      "metadata": {
        "id": "eGZuOLPYPgL5",
        "colab": {
          "base_uri": "https://localhost:8080/",
          "height": 206
        },
        "outputId": "0f1239b3-999c-4ca3-be90-e1a416962dd4"
      },
      "source": [
        "import pandas as pd\n",
        "url = \"https://raw.githubusercontent.com/jbrownlee/Datasets/master/iris.csv\"\n",
        "names = ['sepal-length', 'sepal-width', 'petal-length', 'petal-width', 'species']\n",
        "iris_data = pd.read_csv(url, names=names)\n",
        "iris_data.head()"
      ],
      "execution_count": null,
      "outputs": [
        {
          "output_type": "execute_result",
          "data": {
            "text/plain": [
              "   sepal-length  sepal-width  petal-length  petal-width      species\n",
              "0           5.1          3.5           1.4          0.2  Iris-setosa\n",
              "1           4.9          3.0           1.4          0.2  Iris-setosa\n",
              "2           4.7          3.2           1.3          0.2  Iris-setosa\n",
              "3           4.6          3.1           1.5          0.2  Iris-setosa\n",
              "4           5.0          3.6           1.4          0.2  Iris-setosa"
            ],
            "text/html": [
              "\n",
              "  <div id=\"df-e1502fc2-b1ec-4bda-90a1-5c9df2c290e7\">\n",
              "    <div class=\"colab-df-container\">\n",
              "      <div>\n",
              "<style scoped>\n",
              "    .dataframe tbody tr th:only-of-type {\n",
              "        vertical-align: middle;\n",
              "    }\n",
              "\n",
              "    .dataframe tbody tr th {\n",
              "        vertical-align: top;\n",
              "    }\n",
              "\n",
              "    .dataframe thead th {\n",
              "        text-align: right;\n",
              "    }\n",
              "</style>\n",
              "<table border=\"1\" class=\"dataframe\">\n",
              "  <thead>\n",
              "    <tr style=\"text-align: right;\">\n",
              "      <th></th>\n",
              "      <th>sepal-length</th>\n",
              "      <th>sepal-width</th>\n",
              "      <th>petal-length</th>\n",
              "      <th>petal-width</th>\n",
              "      <th>species</th>\n",
              "    </tr>\n",
              "  </thead>\n",
              "  <tbody>\n",
              "    <tr>\n",
              "      <th>0</th>\n",
              "      <td>5.1</td>\n",
              "      <td>3.5</td>\n",
              "      <td>1.4</td>\n",
              "      <td>0.2</td>\n",
              "      <td>Iris-setosa</td>\n",
              "    </tr>\n",
              "    <tr>\n",
              "      <th>1</th>\n",
              "      <td>4.9</td>\n",
              "      <td>3.0</td>\n",
              "      <td>1.4</td>\n",
              "      <td>0.2</td>\n",
              "      <td>Iris-setosa</td>\n",
              "    </tr>\n",
              "    <tr>\n",
              "      <th>2</th>\n",
              "      <td>4.7</td>\n",
              "      <td>3.2</td>\n",
              "      <td>1.3</td>\n",
              "      <td>0.2</td>\n",
              "      <td>Iris-setosa</td>\n",
              "    </tr>\n",
              "    <tr>\n",
              "      <th>3</th>\n",
              "      <td>4.6</td>\n",
              "      <td>3.1</td>\n",
              "      <td>1.5</td>\n",
              "      <td>0.2</td>\n",
              "      <td>Iris-setosa</td>\n",
              "    </tr>\n",
              "    <tr>\n",
              "      <th>4</th>\n",
              "      <td>5.0</td>\n",
              "      <td>3.6</td>\n",
              "      <td>1.4</td>\n",
              "      <td>0.2</td>\n",
              "      <td>Iris-setosa</td>\n",
              "    </tr>\n",
              "  </tbody>\n",
              "</table>\n",
              "</div>\n",
              "      <button class=\"colab-df-convert\" onclick=\"convertToInteractive('df-e1502fc2-b1ec-4bda-90a1-5c9df2c290e7')\"\n",
              "              title=\"Convert this dataframe to an interactive table.\"\n",
              "              style=\"display:none;\">\n",
              "        \n",
              "  <svg xmlns=\"http://www.w3.org/2000/svg\" height=\"24px\"viewBox=\"0 0 24 24\"\n",
              "       width=\"24px\">\n",
              "    <path d=\"M0 0h24v24H0V0z\" fill=\"none\"/>\n",
              "    <path d=\"M18.56 5.44l.94 2.06.94-2.06 2.06-.94-2.06-.94-.94-2.06-.94 2.06-2.06.94zm-11 1L8.5 8.5l.94-2.06 2.06-.94-2.06-.94L8.5 2.5l-.94 2.06-2.06.94zm10 10l.94 2.06.94-2.06 2.06-.94-2.06-.94-.94-2.06-.94 2.06-2.06.94z\"/><path d=\"M17.41 7.96l-1.37-1.37c-.4-.4-.92-.59-1.43-.59-.52 0-1.04.2-1.43.59L10.3 9.45l-7.72 7.72c-.78.78-.78 2.05 0 2.83L4 21.41c.39.39.9.59 1.41.59.51 0 1.02-.2 1.41-.59l7.78-7.78 2.81-2.81c.8-.78.8-2.07 0-2.86zM5.41 20L4 18.59l7.72-7.72 1.47 1.35L5.41 20z\"/>\n",
              "  </svg>\n",
              "      </button>\n",
              "      \n",
              "  <style>\n",
              "    .colab-df-container {\n",
              "      display:flex;\n",
              "      flex-wrap:wrap;\n",
              "      gap: 12px;\n",
              "    }\n",
              "\n",
              "    .colab-df-convert {\n",
              "      background-color: #E8F0FE;\n",
              "      border: none;\n",
              "      border-radius: 50%;\n",
              "      cursor: pointer;\n",
              "      display: none;\n",
              "      fill: #1967D2;\n",
              "      height: 32px;\n",
              "      padding: 0 0 0 0;\n",
              "      width: 32px;\n",
              "    }\n",
              "\n",
              "    .colab-df-convert:hover {\n",
              "      background-color: #E2EBFA;\n",
              "      box-shadow: 0px 1px 2px rgba(60, 64, 67, 0.3), 0px 1px 3px 1px rgba(60, 64, 67, 0.15);\n",
              "      fill: #174EA6;\n",
              "    }\n",
              "\n",
              "    [theme=dark] .colab-df-convert {\n",
              "      background-color: #3B4455;\n",
              "      fill: #D2E3FC;\n",
              "    }\n",
              "\n",
              "    [theme=dark] .colab-df-convert:hover {\n",
              "      background-color: #434B5C;\n",
              "      box-shadow: 0px 1px 3px 1px rgba(0, 0, 0, 0.15);\n",
              "      filter: drop-shadow(0px 1px 2px rgba(0, 0, 0, 0.3));\n",
              "      fill: #FFFFFF;\n",
              "    }\n",
              "  </style>\n",
              "\n",
              "      <script>\n",
              "        const buttonEl =\n",
              "          document.querySelector('#df-e1502fc2-b1ec-4bda-90a1-5c9df2c290e7 button.colab-df-convert');\n",
              "        buttonEl.style.display =\n",
              "          google.colab.kernel.accessAllowed ? 'block' : 'none';\n",
              "\n",
              "        async function convertToInteractive(key) {\n",
              "          const element = document.querySelector('#df-e1502fc2-b1ec-4bda-90a1-5c9df2c290e7');\n",
              "          const dataTable =\n",
              "            await google.colab.kernel.invokeFunction('convertToInteractive',\n",
              "                                                     [key], {});\n",
              "          if (!dataTable) return;\n",
              "\n",
              "          const docLinkHtml = 'Like what you see? Visit the ' +\n",
              "            '<a target=\"_blank\" href=https://colab.research.google.com/notebooks/data_table.ipynb>data table notebook</a>'\n",
              "            + ' to learn more about interactive tables.';\n",
              "          element.innerHTML = '';\n",
              "          dataTable['output_type'] = 'display_data';\n",
              "          await google.colab.output.renderOutput(dataTable, element);\n",
              "          const docLink = document.createElement('div');\n",
              "          docLink.innerHTML = docLinkHtml;\n",
              "          element.appendChild(docLink);\n",
              "        }\n",
              "      </script>\n",
              "    </div>\n",
              "  </div>\n",
              "  "
            ]
          },
          "metadata": {},
          "execution_count": 169
        }
      ]
    },
    {
      "cell_type": "code",
      "source": [
        "iris_data['species'].unique()"
      ],
      "metadata": {
        "colab": {
          "base_uri": "https://localhost:8080/"
        },
        "id": "EWzB4CAas5fJ",
        "outputId": "fced9843-8500-4bd7-b7ff-2ecaddbbf68e"
      },
      "execution_count": null,
      "outputs": [
        {
          "output_type": "execute_result",
          "data": {
            "text/plain": [
              "array(['Iris-setosa', 'Iris-versicolor', 'Iris-virginica'], dtype=object)"
            ]
          },
          "metadata": {},
          "execution_count": 170
        }
      ]
    },
    {
      "cell_type": "code",
      "source": [
        "def stats_iris(df):\n",
        "  max = df.max()\n",
        "  min = df.min()\n",
        "  median = df.median()\n",
        "  upper_quartie = df.quantile(0.75)\n",
        "  lower_quartie = df.quantile(0.25)\n",
        "  \n",
        "  return max, min, median, upper_quartie, lower_quartie\n",
        "\n",
        "print('sepal-length: ', stats_iris(iris_data['sepal-length']))\n",
        "print('sepal-width:', stats_iris(iris_data['sepal-width']))\n",
        "print('petal-length:', stats_iris(iris_data['petal-length']))\n",
        "print('petal-width:', stats_iris(iris_data['petal-width']))"
      ],
      "metadata": {
        "colab": {
          "base_uri": "https://localhost:8080/"
        },
        "id": "M8U6fHY6ZN9n",
        "outputId": "a2164357-e8d1-4f35-cb6b-83815dc4ca0a"
      },
      "execution_count": null,
      "outputs": [
        {
          "output_type": "stream",
          "name": "stdout",
          "text": [
            "sepal-length:  (7.9, 4.3, 5.8, 6.4, 5.1)\n",
            "sepal-width: (4.4, 2.0, 3.0, 3.3, 2.8)\n",
            "petal-length: (6.9, 1.0, 4.35, 5.1, 1.6)\n",
            "petal-width: (2.5, 0.1, 1.3, 1.8, 0.3)\n"
          ]
        }
      ]
    },
    {
      "cell_type": "markdown",
      "metadata": {
        "id": "0b8Pm0bK_Ca1"
      },
      "source": [
        "### Exercise 2 - split the data into train and test sets\n",
        "---\n",
        "\n",
        "Split the data set into and 70% train, 30% test, split.  From now, just use the train data set.\n"
      ]
    },
    {
      "cell_type": "code",
      "metadata": {
        "id": "CSG-ZEPEawMJ",
        "colab": {
          "base_uri": "https://localhost:8080/"
        },
        "outputId": "9124ef18-9895-47d8-f894-1a3389605cc7"
      },
      "source": [
        "# import the train_test_split function\n",
        "from sklearn.model_selection import train_test_split\n",
        "\n",
        "# create the classification variables from the all columns\n",
        "train, test = train_test_split(iris_data, test_size=0.30)\n",
        "train.describe()\n",
        "train.dropna(inplace = True)\n",
        "train.info()\n"
      ],
      "execution_count": null,
      "outputs": [
        {
          "output_type": "stream",
          "name": "stdout",
          "text": [
            "<class 'pandas.core.frame.DataFrame'>\n",
            "Int64Index: 105 entries, 19 to 108\n",
            "Data columns (total 5 columns):\n",
            " #   Column        Non-Null Count  Dtype  \n",
            "---  ------        --------------  -----  \n",
            " 0   sepal-length  105 non-null    float64\n",
            " 1   sepal-width   105 non-null    float64\n",
            " 2   petal-length  105 non-null    float64\n",
            " 3   petal-width   105 non-null    float64\n",
            " 4   species       105 non-null    object \n",
            "dtypes: float64(4), object(1)\n",
            "memory usage: 4.9+ KB\n"
          ]
        }
      ]
    },
    {
      "cell_type": "markdown",
      "metadata": {
        "id": "nd-9JfKbQl-q"
      },
      "source": [
        "### Exercise 3 - assumptions and classification\n",
        "---\n",
        "\n",
        "Let's make some assumptions based on the data\n",
        "\n",
        "1.  Iris-setosa, Iris-versicolor, Iris-virginica are the full range of types of iris to be analysed\n",
        "2.  Although this is a small data set, the means are fairly representative\n",
        "\n",
        "With these in mind, let's start by classifying sepal/petal size into long/short and wide/narrow with values on or above the mean taken as long or wide and those below as short or narrow.\n",
        "\n",
        "This is a starting point.  We will be trying to find a value (indicator) for each column where rows on or above do not contain any of a particular species, this might indicate that this column is a good (if not rough) indicator of species.\n",
        "\n",
        "*  Drop any null values from each column\n",
        "\n",
        "Calculate, and store the means of the four columns\n",
        "\n",
        "*  **Test**:\n",
        "Display train.describe() to see the value of the means of the training set. Print the four means and compare to the output of train.describe() to check that they have been calculated correctly.\n",
        "\n",
        "*  Create a new dataframe with the numeric columns encoded so show a 1 for any value that is above the mean for its column and 0 for any that isn't.\n",
        "\n",
        "\n"
      ]
    },
    {
      "cell_type": "code",
      "source": [
        "iris_data.dropna(inplace = True)\n",
        "iris_data.info()"
      ],
      "metadata": {
        "colab": {
          "base_uri": "https://localhost:8080/"
        },
        "id": "THbSjYKtQ1WV",
        "outputId": "b2a3b00d-8e00-4812-d81d-22d5ce209dba"
      },
      "execution_count": null,
      "outputs": [
        {
          "output_type": "stream",
          "name": "stdout",
          "text": [
            "<class 'pandas.core.frame.DataFrame'>\n",
            "Int64Index: 150 entries, 0 to 149\n",
            "Data columns (total 5 columns):\n",
            " #   Column        Non-Null Count  Dtype  \n",
            "---  ------        --------------  -----  \n",
            " 0   sepal-length  150 non-null    float64\n",
            " 1   sepal-width   150 non-null    float64\n",
            " 2   petal-length  150 non-null    float64\n",
            " 3   petal-width   150 non-null    float64\n",
            " 4   species       150 non-null    object \n",
            "dtypes: float64(4), object(1)\n",
            "memory usage: 7.0+ KB\n"
          ]
        }
      ]
    },
    {
      "cell_type": "code",
      "source": [
        "seplen_mean = iris_data['sepal-length'].mean()\n",
        "sepwid_mean = iris_data['sepal-width'].mean()\n",
        "petlen_mean = iris_data['petal-length'].mean()\n",
        "petwid_mean = iris_data['petal-width'].mean()\n",
        "\n",
        "def encode_iris(df, **kwds):\n",
        "  mean = kwds['mean']\n",
        "  key = kwds['key']\n",
        "  if df[key] > mean:\n",
        "    return 1\n",
        "  else:\n",
        "    return 0\n",
        "\n",
        "iris_data['encode_sepal-length'] = iris_data.apply(encode_iris, axis = 1, key = 'sepal-length', mean = seplen_mean)\n",
        "iris_data['encode_sepal-width'] = iris_data.apply(encode_iris, axis = 1, key = 'sepal-width', mean = sepwid_mean)\n",
        "iris_data['encode_petal-length'] = iris_data.apply(encode_iris, axis = 1, key = 'petal-length', mean = petlen_mean)\n",
        "iris_data['encode_petal-width'] = iris_data.apply(encode_iris, axis = 1, key = 'petal-width', mean = petwid_mean)\n",
        "iris_data['encode_sepal-length'].describe()"
      ],
      "metadata": {
        "colab": {
          "base_uri": "https://localhost:8080/"
        },
        "id": "6kAOSi26XYAd",
        "outputId": "1f6ae060-9f5a-4631-d886-1ca11ed2fc18"
      },
      "execution_count": null,
      "outputs": [
        {
          "output_type": "execute_result",
          "data": {
            "text/plain": [
              "count    150.000000\n",
              "mean       0.466667\n",
              "std        0.500559\n",
              "min        0.000000\n",
              "25%        0.000000\n",
              "50%        0.000000\n",
              "75%        1.000000\n",
              "max        1.000000\n",
              "Name: encode_sepal-length, dtype: float64"
            ]
          },
          "metadata": {},
          "execution_count": 174
        }
      ]
    },
    {
      "cell_type": "code",
      "metadata": {
        "id": "rAahb5HSWiw-",
        "colab": {
          "base_uri": "https://localhost:8080/",
          "height": 423
        },
        "outputId": "2ad2515e-bcdc-43d5-82d9-4740490ee937"
      },
      "source": [
        "# get the mean for each column and apply a function to encode into 1 (above mean) and 0 (mean or below mean)\n",
        "def encode_iris(df, **kwds):\n",
        "  indicator = kwds['indicator']\n",
        "  key = kwds['key']\n",
        "  if df[key] >= indicator:\n",
        "    return 1\n",
        "  else:\n",
        "    return 0\n",
        "\n",
        "\n",
        "# run the function for each column so that each of the four columns are encoded, then drop the original columns, saving as a new dataframe\n",
        "train['sepal-length'] = train.apply(encode_iris, axis=1, key='sepal-length', indicator=train['sepal-length'].mean())\n",
        "train['sepal-width'] = train.apply(encode_iris, axis=1, key='sepal-width', indicator=train['sepal-width'].mean())\n",
        "train['petal-length'] = train.apply(encode_iris, axis=1, key='petal-length', indicator=train['petal-length'].mean())\n",
        "train['petal-width'] = train.apply(encode_iris, axis=1, key='petal-width', indicator=train['petal-width'].mean())\n",
        "train\n"
      ],
      "execution_count": null,
      "outputs": [
        {
          "output_type": "execute_result",
          "data": {
            "text/plain": [
              "     sepal-length  sepal-width  petal-length  petal-width          species\n",
              "19              0            1             0            0      Iris-setosa\n",
              "32              0            1             0            0      Iris-setosa\n",
              "149             0            0             1            1   Iris-virginica\n",
              "40              0            1             0            0      Iris-setosa\n",
              "100             1            1             1            1   Iris-virginica\n",
              "..            ...          ...           ...          ...              ...\n",
              "33              0            1             0            0      Iris-setosa\n",
              "76              1            0             1            1  Iris-versicolor\n",
              "0               0            1             0            0      Iris-setosa\n",
              "65              1            1             1            1  Iris-versicolor\n",
              "108             1            0             1            1   Iris-virginica\n",
              "\n",
              "[105 rows x 5 columns]"
            ],
            "text/html": [
              "\n",
              "  <div id=\"df-d5f9aded-2170-4f41-99ad-aa774da8c314\">\n",
              "    <div class=\"colab-df-container\">\n",
              "      <div>\n",
              "<style scoped>\n",
              "    .dataframe tbody tr th:only-of-type {\n",
              "        vertical-align: middle;\n",
              "    }\n",
              "\n",
              "    .dataframe tbody tr th {\n",
              "        vertical-align: top;\n",
              "    }\n",
              "\n",
              "    .dataframe thead th {\n",
              "        text-align: right;\n",
              "    }\n",
              "</style>\n",
              "<table border=\"1\" class=\"dataframe\">\n",
              "  <thead>\n",
              "    <tr style=\"text-align: right;\">\n",
              "      <th></th>\n",
              "      <th>sepal-length</th>\n",
              "      <th>sepal-width</th>\n",
              "      <th>petal-length</th>\n",
              "      <th>petal-width</th>\n",
              "      <th>species</th>\n",
              "    </tr>\n",
              "  </thead>\n",
              "  <tbody>\n",
              "    <tr>\n",
              "      <th>19</th>\n",
              "      <td>0</td>\n",
              "      <td>1</td>\n",
              "      <td>0</td>\n",
              "      <td>0</td>\n",
              "      <td>Iris-setosa</td>\n",
              "    </tr>\n",
              "    <tr>\n",
              "      <th>32</th>\n",
              "      <td>0</td>\n",
              "      <td>1</td>\n",
              "      <td>0</td>\n",
              "      <td>0</td>\n",
              "      <td>Iris-setosa</td>\n",
              "    </tr>\n",
              "    <tr>\n",
              "      <th>149</th>\n",
              "      <td>0</td>\n",
              "      <td>0</td>\n",
              "      <td>1</td>\n",
              "      <td>1</td>\n",
              "      <td>Iris-virginica</td>\n",
              "    </tr>\n",
              "    <tr>\n",
              "      <th>40</th>\n",
              "      <td>0</td>\n",
              "      <td>1</td>\n",
              "      <td>0</td>\n",
              "      <td>0</td>\n",
              "      <td>Iris-setosa</td>\n",
              "    </tr>\n",
              "    <tr>\n",
              "      <th>100</th>\n",
              "      <td>1</td>\n",
              "      <td>1</td>\n",
              "      <td>1</td>\n",
              "      <td>1</td>\n",
              "      <td>Iris-virginica</td>\n",
              "    </tr>\n",
              "    <tr>\n",
              "      <th>...</th>\n",
              "      <td>...</td>\n",
              "      <td>...</td>\n",
              "      <td>...</td>\n",
              "      <td>...</td>\n",
              "      <td>...</td>\n",
              "    </tr>\n",
              "    <tr>\n",
              "      <th>33</th>\n",
              "      <td>0</td>\n",
              "      <td>1</td>\n",
              "      <td>0</td>\n",
              "      <td>0</td>\n",
              "      <td>Iris-setosa</td>\n",
              "    </tr>\n",
              "    <tr>\n",
              "      <th>76</th>\n",
              "      <td>1</td>\n",
              "      <td>0</td>\n",
              "      <td>1</td>\n",
              "      <td>1</td>\n",
              "      <td>Iris-versicolor</td>\n",
              "    </tr>\n",
              "    <tr>\n",
              "      <th>0</th>\n",
              "      <td>0</td>\n",
              "      <td>1</td>\n",
              "      <td>0</td>\n",
              "      <td>0</td>\n",
              "      <td>Iris-setosa</td>\n",
              "    </tr>\n",
              "    <tr>\n",
              "      <th>65</th>\n",
              "      <td>1</td>\n",
              "      <td>1</td>\n",
              "      <td>1</td>\n",
              "      <td>1</td>\n",
              "      <td>Iris-versicolor</td>\n",
              "    </tr>\n",
              "    <tr>\n",
              "      <th>108</th>\n",
              "      <td>1</td>\n",
              "      <td>0</td>\n",
              "      <td>1</td>\n",
              "      <td>1</td>\n",
              "      <td>Iris-virginica</td>\n",
              "    </tr>\n",
              "  </tbody>\n",
              "</table>\n",
              "<p>105 rows × 5 columns</p>\n",
              "</div>\n",
              "      <button class=\"colab-df-convert\" onclick=\"convertToInteractive('df-d5f9aded-2170-4f41-99ad-aa774da8c314')\"\n",
              "              title=\"Convert this dataframe to an interactive table.\"\n",
              "              style=\"display:none;\">\n",
              "        \n",
              "  <svg xmlns=\"http://www.w3.org/2000/svg\" height=\"24px\"viewBox=\"0 0 24 24\"\n",
              "       width=\"24px\">\n",
              "    <path d=\"M0 0h24v24H0V0z\" fill=\"none\"/>\n",
              "    <path d=\"M18.56 5.44l.94 2.06.94-2.06 2.06-.94-2.06-.94-.94-2.06-.94 2.06-2.06.94zm-11 1L8.5 8.5l.94-2.06 2.06-.94-2.06-.94L8.5 2.5l-.94 2.06-2.06.94zm10 10l.94 2.06.94-2.06 2.06-.94-2.06-.94-.94-2.06-.94 2.06-2.06.94z\"/><path d=\"M17.41 7.96l-1.37-1.37c-.4-.4-.92-.59-1.43-.59-.52 0-1.04.2-1.43.59L10.3 9.45l-7.72 7.72c-.78.78-.78 2.05 0 2.83L4 21.41c.39.39.9.59 1.41.59.51 0 1.02-.2 1.41-.59l7.78-7.78 2.81-2.81c.8-.78.8-2.07 0-2.86zM5.41 20L4 18.59l7.72-7.72 1.47 1.35L5.41 20z\"/>\n",
              "  </svg>\n",
              "      </button>\n",
              "      \n",
              "  <style>\n",
              "    .colab-df-container {\n",
              "      display:flex;\n",
              "      flex-wrap:wrap;\n",
              "      gap: 12px;\n",
              "    }\n",
              "\n",
              "    .colab-df-convert {\n",
              "      background-color: #E8F0FE;\n",
              "      border: none;\n",
              "      border-radius: 50%;\n",
              "      cursor: pointer;\n",
              "      display: none;\n",
              "      fill: #1967D2;\n",
              "      height: 32px;\n",
              "      padding: 0 0 0 0;\n",
              "      width: 32px;\n",
              "    }\n",
              "\n",
              "    .colab-df-convert:hover {\n",
              "      background-color: #E2EBFA;\n",
              "      box-shadow: 0px 1px 2px rgba(60, 64, 67, 0.3), 0px 1px 3px 1px rgba(60, 64, 67, 0.15);\n",
              "      fill: #174EA6;\n",
              "    }\n",
              "\n",
              "    [theme=dark] .colab-df-convert {\n",
              "      background-color: #3B4455;\n",
              "      fill: #D2E3FC;\n",
              "    }\n",
              "\n",
              "    [theme=dark] .colab-df-convert:hover {\n",
              "      background-color: #434B5C;\n",
              "      box-shadow: 0px 1px 3px 1px rgba(0, 0, 0, 0.15);\n",
              "      filter: drop-shadow(0px 1px 2px rgba(0, 0, 0, 0.3));\n",
              "      fill: #FFFFFF;\n",
              "    }\n",
              "  </style>\n",
              "\n",
              "      <script>\n",
              "        const buttonEl =\n",
              "          document.querySelector('#df-d5f9aded-2170-4f41-99ad-aa774da8c314 button.colab-df-convert');\n",
              "        buttonEl.style.display =\n",
              "          google.colab.kernel.accessAllowed ? 'block' : 'none';\n",
              "\n",
              "        async function convertToInteractive(key) {\n",
              "          const element = document.querySelector('#df-d5f9aded-2170-4f41-99ad-aa774da8c314');\n",
              "          const dataTable =\n",
              "            await google.colab.kernel.invokeFunction('convertToInteractive',\n",
              "                                                     [key], {});\n",
              "          if (!dataTable) return;\n",
              "\n",
              "          const docLinkHtml = 'Like what you see? Visit the ' +\n",
              "            '<a target=\"_blank\" href=https://colab.research.google.com/notebooks/data_table.ipynb>data table notebook</a>'\n",
              "            + ' to learn more about interactive tables.';\n",
              "          element.innerHTML = '';\n",
              "          dataTable['output_type'] = 'display_data';\n",
              "          await google.colab.output.renderOutput(dataTable, element);\n",
              "          const docLink = document.createElement('div');\n",
              "          docLink.innerHTML = docLinkHtml;\n",
              "          element.appendChild(docLink);\n",
              "        }\n",
              "      </script>\n",
              "    </div>\n",
              "  </div>\n",
              "  "
            ]
          },
          "metadata": {},
          "execution_count": 175
        }
      ]
    },
    {
      "cell_type": "markdown",
      "metadata": {
        "id": "t9lP8lC1dCsa"
      },
      "source": [
        "### Exercise 4 - Calculate the proportion of values on or above the mean that are of each species\n",
        "\n",
        "We are going to focus on the `Iris-virginica` species first.\n",
        "\n",
        "First we will calculate, for each dimension column (`sepal-length, sepal-width, petal-length, petal-width`) what proportion of values in that column, where the value is on or above the mean, are classified as `Iris-virginica`.\n",
        "\n",
        "We will do this by filtering all the records in each column of the the `train` set that are on or above the mean and match the species .  Then use the outcome to calculate the proportion of the full `train` set for which a value on or above the mean that are of species `Iris-virginica`.\n",
        "\n",
        "*  filter for values in the `sepal-length` column being on or above the mean and the species column being `Iris-virginica`.  Then divide the count of rows in this filtered dataset by the count of rows in a second data set, filtered for just the value being on or above the mean.\n",
        "\n",
        "*  Do this for all four columns, for `Iris-virginica`  (4 operations).\n",
        "\n",
        "Print the results to see which columns look like they might most reliably predict the species as `Iris-virginica` (the result is as close as possible to 1).  The highest numbers may indicate the most reliable indicators, but we will do some more before coming to this conclusion.\n",
        "\n",
        "*  By definition, those on or above the mean that are NOT Iris_virginica will be `1 - the proportion of those that are.  Calculate these\n",
        "\n",
        "The first one has been done for you.\n",
        "\n",
        "*  We will also need the proportion of those BELOW the median that are NOT Iris-virginica.  Calculate these in the same way\n",
        "\n"
      ]
    },
    {
      "cell_type": "code",
      "source": [
        "train.head()"
      ],
      "metadata": {
        "colab": {
          "base_uri": "https://localhost:8080/",
          "height": 206
        },
        "id": "2HdNYtpFdqem",
        "outputId": "e27fd556-a8f1-469c-803e-8a770ef96967"
      },
      "execution_count": null,
      "outputs": [
        {
          "output_type": "execute_result",
          "data": {
            "text/plain": [
              "     sepal-length  sepal-width  petal-length  petal-width         species\n",
              "19              0            1             0            0     Iris-setosa\n",
              "32              0            1             0            0     Iris-setosa\n",
              "149             0            0             1            1  Iris-virginica\n",
              "40              0            1             0            0     Iris-setosa\n",
              "100             1            1             1            1  Iris-virginica"
            ],
            "text/html": [
              "\n",
              "  <div id=\"df-be55098a-591c-45e4-965b-2e8236e99386\">\n",
              "    <div class=\"colab-df-container\">\n",
              "      <div>\n",
              "<style scoped>\n",
              "    .dataframe tbody tr th:only-of-type {\n",
              "        vertical-align: middle;\n",
              "    }\n",
              "\n",
              "    .dataframe tbody tr th {\n",
              "        vertical-align: top;\n",
              "    }\n",
              "\n",
              "    .dataframe thead th {\n",
              "        text-align: right;\n",
              "    }\n",
              "</style>\n",
              "<table border=\"1\" class=\"dataframe\">\n",
              "  <thead>\n",
              "    <tr style=\"text-align: right;\">\n",
              "      <th></th>\n",
              "      <th>sepal-length</th>\n",
              "      <th>sepal-width</th>\n",
              "      <th>petal-length</th>\n",
              "      <th>petal-width</th>\n",
              "      <th>species</th>\n",
              "    </tr>\n",
              "  </thead>\n",
              "  <tbody>\n",
              "    <tr>\n",
              "      <th>19</th>\n",
              "      <td>0</td>\n",
              "      <td>1</td>\n",
              "      <td>0</td>\n",
              "      <td>0</td>\n",
              "      <td>Iris-setosa</td>\n",
              "    </tr>\n",
              "    <tr>\n",
              "      <th>32</th>\n",
              "      <td>0</td>\n",
              "      <td>1</td>\n",
              "      <td>0</td>\n",
              "      <td>0</td>\n",
              "      <td>Iris-setosa</td>\n",
              "    </tr>\n",
              "    <tr>\n",
              "      <th>149</th>\n",
              "      <td>0</td>\n",
              "      <td>0</td>\n",
              "      <td>1</td>\n",
              "      <td>1</td>\n",
              "      <td>Iris-virginica</td>\n",
              "    </tr>\n",
              "    <tr>\n",
              "      <th>40</th>\n",
              "      <td>0</td>\n",
              "      <td>1</td>\n",
              "      <td>0</td>\n",
              "      <td>0</td>\n",
              "      <td>Iris-setosa</td>\n",
              "    </tr>\n",
              "    <tr>\n",
              "      <th>100</th>\n",
              "      <td>1</td>\n",
              "      <td>1</td>\n",
              "      <td>1</td>\n",
              "      <td>1</td>\n",
              "      <td>Iris-virginica</td>\n",
              "    </tr>\n",
              "  </tbody>\n",
              "</table>\n",
              "</div>\n",
              "      <button class=\"colab-df-convert\" onclick=\"convertToInteractive('df-be55098a-591c-45e4-965b-2e8236e99386')\"\n",
              "              title=\"Convert this dataframe to an interactive table.\"\n",
              "              style=\"display:none;\">\n",
              "        \n",
              "  <svg xmlns=\"http://www.w3.org/2000/svg\" height=\"24px\"viewBox=\"0 0 24 24\"\n",
              "       width=\"24px\">\n",
              "    <path d=\"M0 0h24v24H0V0z\" fill=\"none\"/>\n",
              "    <path d=\"M18.56 5.44l.94 2.06.94-2.06 2.06-.94-2.06-.94-.94-2.06-.94 2.06-2.06.94zm-11 1L8.5 8.5l.94-2.06 2.06-.94-2.06-.94L8.5 2.5l-.94 2.06-2.06.94zm10 10l.94 2.06.94-2.06 2.06-.94-2.06-.94-.94-2.06-.94 2.06-2.06.94z\"/><path d=\"M17.41 7.96l-1.37-1.37c-.4-.4-.92-.59-1.43-.59-.52 0-1.04.2-1.43.59L10.3 9.45l-7.72 7.72c-.78.78-.78 2.05 0 2.83L4 21.41c.39.39.9.59 1.41.59.51 0 1.02-.2 1.41-.59l7.78-7.78 2.81-2.81c.8-.78.8-2.07 0-2.86zM5.41 20L4 18.59l7.72-7.72 1.47 1.35L5.41 20z\"/>\n",
              "  </svg>\n",
              "      </button>\n",
              "      \n",
              "  <style>\n",
              "    .colab-df-container {\n",
              "      display:flex;\n",
              "      flex-wrap:wrap;\n",
              "      gap: 12px;\n",
              "    }\n",
              "\n",
              "    .colab-df-convert {\n",
              "      background-color: #E8F0FE;\n",
              "      border: none;\n",
              "      border-radius: 50%;\n",
              "      cursor: pointer;\n",
              "      display: none;\n",
              "      fill: #1967D2;\n",
              "      height: 32px;\n",
              "      padding: 0 0 0 0;\n",
              "      width: 32px;\n",
              "    }\n",
              "\n",
              "    .colab-df-convert:hover {\n",
              "      background-color: #E2EBFA;\n",
              "      box-shadow: 0px 1px 2px rgba(60, 64, 67, 0.3), 0px 1px 3px 1px rgba(60, 64, 67, 0.15);\n",
              "      fill: #174EA6;\n",
              "    }\n",
              "\n",
              "    [theme=dark] .colab-df-convert {\n",
              "      background-color: #3B4455;\n",
              "      fill: #D2E3FC;\n",
              "    }\n",
              "\n",
              "    [theme=dark] .colab-df-convert:hover {\n",
              "      background-color: #434B5C;\n",
              "      box-shadow: 0px 1px 3px 1px rgba(0, 0, 0, 0.15);\n",
              "      filter: drop-shadow(0px 1px 2px rgba(0, 0, 0, 0.3));\n",
              "      fill: #FFFFFF;\n",
              "    }\n",
              "  </style>\n",
              "\n",
              "      <script>\n",
              "        const buttonEl =\n",
              "          document.querySelector('#df-be55098a-591c-45e4-965b-2e8236e99386 button.colab-df-convert');\n",
              "        buttonEl.style.display =\n",
              "          google.colab.kernel.accessAllowed ? 'block' : 'none';\n",
              "\n",
              "        async function convertToInteractive(key) {\n",
              "          const element = document.querySelector('#df-be55098a-591c-45e4-965b-2e8236e99386');\n",
              "          const dataTable =\n",
              "            await google.colab.kernel.invokeFunction('convertToInteractive',\n",
              "                                                     [key], {});\n",
              "          if (!dataTable) return;\n",
              "\n",
              "          const docLinkHtml = 'Like what you see? Visit the ' +\n",
              "            '<a target=\"_blank\" href=https://colab.research.google.com/notebooks/data_table.ipynb>data table notebook</a>'\n",
              "            + ' to learn more about interactive tables.';\n",
              "          element.innerHTML = '';\n",
              "          dataTable['output_type'] = 'display_data';\n",
              "          await google.colab.output.renderOutput(dataTable, element);\n",
              "          const docLink = document.createElement('div');\n",
              "          docLink.innerHTML = docLinkHtml;\n",
              "          element.appendChild(docLink);\n",
              "        }\n",
              "      </script>\n",
              "    </div>\n",
              "  </div>\n",
              "  "
            ]
          },
          "metadata": {},
          "execution_count": 176
        }
      ]
    },
    {
      "cell_type": "code",
      "source": [
        "# calculate the proportion of results where the value is on or above mean that are of the species Iris-virginica\n",
        "def get_prop(df, column):\n",
        "  df1 = df[(df[column] == 1) & (df['species'] == 'Iris-virginica')]\n",
        "  df_all = df[df[column] == 1]\n",
        "  prop = df1[column].count() / df_all[column].count()\n",
        "  return  prop\n",
        "\n",
        "virginica_sep_len_abo = get_prop(train, 'sepal-length')\n",
        "virginica_sep_wid_abo = get_prop(train, 'sepal-width')\n",
        "virginica_pet_len_abo = get_prop(train, 'petal-length')\n",
        "virginica_pet_wid_abo = get_prop(train, 'petal-width')\n",
        "\n",
        "print('the probability of sepal-length on or above in Iris-virginica:', virginica_sep_len_abo)\n",
        "print('the probability of sepal-width on or above in Iris-virginica:', virginica_sep_wid_abo)\n",
        "print('the probability of petal-length on or above in Iris-virginica:', virginica_pet_len_abo)\n",
        "print('the probability of petal-width on or above in Iris-virginica:', virginica_pet_wid_abo)\n"
      ],
      "metadata": {
        "colab": {
          "base_uri": "https://localhost:8080/"
        },
        "id": "jWO_jWjEmtT5",
        "outputId": "1f41d5a3-13cc-438b-e5e2-48dfbd09ee64"
      },
      "execution_count": null,
      "outputs": [
        {
          "output_type": "stream",
          "name": "stdout",
          "text": [
            "the probability of sepal-length on or above in Iris-virginica: 0.6346153846153846\n",
            "the probability of sepal-width on or above in Iris-virginica: 0.28888888888888886\n",
            "the probability of petal-length on or above in Iris-virginica: 0.5373134328358209\n",
            "the probability of petal-width on or above in Iris-virginica: 0.5714285714285714\n"
          ]
        }
      ]
    },
    {
      "cell_type": "markdown",
      "metadata": {
        "id": "M-HgetRIxJpx"
      },
      "source": [
        "### Exercise 5 - Calculate the proportion of each column where the value is below median that are of species `Iris-virginica`\n",
        "\n",
        "Repeat the code above, this time looking for values below the mean"
      ]
    },
    {
      "cell_type": "code",
      "metadata": {
        "id": "sMvl5HFuxpwS",
        "colab": {
          "base_uri": "https://localhost:8080/"
        },
        "outputId": "b8e23b5a-ff25-4f1a-bb46-1b4c1cf63311"
      },
      "source": [
        "# calculate the proportion of results where the value is below median that are of the species Iris-virginica\n",
        "def get_prop_below(df, column):\n",
        "  df1 = df[(df[column] == 0) & (df['species'] == 'Iris-virginica')]\n",
        "  df_all = df[df[column] == 0]\n",
        "  prop = df1[column].count() / df_all[column].count()\n",
        "  return  prop\n",
        "\n",
        "virginica_sep_len_below = get_prop_below(train, 'sepal-length')\n",
        "virginica_sep_wid_below = get_prop_below(train, 'sepal-width')\n",
        "virginica_pet_len_below = get_prop_below(train, 'petal-length')\n",
        "virginica_pet_wid_below = get_prop_below(train, 'petal-width')\n",
        "\n",
        "print('the probability of sepal-length below in Iris-virginica:', virginica_sep_len_below)\n",
        "print('the probability of sepal-width below in Iris-virginica:', virginica_sep_wid_below)\n",
        "print('the probability of petal-length below in Iris-virginica:', virginica_pet_len_below)\n",
        "print('the probability of petal-width below in Iris-virginica:', virginica_pet_wid_below)\n",
        "\n"
      ],
      "execution_count": null,
      "outputs": [
        {
          "output_type": "stream",
          "name": "stdout",
          "text": [
            "the probability of sepal-length below in Iris-virginica: 0.05660377358490566\n",
            "the probability of sepal-width below in Iris-virginica: 0.38333333333333336\n",
            "the probability of petal-length below in Iris-virginica: 0.0\n",
            "the probability of petal-width below in Iris-virginica: 0.0\n"
          ]
        }
      ]
    },
    {
      "cell_type": "markdown",
      "metadata": {
        "id": "09zWalzsOZrt"
      },
      "source": [
        "### Exercise 5 - calculate for the other two Iris species\n",
        "---\n",
        "\n",
        "Do the same calculations for the Iris-versicolor species, then for the Iris-setosa species.\n",
        "\n",
        "\n",
        "\n",
        "\n"
      ]
    },
    {
      "cell_type": "code",
      "source": [
        "def get_prop_abo(df, column, species):\n",
        "  df1 = df[(df[column] == 1) & (df['species'] == species)]\n",
        "  df_all = df[df[column] == 1]\n",
        "  prop = df1[column].count() / df_all[column].count()\n",
        "  return  prop\n",
        "\n",
        "def get_prop_below(df, column, species):\n",
        "  df1 = df[(df[column] == 0) & (df['species'] == species )]\n",
        "  df_all = df[df[column] == 0]\n",
        "  prop = df1[column].count() / df_all[column].count()\n",
        "  return  prop\n",
        "\n"
      ],
      "metadata": {
        "id": "HGlq_2x6fEfa"
      },
      "execution_count": null,
      "outputs": []
    },
    {
      "cell_type": "code",
      "source": [
        "# 'Iris-setosa' on or above\n",
        "setosa_sep_len_abo = get_prop_abo(train, 'sepal-length', 'Iris-setosa')\n",
        "setosa_sep_wid_abo = get_prop_abo(train, 'sepal-width', 'Iris-setosa')\n",
        "setosa_pet_len_abo = get_prop_abo(train, 'petal-length', 'Iris-setosa')\n",
        "setosa_pet_wid_abo = get_prop_abo(train, 'petal-width', 'Iris-setosa')\n",
        "\n",
        "print('the probability of sepal-length on or above in Iris-setosa:', setosa_sep_len_abo)\n",
        "print('the probability of sepal-width on or above in Iris-setosa:', setosa_sep_wid_abo)\n",
        "print('the probability of petal-length on or above in Iris-setosa:', setosa_pet_len_abo)\n",
        "print('the probability of petal-width on or above in Iris-setosa:', setosa_pet_wid_abo)\n",
        "\n",
        "#'Iris-setosa' below\n",
        "setosa_sep_len_below = get_prop_below(train, 'sepal-length','Iris-setosa')\n",
        "setosa_sep_wid_below = get_prop_below(train, 'sepal-width','Iris-setosa')\n",
        "setosa_pet_len_below = get_prop_below(train, 'petal-length', 'Iris-setosa')\n",
        "setosa_pet_wid_below = get_prop_below(train, 'petal-width', 'Iris-setosa')\n",
        "\n",
        "print('the probability of sepal-length below in Iris-setosa:', setosa_sep_len_below)\n",
        "print('the probability of sepal-width below in Iris-setosa:', setosa_sep_wid_below)\n",
        "print('the probability of petal-length below in Iris-setosa:', setosa_pet_len_below)\n",
        "print('the probability of petal-width below in Iris-setosa:', setosa_pet_wid_below)\n"
      ],
      "metadata": {
        "colab": {
          "base_uri": "https://localhost:8080/"
        },
        "id": "oJT2TmBWLKD_",
        "outputId": "7c8ba361-393d-4539-8bcd-47df67d56de8"
      },
      "execution_count": null,
      "outputs": [
        {
          "output_type": "stream",
          "name": "stdout",
          "text": [
            "the probability of sepal-length on or above in Iris-setosa: 0.0\n",
            "the probability of sepal-width on or above in Iris-setosa: 0.5777777777777777\n",
            "the probability of petal-length on or above in Iris-setosa: 0.0\n",
            "the probability of petal-width on or above in Iris-setosa: 0.0\n",
            "the probability of sepal-length below in Iris-setosa: 0.5849056603773585\n",
            "the probability of sepal-width below in Iris-setosa: 0.08333333333333333\n",
            "the probability of petal-length below in Iris-setosa: 0.8157894736842105\n",
            "the probability of petal-width below in Iris-setosa: 0.7380952380952381\n"
          ]
        }
      ]
    },
    {
      "cell_type": "code",
      "source": [
        "#versicolor on or above\n",
        "versi_sep_len_abo = get_prop_abo(train, 'sepal-length', 'Iris-versicolor')\n",
        "versi_sep_wid_abo = get_prop_abo(train, 'sepal-width','Iris-versicolor')\n",
        "versi_pet_len_abo = get_prop_abo(train, 'petal-length', 'Iris-versicolor')\n",
        "versi_pet_wid_abo = get_prop_abo(train, 'petal-width', 'Iris-versicolor')\n",
        "\n",
        "print('the probability of sepal-length on or above in Iris-versicolor:', versi_sep_len_abo)\n",
        "print('the probability of sepal-width on or above in Iris-versicolor:', versi_sep_wid_abo)\n",
        "print('the probability of petal-length on or above in Iris-versicolor:', versi_pet_len_abo)\n",
        "print('the probability of petal-width on or above in Iris-versicolor:', versi_pet_wid_abo)\n",
        "\n",
        "#versicolor below\n",
        "versi_sep_len_below = get_prop_below(train, 'sepal-length','Iris-versicolor')\n",
        "versi_sep_wid_below = get_prop_below(train, 'sepal-width','Iris-versicolor')\n",
        "versi_pet_len_below = get_prop_below(train, 'petal-length','Iris-versicolor')\n",
        "versi_pet_wid_below = get_prop_below(train, 'petal-width','Iris-versicolor')\n",
        "\n",
        "print('the probability of sepal-length below in Iris-versicolor:', versi_sep_len_below)\n",
        "print('the probability of sepal-width below in Iris-versicolor:', versi_sep_wid_below)\n",
        "print('the probability of petal-length below in Iris-versicolor:', versi_pet_len_below)\n",
        "print('the probability of petal-width below in Iris-versicolor:', versi_pet_wid_below)\n",
        "\n"
      ],
      "metadata": {
        "colab": {
          "base_uri": "https://localhost:8080/"
        },
        "id": "wErTkaGRe-D5",
        "outputId": "8a6b80a5-0f85-436f-d100-1de982d9ddce"
      },
      "execution_count": null,
      "outputs": [
        {
          "output_type": "stream",
          "name": "stdout",
          "text": [
            "the probability of sepal-length on or above in Iris-versicolor: 0.36538461538461536\n",
            "the probability of sepal-width on or above in Iris-versicolor: 0.13333333333333333\n",
            "the probability of petal-length on or above in Iris-versicolor: 0.4626865671641791\n",
            "the probability of petal-width on or above in Iris-versicolor: 0.42857142857142855\n",
            "the probability of sepal-length below in Iris-versicolor: 0.3584905660377358\n",
            "the probability of sepal-width below in Iris-versicolor: 0.5333333333333333\n",
            "the probability of petal-length below in Iris-versicolor: 0.18421052631578946\n",
            "the probability of petal-width below in Iris-versicolor: 0.2619047619047619\n"
          ]
        }
      ]
    },
    {
      "cell_type": "markdown",
      "metadata": {
        "id": "5Ix6Hh0Uy9MS"
      },
      "source": [
        "### Exercise 6 - predict from the results\n",
        "---\n",
        "\n",
        "Create a list of dictionaries from the results Exercise 4 and 5 (e.g. {'species':..., 'above_mean': 0.xx, 'below_mean': 0.xx}  \n",
        "\n",
        "Then use a loop to go through the list and print:  \n",
        "*  any species and indicator (above or below mean) that can reliably be predicted.  A reliable prediction may be one over 0.5"
      ]
    },
    {
      "cell_type": "code",
      "metadata": {
        "id": "FPvXa8x81re7",
        "colab": {
          "base_uri": "https://localhost:8080/",
          "height": 300
        },
        "outputId": "a65a57d5-6a8a-4568-9f6d-7261eac2e3e1"
      },
      "source": [
        "# show which columns are reliable predictors\n",
        "sep_len_abo = [virginica_sep_len_abo,setosa_sep_len_abo, versi_sep_len_abo ]\n",
        "sep_wid_abo = [virginica_sep_wid_abo,setosa_sep_wid_abo, versi_sep_wid_abo ]\n",
        "pet_len_abo = [virginica_pet_len_abo,setosa_pet_len_abo, versi_pet_len_abo ]\n",
        "pet_wid_abo = [virginica_pet_wid_abo,setosa_pet_wid_abo, versi_pet_wid_abo ]\n",
        "\n",
        "sep_len_below = [virginica_sep_len_below,setosa_sep_len_below, versi_sep_len_below ]\n",
        "sep_wid_below = [virginica_sep_wid_below,setosa_sep_wid_below, versi_sep_wid_below ]\n",
        "pet_len_below = [virginica_pet_len_below,setosa_pet_len_below, versi_pet_len_below]\n",
        "pet_wid_below = [virginica_pet_wid_below,setosa_pet_wid_below, versi_pet_wid_below ]\n",
        "\n",
        "iris_predict = pd.DataFrame([sep_len_abo,sep_wid_abo,pet_len_abo,pet_wid_abo,sep_len_below,sep_wid_below,pet_len_below,pet_wid_below])\n",
        "iris_predict.index = ['sep_len_abo','sep_wid_abo','pet_len_abo','pet_wid_abo','sep_len_below','sep_wid_below','pet_len_below','pet_wid_below']\n",
        "iris_predict.columns = ['Iris-virginica', 'Iris-setosa','Iris-versicolor']\n",
        "iris_predict"
      ],
      "execution_count": null,
      "outputs": [
        {
          "output_type": "execute_result",
          "data": {
            "text/plain": [
              "               Iris-virginica  Iris-setosa  Iris-versicolor\n",
              "sep_len_abo          0.634615     0.000000         0.365385\n",
              "sep_wid_abo          0.288889     0.577778         0.133333\n",
              "pet_len_abo          0.537313     0.000000         0.462687\n",
              "pet_wid_abo          0.571429     0.000000         0.428571\n",
              "sep_len_below        0.056604     0.584906         0.358491\n",
              "sep_wid_below        0.383333     0.083333         0.533333\n",
              "pet_len_below        0.000000     0.815789         0.184211\n",
              "pet_wid_below        0.000000     0.738095         0.261905"
            ],
            "text/html": [
              "\n",
              "  <div id=\"df-6393b42b-29e8-48de-a137-7a4243f7e7f3\">\n",
              "    <div class=\"colab-df-container\">\n",
              "      <div>\n",
              "<style scoped>\n",
              "    .dataframe tbody tr th:only-of-type {\n",
              "        vertical-align: middle;\n",
              "    }\n",
              "\n",
              "    .dataframe tbody tr th {\n",
              "        vertical-align: top;\n",
              "    }\n",
              "\n",
              "    .dataframe thead th {\n",
              "        text-align: right;\n",
              "    }\n",
              "</style>\n",
              "<table border=\"1\" class=\"dataframe\">\n",
              "  <thead>\n",
              "    <tr style=\"text-align: right;\">\n",
              "      <th></th>\n",
              "      <th>Iris-virginica</th>\n",
              "      <th>Iris-setosa</th>\n",
              "      <th>Iris-versicolor</th>\n",
              "    </tr>\n",
              "  </thead>\n",
              "  <tbody>\n",
              "    <tr>\n",
              "      <th>sep_len_abo</th>\n",
              "      <td>0.634615</td>\n",
              "      <td>0.000000</td>\n",
              "      <td>0.365385</td>\n",
              "    </tr>\n",
              "    <tr>\n",
              "      <th>sep_wid_abo</th>\n",
              "      <td>0.288889</td>\n",
              "      <td>0.577778</td>\n",
              "      <td>0.133333</td>\n",
              "    </tr>\n",
              "    <tr>\n",
              "      <th>pet_len_abo</th>\n",
              "      <td>0.537313</td>\n",
              "      <td>0.000000</td>\n",
              "      <td>0.462687</td>\n",
              "    </tr>\n",
              "    <tr>\n",
              "      <th>pet_wid_abo</th>\n",
              "      <td>0.571429</td>\n",
              "      <td>0.000000</td>\n",
              "      <td>0.428571</td>\n",
              "    </tr>\n",
              "    <tr>\n",
              "      <th>sep_len_below</th>\n",
              "      <td>0.056604</td>\n",
              "      <td>0.584906</td>\n",
              "      <td>0.358491</td>\n",
              "    </tr>\n",
              "    <tr>\n",
              "      <th>sep_wid_below</th>\n",
              "      <td>0.383333</td>\n",
              "      <td>0.083333</td>\n",
              "      <td>0.533333</td>\n",
              "    </tr>\n",
              "    <tr>\n",
              "      <th>pet_len_below</th>\n",
              "      <td>0.000000</td>\n",
              "      <td>0.815789</td>\n",
              "      <td>0.184211</td>\n",
              "    </tr>\n",
              "    <tr>\n",
              "      <th>pet_wid_below</th>\n",
              "      <td>0.000000</td>\n",
              "      <td>0.738095</td>\n",
              "      <td>0.261905</td>\n",
              "    </tr>\n",
              "  </tbody>\n",
              "</table>\n",
              "</div>\n",
              "      <button class=\"colab-df-convert\" onclick=\"convertToInteractive('df-6393b42b-29e8-48de-a137-7a4243f7e7f3')\"\n",
              "              title=\"Convert this dataframe to an interactive table.\"\n",
              "              style=\"display:none;\">\n",
              "        \n",
              "  <svg xmlns=\"http://www.w3.org/2000/svg\" height=\"24px\"viewBox=\"0 0 24 24\"\n",
              "       width=\"24px\">\n",
              "    <path d=\"M0 0h24v24H0V0z\" fill=\"none\"/>\n",
              "    <path d=\"M18.56 5.44l.94 2.06.94-2.06 2.06-.94-2.06-.94-.94-2.06-.94 2.06-2.06.94zm-11 1L8.5 8.5l.94-2.06 2.06-.94-2.06-.94L8.5 2.5l-.94 2.06-2.06.94zm10 10l.94 2.06.94-2.06 2.06-.94-2.06-.94-.94-2.06-.94 2.06-2.06.94z\"/><path d=\"M17.41 7.96l-1.37-1.37c-.4-.4-.92-.59-1.43-.59-.52 0-1.04.2-1.43.59L10.3 9.45l-7.72 7.72c-.78.78-.78 2.05 0 2.83L4 21.41c.39.39.9.59 1.41.59.51 0 1.02-.2 1.41-.59l7.78-7.78 2.81-2.81c.8-.78.8-2.07 0-2.86zM5.41 20L4 18.59l7.72-7.72 1.47 1.35L5.41 20z\"/>\n",
              "  </svg>\n",
              "      </button>\n",
              "      \n",
              "  <style>\n",
              "    .colab-df-container {\n",
              "      display:flex;\n",
              "      flex-wrap:wrap;\n",
              "      gap: 12px;\n",
              "    }\n",
              "\n",
              "    .colab-df-convert {\n",
              "      background-color: #E8F0FE;\n",
              "      border: none;\n",
              "      border-radius: 50%;\n",
              "      cursor: pointer;\n",
              "      display: none;\n",
              "      fill: #1967D2;\n",
              "      height: 32px;\n",
              "      padding: 0 0 0 0;\n",
              "      width: 32px;\n",
              "    }\n",
              "\n",
              "    .colab-df-convert:hover {\n",
              "      background-color: #E2EBFA;\n",
              "      box-shadow: 0px 1px 2px rgba(60, 64, 67, 0.3), 0px 1px 3px 1px rgba(60, 64, 67, 0.15);\n",
              "      fill: #174EA6;\n",
              "    }\n",
              "\n",
              "    [theme=dark] .colab-df-convert {\n",
              "      background-color: #3B4455;\n",
              "      fill: #D2E3FC;\n",
              "    }\n",
              "\n",
              "    [theme=dark] .colab-df-convert:hover {\n",
              "      background-color: #434B5C;\n",
              "      box-shadow: 0px 1px 3px 1px rgba(0, 0, 0, 0.15);\n",
              "      filter: drop-shadow(0px 1px 2px rgba(0, 0, 0, 0.3));\n",
              "      fill: #FFFFFF;\n",
              "    }\n",
              "  </style>\n",
              "\n",
              "      <script>\n",
              "        const buttonEl =\n",
              "          document.querySelector('#df-6393b42b-29e8-48de-a137-7a4243f7e7f3 button.colab-df-convert');\n",
              "        buttonEl.style.display =\n",
              "          google.colab.kernel.accessAllowed ? 'block' : 'none';\n",
              "\n",
              "        async function convertToInteractive(key) {\n",
              "          const element = document.querySelector('#df-6393b42b-29e8-48de-a137-7a4243f7e7f3');\n",
              "          const dataTable =\n",
              "            await google.colab.kernel.invokeFunction('convertToInteractive',\n",
              "                                                     [key], {});\n",
              "          if (!dataTable) return;\n",
              "\n",
              "          const docLinkHtml = 'Like what you see? Visit the ' +\n",
              "            '<a target=\"_blank\" href=https://colab.research.google.com/notebooks/data_table.ipynb>data table notebook</a>'\n",
              "            + ' to learn more about interactive tables.';\n",
              "          element.innerHTML = '';\n",
              "          dataTable['output_type'] = 'display_data';\n",
              "          await google.colab.output.renderOutput(dataTable, element);\n",
              "          const docLink = document.createElement('div');\n",
              "          docLink.innerHTML = docLinkHtml;\n",
              "          element.appendChild(docLink);\n",
              "        }\n",
              "      </script>\n",
              "    </div>\n",
              "  </div>\n",
              "  "
            ]
          },
          "metadata": {},
          "execution_count": 182
        }
      ]
    },
    {
      "cell_type": "markdown",
      "source": [
        "if\n",
        "petal-wid >= mean (1) & petal-len (1) >= mean \n",
        "--- virginica\n",
        "\n",
        "if \n",
        "petal-wid < mean & petal len < mean & sep-len < mean \n",
        "==== setosa\n",
        "\n"
      ],
      "metadata": {
        "id": "ztn8AigoOR0U"
      }
    },
    {
      "cell_type": "markdown",
      "source": [
        "virginica: petal lenth & petal wid are larger than the mean of each.\n",
        "setosa: petal length & petal width & sep length are smaller than the mean of each.\n"
      ],
      "metadata": {
        "id": "RMEeinZMGYHT"
      }
    },
    {
      "cell_type": "code",
      "source": [
        "def predict_value(df, column):\n",
        "  index = df.index\n",
        "  n = 0\n",
        "  for value in df[column]:\n",
        "    n = n+1\n",
        "    if value >= 0.5:\n",
        "      print('reliable:', value, column, index[n-1],)\n",
        "    else:\n",
        "      print('not reliable')\n",
        "\n",
        "  return \n",
        "\n",
        "predict_value(iris_predict, 'Iris-virginica' )\n",
        "predict_value(iris_predict, 'Iris-setosa' )\n",
        "predict_value(iris_predict, 'Iris-versicolor' )\n",
        "  \n",
        " "
      ],
      "metadata": {
        "colab": {
          "base_uri": "https://localhost:8080/"
        },
        "id": "Flt6Jb_0rLWn",
        "outputId": "2222ea72-d85a-4a12-b703-85bee326d7d9"
      },
      "execution_count": null,
      "outputs": [
        {
          "output_type": "stream",
          "name": "stdout",
          "text": [
            "reliable: 0.6346153846153846 Iris-virginica sep_len_abo\n",
            "not reliable\n",
            "reliable: 0.5373134328358209 Iris-virginica pet_len_abo\n",
            "reliable: 0.5714285714285714 Iris-virginica pet_wid_abo\n",
            "not reliable\n",
            "not reliable\n",
            "not reliable\n",
            "not reliable\n",
            "not reliable\n",
            "reliable: 0.5777777777777777 Iris-setosa sep_wid_abo\n",
            "not reliable\n",
            "not reliable\n",
            "reliable: 0.5849056603773585 Iris-setosa sep_len_below\n",
            "not reliable\n",
            "reliable: 0.8157894736842105 Iris-setosa pet_len_below\n",
            "reliable: 0.7380952380952381 Iris-setosa pet_wid_below\n",
            "not reliable\n",
            "not reliable\n",
            "not reliable\n",
            "not reliable\n",
            "not reliable\n",
            "reliable: 0.5333333333333333 Iris-versicolor sep_wid_below\n",
            "not reliable\n",
            "not reliable\n"
          ]
        }
      ]
    },
    {
      "cell_type": "code",
      "source": [
        "# decision tree\n",
        "\n",
        "def get_decision_tree(df):\n",
        "  if df['petal-width'] == 0 and df['petal-length'] == 0:\n",
        "    return 'Iris-virginica'\n",
        "    if df['petal-length'] == 1 and df['petal-width'] == 1 and df['sepal-length'] == 1:\n",
        "      return 'Iris-setosa'\n",
        "         \n",
        "  return 'Iris-versicolor'\n",
        "\n",
        "# use the get_species(df) function to predict the species, count how many are predicted correct and use this to calculate the proportion correct\n",
        "correct = 0\n",
        "test_size = test.shape[0]\n",
        "for i in range(0, test_size):\n",
        "  species = get_species(test.iloc[i])\n",
        "  if species == test.iloc[i]['species']:\n",
        "      correct += 1\n",
        "\n",
        "print (\"Proportion correctly identified\", correct / test_size) \n",
        "\n"
      ],
      "metadata": {
        "id": "0agyPJD-PJfV",
        "colab": {
          "base_uri": "https://localhost:8080/"
        },
        "outputId": "e889ffd7-4cfe-42bb-bbe2-e4bfd78eef20"
      },
      "execution_count": null,
      "outputs": [
        {
          "output_type": "stream",
          "name": "stdout",
          "text": [
            "Proportion correctly identified 0.3111111111111111\n"
          ]
        }
      ]
    },
    {
      "cell_type": "markdown",
      "metadata": {
        "id": "ws2TxeRrnIJ4"
      },
      "source": [
        "### Exercise 6 - Make a decision tree\n",
        "---\n",
        "\n",
        "Use pencil and paper or a graphical application to create a decision tree for Iris-virginica, using the following rules (use the picture below as a guide):\n",
        "\n",
        "*  The column with the highest indicator is placed at the top\n",
        "*  Other columns are placed in order below\n",
        "*  The rest of the columns are placed in order below these\n",
        "\n",
        "Any column where one branch (on or above mean OR below mean) has an indicator of 0, could be classified as a strong indicator of Iris_virginica being the species.  Anything else, unless there is something very close to 0, could be classified as a weak indicator of Iris_virginica being the species.\n",
        "\n",
        "Let's code the decision tree using the following logic for this decision tree (yours might be slightly different):\n",
        "\n",
        "![Decision tree](https://drive.google.com/uc?id=1CTo23EHwR2IPCRjcfSyCQsT_oQ5Exwso)\n",
        "\n",
        "In the decision tree above, there is no certainty below petal-length so our decision tree will only include petal-width and petal-length.\n",
        "\n",
        "\n"
      ]
    },
    {
      "cell_type": "code",
      "metadata": {
        "colab": {
          "base_uri": "https://localhost:8080/"
        },
        "id": "tkCCL0ERDife",
        "outputId": "b3dbff3b-9c7e-4ce8-a277-50238dc27b47"
      },
      "source": [
        "def get_species(df):\n",
        "  # ADD CODE HERE TO RETURN None if petal-width is below mean (encoded as 0) or if petal-length is below mean (encoded as 0), otherwise return 'Iris-virginia'\n",
        "    if df['petal-width'] == 0:\n",
        "        return None\n",
        "        if df['petal-length'] == 0:\n",
        "            return None\n",
        "          \n",
        "    return 'Iris-virginica' \n",
        "\n",
        "# use the get_species(df) function to predict the species, count how many are predicted correct and use this to calculate the proportion correct\n",
        "correct = 0\n",
        "test_size = test.shape[0]\n",
        "for i in range(0, test_size):\n",
        "  species = get_species(test.iloc[i])\n",
        "  if species == test.iloc[i]['species']:\n",
        "      correct += 1\n",
        "\n",
        "print (\"Proportion correctly identified\", correct / test_size) \n"
      ],
      "execution_count": null,
      "outputs": [
        {
          "output_type": "stream",
          "name": "stdout",
          "text": [
            "Proportion correctly identified 0.3111111111111111\n"
          ]
        }
      ]
    },
    {
      "cell_type": "markdown",
      "metadata": {
        "id": "-2tQcT5ILtxl"
      },
      "source": [
        "### Exercise 7 - change the measure\n",
        "\n",
        "We are currently using the mean to act as the decision making line.  We can use the decision tree with a different line.\n",
        "\n",
        "Change the mean values so that you are instead using the median instead for all four columns.  The code should not need changing except for where you calculated the mean.\n",
        "\n",
        "Run all the code again.  Is the proportion of correct values better this time?   Is the decision tree still appropriate?\n"
      ]
    },
    {
      "cell_type": "code",
      "source": [
        "import pandas as pd\n",
        "url = \"https://raw.githubusercontent.com/jbrownlee/Datasets/master/iris.csv\"\n",
        "names = ['sepal-length', 'sepal-width', 'petal-length', 'petal-width', 'species']\n",
        "iris_data = pd.read_csv(url, names=names)\n",
        "\n"
      ],
      "metadata": {
        "id": "hAmGDDung7Sq"
      },
      "execution_count": 215,
      "outputs": []
    },
    {
      "cell_type": "code",
      "source": [
        "# import the train_test_split function\n",
        "from sklearn.model_selection import train_test_split\n",
        "\n",
        "# create the classification variables from the all columns\n",
        "train_1, test = train_test_split(iris_data, test_size=0.30)\n",
        "train.dropna(inplace = True)\n"
      ],
      "metadata": {
        "id": "hVqoxM0chFEQ"
      },
      "execution_count": 216,
      "outputs": []
    },
    {
      "cell_type": "code",
      "source": [
        "from plotnine import *\n",
        "ggplot(train_1, aes(x='petal-length', y='petal-width', color='species')) + geom_point() + geom_vline(train_1, aes(xintercept=train_1['sepal-length'].median(), color='species')) + geom_hline(train_1, aes(yintercept=train_1['sepal-length'].median(), color='species'))"
      ],
      "metadata": {
        "colab": {
          "base_uri": "https://localhost:8080/",
          "height": 499
        },
        "id": "E-j64VWzo88d",
        "outputId": "e95dd42b-92b0-46ce-ce73-f369f1cda491"
      },
      "execution_count": 222,
      "outputs": [
        {
          "output_type": "stream",
          "name": "stderr",
          "text": [
            "/usr/local/lib/python3.7/dist-packages/plotnine/utils.py:1246: FutureWarning: is_categorical is deprecated and will be removed in a future version.  Use is_categorical_dtype instead\n",
            "  if pdtypes.is_categorical(arr):\n"
          ]
        },
        {
          "output_type": "display_data",
          "data": {
            "text/plain": [
              "<Figure size 640x480 with 1 Axes>"
            ],
            "image/png": "[encoded data removed]"
          },
          "metadata": {}
        },
        {
          "output_type": "execute_result",
          "data": {
            "text/plain": [
              "<ggplot: (8781212316761)>"
            ]
          },
          "metadata": {},
          "execution_count": 222
        }
      ]
    },
    {
      "cell_type": "code",
      "source": [
        "def encode_iris(df, **kwds):\n",
        "  indicator = kwds['indicator']\n",
        "  key = kwds['key']\n",
        "  if df[key] >= indicator:\n",
        "    return 1\n",
        "  else:\n",
        "    return 0\n",
        "\n",
        "train = train_1.copy()\n",
        "# run the function for each column so that each of the four columns are encoded, then drop the original columns, saving as a new dataframe\n",
        "train['sepal-length'] = train.apply(encode_iris, axis=1, key='sepal-length', indicator=train['sepal-length'].median())\n",
        "train['sepal-width'] = train.apply(encode_iris, axis=1, key='sepal-width', indicator=train['sepal-width'].median())\n",
        "train['petal-length'] = train.apply(encode_iris, axis=1, key='petal-length', indicator=train['petal-length'].median())\n",
        "train['petal-width'] = train.apply(encode_iris, axis=1, key='petal-width', indicator=train['petal-width'].median())\n",
        "\n"
      ],
      "metadata": {
        "id": "hGsgi-pFfxzf"
      },
      "execution_count": 218,
      "outputs": []
    },
    {
      "cell_type": "code",
      "source": [
        "def get_prop_abo(df, column, species):\n",
        "  df1 = df[(df[column] == 1) & (df['species'] == species)]\n",
        "  df_all = df[df[column] == 1]\n",
        "  prop = df1[column].count() / df_all[column].count()\n",
        "  return  prop\n",
        "\n",
        "def get_prop_below(df, column, species):\n",
        "  df1 = df[(df[column] == 0) & (df['species'] == species )]\n",
        "  df_all = df[df[column] == 0]\n",
        "  prop = df1[column].count() / df_all[column].count()\n",
        "  return  prop\n",
        "\n"
      ],
      "metadata": {
        "id": "TXpDhPSfmCy3"
      },
      "execution_count": 219,
      "outputs": []
    },
    {
      "cell_type": "code",
      "source": [
        "# 'Iris-setosa' on or above\n",
        "setosa_sep_len_abo = get_prop_abo(train, 'sepal-length', 'Iris-setosa')\n",
        "setosa_sep_wid_abo = get_prop_abo(train, 'sepal-width', 'Iris-setosa')\n",
        "setosa_pet_len_abo = get_prop_abo(train, 'petal-length', 'Iris-setosa')\n",
        "setosa_pet_wid_abo = get_prop_abo(train, 'petal-width', 'Iris-setosa')\n",
        "\n",
        "#'Iris-setosa' below\n",
        "setosa_sep_len_below = get_prop_below(train, 'sepal-length','Iris-setosa')\n",
        "setosa_sep_wid_below = get_prop_below(train, 'sepal-width','Iris-setosa')\n",
        "setosa_pet_len_below = get_prop_below(train, 'petal-length', 'Iris-setosa')\n",
        "setosa_pet_wid_below = get_prop_below(train, 'petal-width', 'Iris-setosa')\n",
        "\n",
        "#versicolor on or above\n",
        "versi_sep_len_abo = get_prop_abo(train, 'sepal-length', 'Iris-versicolor')\n",
        "versi_sep_wid_abo = get_prop_abo(train, 'sepal-width','Iris-versicolor')\n",
        "versi_pet_len_abo = get_prop_abo(train, 'petal-length', 'Iris-versicolor')\n",
        "versi_pet_wid_abo = get_prop_abo(train, 'petal-width', 'Iris-versicolor')\n",
        "\n",
        "#versicolor below\n",
        "versi_sep_len_below = get_prop_below(train, 'sepal-length','Iris-versicolor')\n",
        "versi_sep_wid_below = get_prop_below(train, 'sepal-width','Iris-versicolor')\n",
        "versi_pet_len_below = get_prop_below(train, 'petal-length','Iris-versicolor')\n",
        "versi_pet_wid_below = get_prop_below(train, 'petal-width','Iris-versicolor')\n",
        "\n",
        "#virginica on or above\n",
        "virginica_sep_len_abo = get_prop_abo(train, 'sepal-length','Iris-virginica')\n",
        "virginica_sep_wid_abo = get_prop_abo(train, 'sepal-width','Iris-virginica')\n",
        "virginica_pet_len_abo = get_prop_abo(train, 'petal-length','Iris-virginica')\n",
        "virginica_pet_wid_abo = get_prop_abo(train, 'petal-width','Iris-virginica')\n",
        "\n",
        "#virginica below\n",
        "virginica_sep_len_below = get_prop_below(train, 'sepal-length', 'Iris-virginica')\n",
        "virginica_sep_wid_below = get_prop_below(train, 'sepal-width','Iris-virginica')\n",
        "virginica_pet_len_below = get_prop_below(train, 'petal-length','Iris-virginica')\n",
        "virginica_pet_wid_below = get_prop_below(train, 'petal-width','Iris-virginica')\n"
      ],
      "metadata": {
        "id": "IjNmMCwZmK_Z"
      },
      "execution_count": 220,
      "outputs": []
    },
    {
      "cell_type": "code",
      "source": [
        "sep_len_abo = [virginica_sep_len_abo,setosa_sep_len_abo, versi_sep_len_abo ]\n",
        "sep_wid_abo = [virginica_sep_wid_abo,setosa_sep_wid_abo, versi_sep_wid_abo ]\n",
        "pet_len_abo = [virginica_pet_len_abo,setosa_pet_len_abo, versi_pet_len_abo ]\n",
        "pet_wid_abo = [virginica_pet_wid_abo,setosa_pet_wid_abo, versi_pet_wid_abo ]\n",
        "\n",
        "sep_len_below = [virginica_sep_len_below,setosa_sep_len_below, versi_sep_len_below ]\n",
        "sep_wid_below = [virginica_sep_wid_below,setosa_sep_wid_below, versi_sep_wid_below ]\n",
        "pet_len_below = [virginica_pet_len_below,setosa_pet_len_below, versi_pet_len_below]\n",
        "pet_wid_below = [virginica_pet_wid_below,setosa_pet_wid_below, versi_pet_wid_below ]\n",
        "\n",
        "iris_predict = pd.DataFrame([sep_len_abo,sep_wid_abo,pet_len_abo,pet_wid_abo,sep_len_below,sep_wid_below,pet_len_below,pet_wid_below])\n",
        "iris_predict.index = ['sep_len_abo','sep_wid_abo','pet_len_abo','pet_wid_abo','sep_len_below','sep_wid_below','pet_len_below','pet_wid_below']\n",
        "iris_predict.columns = ['Iris-virginica', 'Iris-setosa','Iris-versicolor']\n",
        "iris_predict"
      ],
      "metadata": {
        "colab": {
          "base_uri": "https://localhost:8080/",
          "height": 300
        },
        "id": "Rm_luRQlm6pu",
        "outputId": "95bb5194-3d46-412d-9f32-f7b57fe68f74"
      },
      "execution_count": 221,
      "outputs": [
        {
          "output_type": "execute_result",
          "data": {
            "text/plain": [
              "               Iris-virginica  Iris-setosa  Iris-versicolor\n",
              "sep_len_abo          0.679245     0.000000         0.320755\n",
              "sep_wid_abo          0.384615     0.430769         0.184615\n",
              "pet_len_abo          0.701754     0.000000         0.298246\n",
              "pet_wid_abo          0.701754     0.000000         0.298246\n",
              "sep_len_below        0.076923     0.576923         0.346154\n",
              "sep_wid_below        0.375000     0.050000         0.575000\n",
              "pet_len_below        0.000000     0.625000         0.375000\n",
              "pet_wid_below        0.000000     0.625000         0.375000"
            ],
            "text/html": [
              "\n",
              "  <div id=\"df-61528363-753d-43b8-a6b3-45b8f8972843\">\n",
              "    <div class=\"colab-df-container\">\n",
              "      <div>\n",
              "<style scoped>\n",
              "    .dataframe tbody tr th:only-of-type {\n",
              "        vertical-align: middle;\n",
              "    }\n",
              "\n",
              "    .dataframe tbody tr th {\n",
              "        vertical-align: top;\n",
              "    }\n",
              "\n",
              "    .dataframe thead th {\n",
              "        text-align: right;\n",
              "    }\n",
              "</style>\n",
              "<table border=\"1\" class=\"dataframe\">\n",
              "  <thead>\n",
              "    <tr style=\"text-align: right;\">\n",
              "      <th></th>\n",
              "      <th>Iris-virginica</th>\n",
              "      <th>Iris-setosa</th>\n",
              "      <th>Iris-versicolor</th>\n",
              "    </tr>\n",
              "  </thead>\n",
              "  <tbody>\n",
              "    <tr>\n",
              "      <th>sep_len_abo</th>\n",
              "      <td>0.679245</td>\n",
              "      <td>0.000000</td>\n",
              "      <td>0.320755</td>\n",
              "    </tr>\n",
              "    <tr>\n",
              "      <th>sep_wid_abo</th>\n",
              "      <td>0.384615</td>\n",
              "      <td>0.430769</td>\n",
              "      <td>0.184615</td>\n",
              "    </tr>\n",
              "    <tr>\n",
              "      <th>pet_len_abo</th>\n",
              "      <td>0.701754</td>\n",
              "      <td>0.000000</td>\n",
              "      <td>0.298246</td>\n",
              "    </tr>\n",
              "    <tr>\n",
              "      <th>pet_wid_abo</th>\n",
              "      <td>0.701754</td>\n",
              "      <td>0.000000</td>\n",
              "      <td>0.298246</td>\n",
              "    </tr>\n",
              "    <tr>\n",
              "      <th>sep_len_below</th>\n",
              "      <td>0.076923</td>\n",
              "      <td>0.576923</td>\n",
              "      <td>0.346154</td>\n",
              "    </tr>\n",
              "    <tr>\n",
              "      <th>sep_wid_below</th>\n",
              "      <td>0.375000</td>\n",
              "      <td>0.050000</td>\n",
              "      <td>0.575000</td>\n",
              "    </tr>\n",
              "    <tr>\n",
              "      <th>pet_len_below</th>\n",
              "      <td>0.000000</td>\n",
              "      <td>0.625000</td>\n",
              "      <td>0.375000</td>\n",
              "    </tr>\n",
              "    <tr>\n",
              "      <th>pet_wid_below</th>\n",
              "      <td>0.000000</td>\n",
              "      <td>0.625000</td>\n",
              "      <td>0.375000</td>\n",
              "    </tr>\n",
              "  </tbody>\n",
              "</table>\n",
              "</div>\n",
              "      <button class=\"colab-df-convert\" onclick=\"convertToInteractive('df-61528363-753d-43b8-a6b3-45b8f8972843')\"\n",
              "              title=\"Convert this dataframe to an interactive table.\"\n",
              "              style=\"display:none;\">\n",
              "        \n",
              "  <svg xmlns=\"http://www.w3.org/2000/svg\" height=\"24px\"viewBox=\"0 0 24 24\"\n",
              "       width=\"24px\">\n",
              "    <path d=\"M0 0h24v24H0V0z\" fill=\"none\"/>\n",
              "    <path d=\"M18.56 5.44l.94 2.06.94-2.06 2.06-.94-2.06-.94-.94-2.06-.94 2.06-2.06.94zm-11 1L8.5 8.5l.94-2.06 2.06-.94-2.06-.94L8.5 2.5l-.94 2.06-2.06.94zm10 10l.94 2.06.94-2.06 2.06-.94-2.06-.94-.94-2.06-.94 2.06-2.06.94z\"/><path d=\"M17.41 7.96l-1.37-1.37c-.4-.4-.92-.59-1.43-.59-.52 0-1.04.2-1.43.59L10.3 9.45l-7.72 7.72c-.78.78-.78 2.05 0 2.83L4 21.41c.39.39.9.59 1.41.59.51 0 1.02-.2 1.41-.59l7.78-7.78 2.81-2.81c.8-.78.8-2.07 0-2.86zM5.41 20L4 18.59l7.72-7.72 1.47 1.35L5.41 20z\"/>\n",
              "  </svg>\n",
              "      </button>\n",
              "      \n",
              "  <style>\n",
              "    .colab-df-container {\n",
              "      display:flex;\n",
              "      flex-wrap:wrap;\n",
              "      gap: 12px;\n",
              "    }\n",
              "\n",
              "    .colab-df-convert {\n",
              "      background-color: #E8F0FE;\n",
              "      border: none;\n",
              "      border-radius: 50%;\n",
              "      cursor: pointer;\n",
              "      display: none;\n",
              "      fill: #1967D2;\n",
              "      height: 32px;\n",
              "      padding: 0 0 0 0;\n",
              "      width: 32px;\n",
              "    }\n",
              "\n",
              "    .colab-df-convert:hover {\n",
              "      background-color: #E2EBFA;\n",
              "      box-shadow: 0px 1px 2px rgba(60, 64, 67, 0.3), 0px 1px 3px 1px rgba(60, 64, 67, 0.15);\n",
              "      fill: #174EA6;\n",
              "    }\n",
              "\n",
              "    [theme=dark] .colab-df-convert {\n",
              "      background-color: #3B4455;\n",
              "      fill: #D2E3FC;\n",
              "    }\n",
              "\n",
              "    [theme=dark] .colab-df-convert:hover {\n",
              "      background-color: #434B5C;\n",
              "      box-shadow: 0px 1px 3px 1px rgba(0, 0, 0, 0.15);\n",
              "      filter: drop-shadow(0px 1px 2px rgba(0, 0, 0, 0.3));\n",
              "      fill: #FFFFFF;\n",
              "    }\n",
              "  </style>\n",
              "\n",
              "      <script>\n",
              "        const buttonEl =\n",
              "          document.querySelector('#df-61528363-753d-43b8-a6b3-45b8f8972843 button.colab-df-convert');\n",
              "        buttonEl.style.display =\n",
              "          google.colab.kernel.accessAllowed ? 'block' : 'none';\n",
              "\n",
              "        async function convertToInteractive(key) {\n",
              "          const element = document.querySelector('#df-61528363-753d-43b8-a6b3-45b8f8972843');\n",
              "          const dataTable =\n",
              "            await google.colab.kernel.invokeFunction('convertToInteractive',\n",
              "                                                     [key], {});\n",
              "          if (!dataTable) return;\n",
              "\n",
              "          const docLinkHtml = 'Like what you see? Visit the ' +\n",
              "            '<a target=\"_blank\" href=https://colab.research.google.com/notebooks/data_table.ipynb>data table notebook</a>'\n",
              "            + ' to learn more about interactive tables.';\n",
              "          element.innerHTML = '';\n",
              "          dataTable['output_type'] = 'display_data';\n",
              "          await google.colab.output.renderOutput(dataTable, element);\n",
              "          const docLink = document.createElement('div');\n",
              "          docLink.innerHTML = docLinkHtml;\n",
              "          element.appendChild(docLink);\n",
              "        }\n",
              "      </script>\n",
              "    </div>\n",
              "  </div>\n",
              "  "
            ]
          },
          "metadata": {},
          "execution_count": 221
        }
      ]
    },
    {
      "cell_type": "markdown",
      "metadata": {
        "id": "WimD4E5zNub1"
      },
      "source": [
        "What do you notice? (write your answer here)"
      ]
    },
    {
      "cell_type": "markdown",
      "source": [
        "It is the same as Mean."
      ],
      "metadata": {
        "id": "IsJvoVuypcMD"
      }
    },
    {
      "cell_type": "markdown",
      "metadata": {
        "id": "6WoHQeYLNyk8"
      },
      "source": [
        "### Exercise 8 - try different measures\n",
        "---\n",
        "\n",
        "Do the same again but with upper quantile, then again with the lower quantile.  Is it making any difference?  Which give the best looking results?"
      ]
    },
    {
      "cell_type": "code",
      "source": [
        "#upper quantile\n",
        "\n",
        "train = train_1.copy()\n",
        "# run the function for each column so that each of the four columns are encoded, then drop the original columns, saving as a new dataframe\n",
        "train['sepal-length'] = train.apply(encode_iris, axis=1, key='sepal-length', indicator=train['sepal-length'].quantile(0.75))\n",
        "train['sepal-width'] = train.apply(encode_iris, axis=1, key='sepal-width', indicator=train['sepal-width'].quantile(0.75))\n",
        "train['petal-length'] = train.apply(encode_iris, axis=1, key='petal-length', indicator=train['petal-length'].quantile(0.75))\n",
        "train['petal-width'] = train.apply(encode_iris, axis=1, key='petal-width', indicator=train['petal-width'].quantile(0.75))\n"
      ],
      "metadata": {
        "id": "3FyoDsIhqHWl"
      },
      "execution_count": 223,
      "outputs": []
    },
    {
      "cell_type": "code",
      "source": [
        "# 'Iris-setosa' on or above\n",
        "setosa_sep_len_abo = get_prop_abo(train, 'sepal-length', 'Iris-setosa')\n",
        "setosa_sep_wid_abo = get_prop_abo(train, 'sepal-width', 'Iris-setosa')\n",
        "setosa_pet_len_abo = get_prop_abo(train, 'petal-length', 'Iris-setosa')\n",
        "setosa_pet_wid_abo = get_prop_abo(train, 'petal-width', 'Iris-setosa')\n",
        "\n",
        "#'Iris-setosa' below\n",
        "setosa_sep_len_below = get_prop_below(train, 'sepal-length','Iris-setosa')\n",
        "setosa_sep_wid_below = get_prop_below(train, 'sepal-width','Iris-setosa')\n",
        "setosa_pet_len_below = get_prop_below(train, 'petal-length', 'Iris-setosa')\n",
        "setosa_pet_wid_below = get_prop_below(train, 'petal-width', 'Iris-setosa')\n",
        "\n",
        "#versicolor on or above\n",
        "versi_sep_len_abo = get_prop_abo(train, 'sepal-length', 'Iris-versicolor')\n",
        "versi_sep_wid_abo = get_prop_abo(train, 'sepal-width','Iris-versicolor')\n",
        "versi_pet_len_abo = get_prop_abo(train, 'petal-length', 'Iris-versicolor')\n",
        "versi_pet_wid_abo = get_prop_abo(train, 'petal-width', 'Iris-versicolor')\n",
        "\n",
        "#versicolor below\n",
        "versi_sep_len_below = get_prop_below(train, 'sepal-length','Iris-versicolor')\n",
        "versi_sep_wid_below = get_prop_below(train, 'sepal-width','Iris-versicolor')\n",
        "versi_pet_len_below = get_prop_below(train, 'petal-length','Iris-versicolor')\n",
        "versi_pet_wid_below = get_prop_below(train, 'petal-width','Iris-versicolor')\n",
        "\n",
        "#virginica on or above\n",
        "virginica_sep_len_abo = get_prop_abo(train, 'sepal-length','Iris-virginica')\n",
        "virginica_sep_wid_abo = get_prop_abo(train, 'sepal-width','Iris-virginica')\n",
        "virginica_pet_len_abo = get_prop_abo(train, 'petal-length','Iris-virginica')\n",
        "virginica_pet_wid_abo = get_prop_abo(train, 'petal-width','Iris-virginica')\n",
        "\n",
        "#virginica below\n",
        "virginica_sep_len_below = get_prop_below(train, 'sepal-length', 'Iris-virginica')\n",
        "virginica_sep_wid_below = get_prop_below(train, 'sepal-width','Iris-virginica')\n",
        "virginica_pet_len_below = get_prop_below(train, 'petal-length','Iris-virginica')\n",
        "virginica_pet_wid_below = get_prop_below(train, 'petal-width','Iris-virginica')\n"
      ],
      "metadata": {
        "id": "Zuyd3k6_qaGC"
      },
      "execution_count": 224,
      "outputs": []
    },
    {
      "cell_type": "code",
      "source": [
        "sep_len_abo = [virginica_sep_len_abo,setosa_sep_len_abo, versi_sep_len_abo ]\n",
        "sep_wid_abo = [virginica_sep_wid_abo,setosa_sep_wid_abo, versi_sep_wid_abo ]\n",
        "pet_len_abo = [virginica_pet_len_abo,setosa_pet_len_abo, versi_pet_len_abo ]\n",
        "pet_wid_abo = [virginica_pet_wid_abo,setosa_pet_wid_abo, versi_pet_wid_abo ]\n",
        "\n",
        "sep_len_below = [virginica_sep_len_below,setosa_sep_len_below, versi_sep_len_below ]\n",
        "sep_wid_below = [virginica_sep_wid_below,setosa_sep_wid_below, versi_sep_wid_below ]\n",
        "pet_len_below = [virginica_pet_len_below,setosa_pet_len_below, versi_pet_len_below]\n",
        "pet_wid_below = [virginica_pet_wid_below,setosa_pet_wid_below, versi_pet_wid_below ]\n",
        "\n",
        "iris_predict = pd.DataFrame([sep_len_abo,sep_wid_abo,pet_len_abo,pet_wid_abo,sep_len_below,sep_wid_below,pet_len_below,pet_wid_below])\n",
        "iris_predict.index = ['sep_len_abo','sep_wid_abo','pet_len_abo','pet_wid_abo','sep_len_below','sep_wid_below','pet_len_below','pet_wid_below']\n",
        "iris_predict.columns = ['Iris-virginica', 'Iris-setosa','Iris-versicolor']\n",
        "iris_predict"
      ],
      "metadata": {
        "colab": {
          "base_uri": "https://localhost:8080/",
          "height": 300
        },
        "id": "cYfeakYtqiZH",
        "outputId": "68170a78-dff1-46a1-81c5-b2c9ac5bf204"
      },
      "execution_count": 225,
      "outputs": [
        {
          "output_type": "execute_result",
          "data": {
            "text/plain": [
              "               Iris-virginica  Iris-setosa  Iris-versicolor\n",
              "sep_len_abo          0.777778     0.000000         0.222222\n",
              "sep_wid_abo          0.305556     0.583333         0.111111\n",
              "pet_len_abo          1.000000     0.000000         0.000000\n",
              "pet_wid_abo          1.000000     0.000000         0.000000\n",
              "sep_len_below        0.243590     0.384615         0.371795\n",
              "sep_wid_below        0.420290     0.130435         0.449275\n",
              "pet_len_below        0.166667     0.384615         0.448718\n",
              "pet_wid_below        0.166667     0.384615         0.448718"
            ],
            "text/html": [
              "\n",
              "  <div id=\"df-22d32668-cb44-4d7e-89ec-a1da82a82672\">\n",
              "    <div class=\"colab-df-container\">\n",
              "      <div>\n",
              "<style scoped>\n",
              "    .dataframe tbody tr th:only-of-type {\n",
              "        vertical-align: middle;\n",
              "    }\n",
              "\n",
              "    .dataframe tbody tr th {\n",
              "        vertical-align: top;\n",
              "    }\n",
              "\n",
              "    .dataframe thead th {\n",
              "        text-align: right;\n",
              "    }\n",
              "</style>\n",
              "<table border=\"1\" class=\"dataframe\">\n",
              "  <thead>\n",
              "    <tr style=\"text-align: right;\">\n",
              "      <th></th>\n",
              "      <th>Iris-virginica</th>\n",
              "      <th>Iris-setosa</th>\n",
              "      <th>Iris-versicolor</th>\n",
              "    </tr>\n",
              "  </thead>\n",
              "  <tbody>\n",
              "    <tr>\n",
              "      <th>sep_len_abo</th>\n",
              "      <td>0.777778</td>\n",
              "      <td>0.000000</td>\n",
              "      <td>0.222222</td>\n",
              "    </tr>\n",
              "    <tr>\n",
              "      <th>sep_wid_abo</th>\n",
              "      <td>0.305556</td>\n",
              "      <td>0.583333</td>\n",
              "      <td>0.111111</td>\n",
              "    </tr>\n",
              "    <tr>\n",
              "      <th>pet_len_abo</th>\n",
              "      <td>1.000000</td>\n",
              "      <td>0.000000</td>\n",
              "      <td>0.000000</td>\n",
              "    </tr>\n",
              "    <tr>\n",
              "      <th>pet_wid_abo</th>\n",
              "      <td>1.000000</td>\n",
              "      <td>0.000000</td>\n",
              "      <td>0.000000</td>\n",
              "    </tr>\n",
              "    <tr>\n",
              "      <th>sep_len_below</th>\n",
              "      <td>0.243590</td>\n",
              "      <td>0.384615</td>\n",
              "      <td>0.371795</td>\n",
              "    </tr>\n",
              "    <tr>\n",
              "      <th>sep_wid_below</th>\n",
              "      <td>0.420290</td>\n",
              "      <td>0.130435</td>\n",
              "      <td>0.449275</td>\n",
              "    </tr>\n",
              "    <tr>\n",
              "      <th>pet_len_below</th>\n",
              "      <td>0.166667</td>\n",
              "      <td>0.384615</td>\n",
              "      <td>0.448718</td>\n",
              "    </tr>\n",
              "    <tr>\n",
              "      <th>pet_wid_below</th>\n",
              "      <td>0.166667</td>\n",
              "      <td>0.384615</td>\n",
              "      <td>0.448718</td>\n",
              "    </tr>\n",
              "  </tbody>\n",
              "</table>\n",
              "</div>\n",
              "      <button class=\"colab-df-convert\" onclick=\"convertToInteractive('df-22d32668-cb44-4d7e-89ec-a1da82a82672')\"\n",
              "              title=\"Convert this dataframe to an interactive table.\"\n",
              "              style=\"display:none;\">\n",
              "        \n",
              "  <svg xmlns=\"http://www.w3.org/2000/svg\" height=\"24px\"viewBox=\"0 0 24 24\"\n",
              "       width=\"24px\">\n",
              "    <path d=\"M0 0h24v24H0V0z\" fill=\"none\"/>\n",
              "    <path d=\"M18.56 5.44l.94 2.06.94-2.06 2.06-.94-2.06-.94-.94-2.06-.94 2.06-2.06.94zm-11 1L8.5 8.5l.94-2.06 2.06-.94-2.06-.94L8.5 2.5l-.94 2.06-2.06.94zm10 10l.94 2.06.94-2.06 2.06-.94-2.06-.94-.94-2.06-.94 2.06-2.06.94z\"/><path d=\"M17.41 7.96l-1.37-1.37c-.4-.4-.92-.59-1.43-.59-.52 0-1.04.2-1.43.59L10.3 9.45l-7.72 7.72c-.78.78-.78 2.05 0 2.83L4 21.41c.39.39.9.59 1.41.59.51 0 1.02-.2 1.41-.59l7.78-7.78 2.81-2.81c.8-.78.8-2.07 0-2.86zM5.41 20L4 18.59l7.72-7.72 1.47 1.35L5.41 20z\"/>\n",
              "  </svg>\n",
              "      </button>\n",
              "      \n",
              "  <style>\n",
              "    .colab-df-container {\n",
              "      display:flex;\n",
              "      flex-wrap:wrap;\n",
              "      gap: 12px;\n",
              "    }\n",
              "\n",
              "    .colab-df-convert {\n",
              "      background-color: #E8F0FE;\n",
              "      border: none;\n",
              "      border-radius: 50%;\n",
              "      cursor: pointer;\n",
              "      display: none;\n",
              "      fill: #1967D2;\n",
              "      height: 32px;\n",
              "      padding: 0 0 0 0;\n",
              "      width: 32px;\n",
              "    }\n",
              "\n",
              "    .colab-df-convert:hover {\n",
              "      background-color: #E2EBFA;\n",
              "      box-shadow: 0px 1px 2px rgba(60, 64, 67, 0.3), 0px 1px 3px 1px rgba(60, 64, 67, 0.15);\n",
              "      fill: #174EA6;\n",
              "    }\n",
              "\n",
              "    [theme=dark] .colab-df-convert {\n",
              "      background-color: #3B4455;\n",
              "      fill: #D2E3FC;\n",
              "    }\n",
              "\n",
              "    [theme=dark] .colab-df-convert:hover {\n",
              "      background-color: #434B5C;\n",
              "      box-shadow: 0px 1px 3px 1px rgba(0, 0, 0, 0.15);\n",
              "      filter: drop-shadow(0px 1px 2px rgba(0, 0, 0, 0.3));\n",
              "      fill: #FFFFFF;\n",
              "    }\n",
              "  </style>\n",
              "\n",
              "      <script>\n",
              "        const buttonEl =\n",
              "          document.querySelector('#df-22d32668-cb44-4d7e-89ec-a1da82a82672 button.colab-df-convert');\n",
              "        buttonEl.style.display =\n",
              "          google.colab.kernel.accessAllowed ? 'block' : 'none';\n",
              "\n",
              "        async function convertToInteractive(key) {\n",
              "          const element = document.querySelector('#df-22d32668-cb44-4d7e-89ec-a1da82a82672');\n",
              "          const dataTable =\n",
              "            await google.colab.kernel.invokeFunction('convertToInteractive',\n",
              "                                                     [key], {});\n",
              "          if (!dataTable) return;\n",
              "\n",
              "          const docLinkHtml = 'Like what you see? Visit the ' +\n",
              "            '<a target=\"_blank\" href=https://colab.research.google.com/notebooks/data_table.ipynb>data table notebook</a>'\n",
              "            + ' to learn more about interactive tables.';\n",
              "          element.innerHTML = '';\n",
              "          dataTable['output_type'] = 'display_data';\n",
              "          await google.colab.output.renderOutput(dataTable, element);\n",
              "          const docLink = document.createElement('div');\n",
              "          docLink.innerHTML = docLinkHtml;\n",
              "          element.appendChild(docLink);\n",
              "        }\n",
              "      </script>\n",
              "    </div>\n",
              "  </div>\n",
              "  "
            ]
          },
          "metadata": {},
          "execution_count": 225
        }
      ]
    },
    {
      "cell_type": "markdown",
      "source": [
        "If petal length and the petal width are both greater than upper quantile, it is virginica. \n",
        "\n",
        "If septal lenth, petal length, and petal width are all smaller than upper quantile, it is setosa.\n",
        "\n",
        "The rest is versicolor."
      ],
      "metadata": {
        "id": "MVka-WLzqww6"
      }
    },
    {
      "cell_type": "code",
      "source": [
        "# decision tree\n",
        "\n",
        "def get_decision_tree(df):\n",
        "  if df['petal-width'] == 1 and df['petal-length'] == 1:\n",
        "    return 'Iris-virginica'\n",
        "    if df['petal-length'] == 0 and df['petal-width'] == 0 and df['sepal-length'] == 0:\n",
        "      return 'Iris-setosa'\n",
        "         \n",
        "  return 'Iris-versicolor'\n",
        "\n",
        "# use the get_species(df) function to predict the species, count how many are predicted correct and use this to calculate the proportion correct\n",
        "correct = 0\n",
        "test_size = test.shape[0]\n",
        "for i in range(0, test_size):\n",
        "  species = get_species(test.iloc[i])\n",
        "  if species == test.iloc[i]['species']:\n",
        "      correct += 1\n",
        "\n",
        "print (\"Proportion correctly identified\", correct / test_size) \n",
        "\n"
      ],
      "metadata": {
        "colab": {
          "base_uri": "https://localhost:8080/"
        },
        "id": "FkSZ7tqxtfD0",
        "outputId": "e15bb605-422f-4583-daf8-ca8867a8133d"
      },
      "execution_count": 229,
      "outputs": [
        {
          "output_type": "stream",
          "name": "stdout",
          "text": [
            "Proportion correctly identified 0.4444444444444444\n"
          ]
        }
      ]
    },
    {
      "cell_type": "code",
      "source": [
        "#lower quantile\n",
        "\n",
        "train = train_1.copy()\n",
        "# run the function for each column so that each of the four columns are encoded, then drop the original columns, saving as a new dataframe\n",
        "train['sepal-length'] = train.apply(encode_iris, axis=1, key='sepal-length', indicator=train['sepal-length'].quantile(0.25))\n",
        "train['sepal-width'] = train.apply(encode_iris, axis=1, key='sepal-width', indicator=train['sepal-width'].quantile(0.25))\n",
        "train['petal-length'] = train.apply(encode_iris, axis=1, key='petal-length', indicator=train['petal-length'].quantile(0.25))\n",
        "train['petal-width'] = train.apply(encode_iris, axis=1, key='petal-width', indicator=train['petal-width'].quantile(0.25))\n"
      ],
      "metadata": {
        "id": "4Lr33GX_rgWm"
      },
      "execution_count": 231,
      "outputs": []
    },
    {
      "cell_type": "code",
      "source": [
        "# 'Iris-setosa' on or above\n",
        "setosa_sep_len_abo = get_prop_abo(train, 'sepal-length', 'Iris-setosa')\n",
        "setosa_sep_wid_abo = get_prop_abo(train, 'sepal-width', 'Iris-setosa')\n",
        "setosa_pet_len_abo = get_prop_abo(train, 'petal-length', 'Iris-setosa')\n",
        "setosa_pet_wid_abo = get_prop_abo(train, 'petal-width', 'Iris-setosa')\n",
        "\n",
        "#'Iris-setosa' below\n",
        "setosa_sep_len_below = get_prop_below(train, 'sepal-length','Iris-setosa')\n",
        "setosa_sep_wid_below = get_prop_below(train, 'sepal-width','Iris-setosa')\n",
        "setosa_pet_len_below = get_prop_below(train, 'petal-length', 'Iris-setosa')\n",
        "setosa_pet_wid_below = get_prop_below(train, 'petal-width', 'Iris-setosa')\n",
        "\n",
        "#versicolor on or above\n",
        "versi_sep_len_abo = get_prop_abo(train, 'sepal-length', 'Iris-versicolor')\n",
        "versi_sep_wid_abo = get_prop_abo(train, 'sepal-width','Iris-versicolor')\n",
        "versi_pet_len_abo = get_prop_abo(train, 'petal-length', 'Iris-versicolor')\n",
        "versi_pet_wid_abo = get_prop_abo(train, 'petal-width', 'Iris-versicolor')\n",
        "\n",
        "#versicolor below\n",
        "versi_sep_len_below = get_prop_below(train, 'sepal-length','Iris-versicolor')\n",
        "versi_sep_wid_below = get_prop_below(train, 'sepal-width','Iris-versicolor')\n",
        "versi_pet_len_below = get_prop_below(train, 'petal-length','Iris-versicolor')\n",
        "versi_pet_wid_below = get_prop_below(train, 'petal-width','Iris-versicolor')\n",
        "\n",
        "#virginica on or above\n",
        "virginica_sep_len_abo = get_prop_abo(train, 'sepal-length','Iris-virginica')\n",
        "virginica_sep_wid_abo = get_prop_abo(train, 'sepal-width','Iris-virginica')\n",
        "virginica_pet_len_abo = get_prop_abo(train, 'petal-length','Iris-virginica')\n",
        "virginica_pet_wid_abo = get_prop_abo(train, 'petal-width','Iris-virginica')\n",
        "\n",
        "#virginica below\n",
        "virginica_sep_len_below = get_prop_below(train, 'sepal-length', 'Iris-virginica')\n",
        "virginica_sep_wid_below = get_prop_below(train, 'sepal-width','Iris-virginica')\n",
        "virginica_pet_len_below = get_prop_below(train, 'petal-length','Iris-virginica')\n",
        "virginica_pet_wid_below = get_prop_below(train, 'petal-width','Iris-virginica')\n"
      ],
      "metadata": {
        "id": "0V6N3af5rpbw"
      },
      "execution_count": 232,
      "outputs": []
    },
    {
      "cell_type": "code",
      "source": [
        "sep_len_abo = [virginica_sep_len_abo,setosa_sep_len_abo, versi_sep_len_abo ]\n",
        "sep_wid_abo = [virginica_sep_wid_abo,setosa_sep_wid_abo, versi_sep_wid_abo ]\n",
        "pet_len_abo = [virginica_pet_len_abo,setosa_pet_len_abo, versi_pet_len_abo ]\n",
        "pet_wid_abo = [virginica_pet_wid_abo,setosa_pet_wid_abo, versi_pet_wid_abo ]\n",
        "\n",
        "sep_len_below = [virginica_sep_len_below,setosa_sep_len_below, versi_sep_len_below ]\n",
        "sep_wid_below = [virginica_sep_wid_below,setosa_sep_wid_below, versi_sep_wid_below ]\n",
        "pet_len_below = [virginica_pet_len_below,setosa_pet_len_below, versi_pet_len_below]\n",
        "pet_wid_below = [virginica_pet_wid_below,setosa_pet_wid_below, versi_pet_wid_below ]\n",
        "\n",
        "iris_predict = pd.DataFrame([sep_len_abo,sep_wid_abo,pet_len_abo,pet_wid_abo,sep_len_below,sep_wid_below,pet_len_below,pet_wid_below])\n",
        "iris_predict.index = ['sep_len_abo','sep_wid_abo','pet_len_abo','pet_wid_abo','sep_len_below','sep_wid_below','pet_len_below','pet_wid_below']\n",
        "iris_predict.columns = ['Iris-virginica', 'Iris-setosa','Iris-versicolor']\n",
        "iris_predict"
      ],
      "metadata": {
        "colab": {
          "base_uri": "https://localhost:8080/",
          "height": 300
        },
        "id": "NQq4GnshrqCQ",
        "outputId": "c932ccb1-ab29-4a12-f07d-7ba076664cd2"
      },
      "execution_count": 233,
      "outputs": [
        {
          "output_type": "execute_result",
          "data": {
            "text/plain": [
              "               Iris-virginica  Iris-setosa  Iris-versicolor\n",
              "sep_len_abo          0.493671     0.113924         0.392405\n",
              "sep_wid_abo          0.395062     0.358025         0.246914\n",
              "pet_len_abo          0.493827     0.074074         0.432099\n",
              "pet_wid_abo          0.500000     0.062500         0.437500\n",
              "sep_len_below        0.038462     0.807692         0.153846\n",
              "sep_wid_below        0.333333     0.041667         0.625000\n",
              "pet_len_below        0.000000     1.000000         0.000000\n",
              "pet_wid_below        0.000000     1.000000         0.000000"
            ],
            "text/html": [
              "\n",
              "  <div id=\"df-415830ce-149f-4775-a719-1a8a5649e8ed\">\n",
              "    <div class=\"colab-df-container\">\n",
              "      <div>\n",
              "<style scoped>\n",
              "    .dataframe tbody tr th:only-of-type {\n",
              "        vertical-align: middle;\n",
              "    }\n",
              "\n",
              "    .dataframe tbody tr th {\n",
              "        vertical-align: top;\n",
              "    }\n",
              "\n",
              "    .dataframe thead th {\n",
              "        text-align: right;\n",
              "    }\n",
              "</style>\n",
              "<table border=\"1\" class=\"dataframe\">\n",
              "  <thead>\n",
              "    <tr style=\"text-align: right;\">\n",
              "      <th></th>\n",
              "      <th>Iris-virginica</th>\n",
              "      <th>Iris-setosa</th>\n",
              "      <th>Iris-versicolor</th>\n",
              "    </tr>\n",
              "  </thead>\n",
              "  <tbody>\n",
              "    <tr>\n",
              "      <th>sep_len_abo</th>\n",
              "      <td>0.493671</td>\n",
              "      <td>0.113924</td>\n",
              "      <td>0.392405</td>\n",
              "    </tr>\n",
              "    <tr>\n",
              "      <th>sep_wid_abo</th>\n",
              "      <td>0.395062</td>\n",
              "      <td>0.358025</td>\n",
              "      <td>0.246914</td>\n",
              "    </tr>\n",
              "    <tr>\n",
              "      <th>pet_len_abo</th>\n",
              "      <td>0.493827</td>\n",
              "      <td>0.074074</td>\n",
              "      <td>0.432099</td>\n",
              "    </tr>\n",
              "    <tr>\n",
              "      <th>pet_wid_abo</th>\n",
              "      <td>0.500000</td>\n",
              "      <td>0.062500</td>\n",
              "      <td>0.437500</td>\n",
              "    </tr>\n",
              "    <tr>\n",
              "      <th>sep_len_below</th>\n",
              "      <td>0.038462</td>\n",
              "      <td>0.807692</td>\n",
              "      <td>0.153846</td>\n",
              "    </tr>\n",
              "    <tr>\n",
              "      <th>sep_wid_below</th>\n",
              "      <td>0.333333</td>\n",
              "      <td>0.041667</td>\n",
              "      <td>0.625000</td>\n",
              "    </tr>\n",
              "    <tr>\n",
              "      <th>pet_len_below</th>\n",
              "      <td>0.000000</td>\n",
              "      <td>1.000000</td>\n",
              "      <td>0.000000</td>\n",
              "    </tr>\n",
              "    <tr>\n",
              "      <th>pet_wid_below</th>\n",
              "      <td>0.000000</td>\n",
              "      <td>1.000000</td>\n",
              "      <td>0.000000</td>\n",
              "    </tr>\n",
              "  </tbody>\n",
              "</table>\n",
              "</div>\n",
              "      <button class=\"colab-df-convert\" onclick=\"convertToInteractive('df-415830ce-149f-4775-a719-1a8a5649e8ed')\"\n",
              "              title=\"Convert this dataframe to an interactive table.\"\n",
              "              style=\"display:none;\">\n",
              "        \n",
              "  <svg xmlns=\"http://www.w3.org/2000/svg\" height=\"24px\"viewBox=\"0 0 24 24\"\n",
              "       width=\"24px\">\n",
              "    <path d=\"M0 0h24v24H0V0z\" fill=\"none\"/>\n",
              "    <path d=\"M18.56 5.44l.94 2.06.94-2.06 2.06-.94-2.06-.94-.94-2.06-.94 2.06-2.06.94zm-11 1L8.5 8.5l.94-2.06 2.06-.94-2.06-.94L8.5 2.5l-.94 2.06-2.06.94zm10 10l.94 2.06.94-2.06 2.06-.94-2.06-.94-.94-2.06-.94 2.06-2.06.94z\"/><path d=\"M17.41 7.96l-1.37-1.37c-.4-.4-.92-.59-1.43-.59-.52 0-1.04.2-1.43.59L10.3 9.45l-7.72 7.72c-.78.78-.78 2.05 0 2.83L4 21.41c.39.39.9.59 1.41.59.51 0 1.02-.2 1.41-.59l7.78-7.78 2.81-2.81c.8-.78.8-2.07 0-2.86zM5.41 20L4 18.59l7.72-7.72 1.47 1.35L5.41 20z\"/>\n",
              "  </svg>\n",
              "      </button>\n",
              "      \n",
              "  <style>\n",
              "    .colab-df-container {\n",
              "      display:flex;\n",
              "      flex-wrap:wrap;\n",
              "      gap: 12px;\n",
              "    }\n",
              "\n",
              "    .colab-df-convert {\n",
              "      background-color: #E8F0FE;\n",
              "      border: none;\n",
              "      border-radius: 50%;\n",
              "      cursor: pointer;\n",
              "      display: none;\n",
              "      fill: #1967D2;\n",
              "      height: 32px;\n",
              "      padding: 0 0 0 0;\n",
              "      width: 32px;\n",
              "    }\n",
              "\n",
              "    .colab-df-convert:hover {\n",
              "      background-color: #E2EBFA;\n",
              "      box-shadow: 0px 1px 2px rgba(60, 64, 67, 0.3), 0px 1px 3px 1px rgba(60, 64, 67, 0.15);\n",
              "      fill: #174EA6;\n",
              "    }\n",
              "\n",
              "    [theme=dark] .colab-df-convert {\n",
              "      background-color: #3B4455;\n",
              "      fill: #D2E3FC;\n",
              "    }\n",
              "\n",
              "    [theme=dark] .colab-df-convert:hover {\n",
              "      background-color: #434B5C;\n",
              "      box-shadow: 0px 1px 3px 1px rgba(0, 0, 0, 0.15);\n",
              "      filter: drop-shadow(0px 1px 2px rgba(0, 0, 0, 0.3));\n",
              "      fill: #FFFFFF;\n",
              "    }\n",
              "  </style>\n",
              "\n",
              "      <script>\n",
              "        const buttonEl =\n",
              "          document.querySelector('#df-415830ce-149f-4775-a719-1a8a5649e8ed button.colab-df-convert');\n",
              "        buttonEl.style.display =\n",
              "          google.colab.kernel.accessAllowed ? 'block' : 'none';\n",
              "\n",
              "        async function convertToInteractive(key) {\n",
              "          const element = document.querySelector('#df-415830ce-149f-4775-a719-1a8a5649e8ed');\n",
              "          const dataTable =\n",
              "            await google.colab.kernel.invokeFunction('convertToInteractive',\n",
              "                                                     [key], {});\n",
              "          if (!dataTable) return;\n",
              "\n",
              "          const docLinkHtml = 'Like what you see? Visit the ' +\n",
              "            '<a target=\"_blank\" href=https://colab.research.google.com/notebooks/data_table.ipynb>data table notebook</a>'\n",
              "            + ' to learn more about interactive tables.';\n",
              "          element.innerHTML = '';\n",
              "          dataTable['output_type'] = 'display_data';\n",
              "          await google.colab.output.renderOutput(dataTable, element);\n",
              "          const docLink = document.createElement('div');\n",
              "          docLink.innerHTML = docLinkHtml;\n",
              "          element.appendChild(docLink);\n",
              "        }\n",
              "      </script>\n",
              "    </div>\n",
              "  </div>\n",
              "  "
            ]
          },
          "metadata": {},
          "execution_count": 233
        }
      ]
    },
    {
      "cell_type": "markdown",
      "source": [
        "If petal length and petal width are both smaller than lower quantile, it is setosa.\n",
        "\n",
        "If sepal width is smaller than lower quantile, it is versicolor.\n",
        "\n",
        "If petal width is greater than lower quantile, it is virginica."
      ],
      "metadata": {
        "id": "51-i2jDyrwCh"
      }
    },
    {
      "cell_type": "code",
      "source": [
        "# decision tree\n",
        "\n",
        "def get_decision_tree(df):\n",
        "  if df['petal-width'] == 0 and df['petal-length'] == 0:\n",
        "    return 'Iris-setosa'\n",
        "    if df['petal-width'] == 1:\n",
        "      return 'virginica'\n",
        "         \n",
        "  return 'Iris-versicolor'\n",
        "\n",
        "# use the get_species(df) function to predict the species, count how many are predicted correct and use this to calculate the proportion correct\n",
        "correct = 0\n",
        "test_size = test.shape[0]\n",
        "for i in range(0, test_size):\n",
        "  species = get_species(test.iloc[i])\n",
        "  if species == test.iloc[i]['species']:\n",
        "      correct += 1\n",
        "\n",
        "print (\"Proportion correctly identified\", correct / test_size) \n"
      ],
      "metadata": {
        "colab": {
          "base_uri": "https://localhost:8080/"
        },
        "id": "ToCUyo0ytx5_",
        "outputId": "0c260cec-3d33-49a0-cbb0-8fae2bc77227"
      },
      "execution_count": 234,
      "outputs": [
        {
          "output_type": "stream",
          "name": "stdout",
          "text": [
            "Proportion correctly identified 0.4444444444444444\n"
          ]
        }
      ]
    },
    {
      "cell_type": "code",
      "source": [
        "#It seems like that upper quantile is more likely to precit the results accurately."
      ],
      "metadata": {
        "id": "cajeO-BysJLP"
      },
      "execution_count": null,
      "outputs": []
    },
    {
      "cell_type": "markdown",
      "metadata": {
        "id": "8C69ns9VODh3"
      },
      "source": [
        "### Exercise 9 - try a different species\n",
        "\n",
        "Run the mean test again for the Iris-versicolor species.  Again, try some different decision making lines.\n",
        "\n",
        "What are the results.  Record them in the text cell below:"
      ]
    },
    {
      "cell_type": "markdown",
      "metadata": {
        "id": "t3oXJbqlOU0P"
      },
      "source": [
        "Write your answers here:  "
      ]
    },
    {
      "cell_type": "code",
      "source": [
        "train = train_1.copy()\n",
        "train['sepal-length'] = train.apply(encode_iris, axis=1, key='sepal-length', indicator=train['sepal-length'].mean())\n",
        "train['sepal-width'] = train.apply(encode_iris, axis=1, key='sepal-width', indicator=train['sepal-width'].mean())\n",
        "train['petal-length'] = train.apply(encode_iris, axis=1, key='petal-length', indicator=train['petal-length'].mean())\n",
        "train['petal-width'] = train.apply(encode_iris, axis=1, key='petal-width', indicator=train['petal-width'].mean())\n",
        "\n"
      ],
      "metadata": {
        "id": "YRrPh7YGuvfk"
      },
      "execution_count": 238,
      "outputs": []
    },
    {
      "cell_type": "code",
      "source": [
        "# 'Iris-setosa' on or above\n",
        "setosa_sep_len_abo = get_prop_abo(train, 'sepal-length', 'Iris-setosa')\n",
        "setosa_sep_wid_abo = get_prop_abo(train, 'sepal-width', 'Iris-setosa')\n",
        "setosa_pet_len_abo = get_prop_abo(train, 'petal-length', 'Iris-setosa')\n",
        "setosa_pet_wid_abo = get_prop_abo(train, 'petal-width', 'Iris-setosa')\n",
        "\n",
        "#'Iris-setosa' below\n",
        "setosa_sep_len_below = get_prop_below(train, 'sepal-length','Iris-setosa')\n",
        "setosa_sep_wid_below = get_prop_below(train, 'sepal-width','Iris-setosa')\n",
        "setosa_pet_len_below = get_prop_below(train, 'petal-length', 'Iris-setosa')\n",
        "setosa_pet_wid_below = get_prop_below(train, 'petal-width', 'Iris-setosa')\n",
        "\n",
        "#versicolor on or above\n",
        "versi_sep_len_abo = get_prop_abo(train, 'sepal-length', 'Iris-versicolor')\n",
        "versi_sep_wid_abo = get_prop_abo(train, 'sepal-width','Iris-versicolor')\n",
        "versi_pet_len_abo = get_prop_abo(train, 'petal-length', 'Iris-versicolor')\n",
        "versi_pet_wid_abo = get_prop_abo(train, 'petal-width', 'Iris-versicolor')\n",
        "\n",
        "#versicolor below\n",
        "versi_sep_len_below = get_prop_below(train, 'sepal-length','Iris-versicolor')\n",
        "versi_sep_wid_below = get_prop_below(train, 'sepal-width','Iris-versicolor')\n",
        "versi_pet_len_below = get_prop_below(train, 'petal-length','Iris-versicolor')\n",
        "versi_pet_wid_below = get_prop_below(train, 'petal-width','Iris-versicolor')\n",
        "\n",
        "#virginica on or above\n",
        "virginica_sep_len_abo = get_prop_abo(train, 'sepal-length','Iris-virginica')\n",
        "virginica_sep_wid_abo = get_prop_abo(train, 'sepal-width','Iris-virginica')\n",
        "virginica_pet_len_abo = get_prop_abo(train, 'petal-length','Iris-virginica')\n",
        "virginica_pet_wid_abo = get_prop_abo(train, 'petal-width','Iris-virginica')\n",
        "\n",
        "#virginica below\n",
        "virginica_sep_len_below = get_prop_below(train, 'sepal-length', 'Iris-virginica')\n",
        "virginica_sep_wid_below = get_prop_below(train, 'sepal-width','Iris-virginica')\n",
        "virginica_pet_len_below = get_prop_below(train, 'petal-length','Iris-virginica')\n",
        "virginica_pet_wid_below = get_prop_below(train, 'petal-width','Iris-virginica')\n"
      ],
      "metadata": {
        "id": "Fziwu7JYvIVz"
      },
      "execution_count": 239,
      "outputs": []
    },
    {
      "cell_type": "code",
      "source": [
        "sep_len_abo = [virginica_sep_len_abo,setosa_sep_len_abo, versi_sep_len_abo ]\n",
        "sep_wid_abo = [virginica_sep_wid_abo,setosa_sep_wid_abo, versi_sep_wid_abo ]\n",
        "pet_len_abo = [virginica_pet_len_abo,setosa_pet_len_abo, versi_pet_len_abo ]\n",
        "pet_wid_abo = [virginica_pet_wid_abo,setosa_pet_wid_abo, versi_pet_wid_abo ]\n",
        "\n",
        "sep_len_below = [virginica_sep_len_below,setosa_sep_len_below, versi_sep_len_below ]\n",
        "sep_wid_below = [virginica_sep_wid_below,setosa_sep_wid_below, versi_sep_wid_below ]\n",
        "pet_len_below = [virginica_pet_len_below,setosa_pet_len_below, versi_pet_len_below]\n",
        "pet_wid_below = [virginica_pet_wid_below,setosa_pet_wid_below, versi_pet_wid_below ]\n",
        "\n",
        "iris_predict = pd.DataFrame([sep_len_abo,sep_wid_abo,pet_len_abo,pet_wid_abo,sep_len_below,sep_wid_below,pet_len_below,pet_wid_below])\n",
        "iris_predict.index = ['sep_len_abo','sep_wid_abo','pet_len_abo','pet_wid_abo','sep_len_below','sep_wid_below','pet_len_below','pet_wid_below']\n",
        "iris_predict.columns = ['Iris-virginica', 'Iris-setosa','Iris-versicolor']\n",
        "iris_predict"
      ],
      "metadata": {
        "colab": {
          "base_uri": "https://localhost:8080/",
          "height": 300
        },
        "id": "JCoNZVSqvJKz",
        "outputId": "abee07fe-ae3b-480b-8c94-f7546dc11941"
      },
      "execution_count": 240,
      "outputs": [
        {
          "output_type": "execute_result",
          "data": {
            "text/plain": [
              "               Iris-virginica  Iris-setosa  Iris-versicolor\n",
              "sep_len_abo          0.692308     0.000000         0.307692\n",
              "sep_wid_abo          0.319149     0.531915         0.148936\n",
              "pet_len_abo          0.606061     0.000000         0.393939\n",
              "pet_wid_abo          0.625000     0.000000         0.375000\n",
              "sep_len_below        0.075472     0.566038         0.358491\n",
              "sep_wid_below        0.431034     0.086207         0.482759\n",
              "pet_len_below        0.000000     0.769231         0.230769\n",
              "pet_wid_below        0.000000     0.731707         0.268293"
            ],
            "text/html": [
              "\n",
              "  <div id=\"df-45d92b46-f720-4e9a-b3fb-6a10a91ec2b0\">\n",
              "    <div class=\"colab-df-container\">\n",
              "      <div>\n",
              "<style scoped>\n",
              "    .dataframe tbody tr th:only-of-type {\n",
              "        vertical-align: middle;\n",
              "    }\n",
              "\n",
              "    .dataframe tbody tr th {\n",
              "        vertical-align: top;\n",
              "    }\n",
              "\n",
              "    .dataframe thead th {\n",
              "        text-align: right;\n",
              "    }\n",
              "</style>\n",
              "<table border=\"1\" class=\"dataframe\">\n",
              "  <thead>\n",
              "    <tr style=\"text-align: right;\">\n",
              "      <th></th>\n",
              "      <th>Iris-virginica</th>\n",
              "      <th>Iris-setosa</th>\n",
              "      <th>Iris-versicolor</th>\n",
              "    </tr>\n",
              "  </thead>\n",
              "  <tbody>\n",
              "    <tr>\n",
              "      <th>sep_len_abo</th>\n",
              "      <td>0.692308</td>\n",
              "      <td>0.000000</td>\n",
              "      <td>0.307692</td>\n",
              "    </tr>\n",
              "    <tr>\n",
              "      <th>sep_wid_abo</th>\n",
              "      <td>0.319149</td>\n",
              "      <td>0.531915</td>\n",
              "      <td>0.148936</td>\n",
              "    </tr>\n",
              "    <tr>\n",
              "      <th>pet_len_abo</th>\n",
              "      <td>0.606061</td>\n",
              "      <td>0.000000</td>\n",
              "      <td>0.393939</td>\n",
              "    </tr>\n",
              "    <tr>\n",
              "      <th>pet_wid_abo</th>\n",
              "      <td>0.625000</td>\n",
              "      <td>0.000000</td>\n",
              "      <td>0.375000</td>\n",
              "    </tr>\n",
              "    <tr>\n",
              "      <th>sep_len_below</th>\n",
              "      <td>0.075472</td>\n",
              "      <td>0.566038</td>\n",
              "      <td>0.358491</td>\n",
              "    </tr>\n",
              "    <tr>\n",
              "      <th>sep_wid_below</th>\n",
              "      <td>0.431034</td>\n",
              "      <td>0.086207</td>\n",
              "      <td>0.482759</td>\n",
              "    </tr>\n",
              "    <tr>\n",
              "      <th>pet_len_below</th>\n",
              "      <td>0.000000</td>\n",
              "      <td>0.769231</td>\n",
              "      <td>0.230769</td>\n",
              "    </tr>\n",
              "    <tr>\n",
              "      <th>pet_wid_below</th>\n",
              "      <td>0.000000</td>\n",
              "      <td>0.731707</td>\n",
              "      <td>0.268293</td>\n",
              "    </tr>\n",
              "  </tbody>\n",
              "</table>\n",
              "</div>\n",
              "      <button class=\"colab-df-convert\" onclick=\"convertToInteractive('df-45d92b46-f720-4e9a-b3fb-6a10a91ec2b0')\"\n",
              "              title=\"Convert this dataframe to an interactive table.\"\n",
              "              style=\"display:none;\">\n",
              "        \n",
              "  <svg xmlns=\"http://www.w3.org/2000/svg\" height=\"24px\"viewBox=\"0 0 24 24\"\n",
              "       width=\"24px\">\n",
              "    <path d=\"M0 0h24v24H0V0z\" fill=\"none\"/>\n",
              "    <path d=\"M18.56 5.44l.94 2.06.94-2.06 2.06-.94-2.06-.94-.94-2.06-.94 2.06-2.06.94zm-11 1L8.5 8.5l.94-2.06 2.06-.94-2.06-.94L8.5 2.5l-.94 2.06-2.06.94zm10 10l.94 2.06.94-2.06 2.06-.94-2.06-.94-.94-2.06-.94 2.06-2.06.94z\"/><path d=\"M17.41 7.96l-1.37-1.37c-.4-.4-.92-.59-1.43-.59-.52 0-1.04.2-1.43.59L10.3 9.45l-7.72 7.72c-.78.78-.78 2.05 0 2.83L4 21.41c.39.39.9.59 1.41.59.51 0 1.02-.2 1.41-.59l7.78-7.78 2.81-2.81c.8-.78.8-2.07 0-2.86zM5.41 20L4 18.59l7.72-7.72 1.47 1.35L5.41 20z\"/>\n",
              "  </svg>\n",
              "      </button>\n",
              "      \n",
              "  <style>\n",
              "    .colab-df-container {\n",
              "      display:flex;\n",
              "      flex-wrap:wrap;\n",
              "      gap: 12px;\n",
              "    }\n",
              "\n",
              "    .colab-df-convert {\n",
              "      background-color: #E8F0FE;\n",
              "      border: none;\n",
              "      border-radius: 50%;\n",
              "      cursor: pointer;\n",
              "      display: none;\n",
              "      fill: #1967D2;\n",
              "      height: 32px;\n",
              "      padding: 0 0 0 0;\n",
              "      width: 32px;\n",
              "    }\n",
              "\n",
              "    .colab-df-convert:hover {\n",
              "      background-color: #E2EBFA;\n",
              "      box-shadow: 0px 1px 2px rgba(60, 64, 67, 0.3), 0px 1px 3px 1px rgba(60, 64, 67, 0.15);\n",
              "      fill: #174EA6;\n",
              "    }\n",
              "\n",
              "    [theme=dark] .colab-df-convert {\n",
              "      background-color: #3B4455;\n",
              "      fill: #D2E3FC;\n",
              "    }\n",
              "\n",
              "    [theme=dark] .colab-df-convert:hover {\n",
              "      background-color: #434B5C;\n",
              "      box-shadow: 0px 1px 3px 1px rgba(0, 0, 0, 0.15);\n",
              "      filter: drop-shadow(0px 1px 2px rgba(0, 0, 0, 0.3));\n",
              "      fill: #FFFFFF;\n",
              "    }\n",
              "  </style>\n",
              "\n",
              "      <script>\n",
              "        const buttonEl =\n",
              "          document.querySelector('#df-45d92b46-f720-4e9a-b3fb-6a10a91ec2b0 button.colab-df-convert');\n",
              "        buttonEl.style.display =\n",
              "          google.colab.kernel.accessAllowed ? 'block' : 'none';\n",
              "\n",
              "        async function convertToInteractive(key) {\n",
              "          const element = document.querySelector('#df-45d92b46-f720-4e9a-b3fb-6a10a91ec2b0');\n",
              "          const dataTable =\n",
              "            await google.colab.kernel.invokeFunction('convertToInteractive',\n",
              "                                                     [key], {});\n",
              "          if (!dataTable) return;\n",
              "\n",
              "          const docLinkHtml = 'Like what you see? Visit the ' +\n",
              "            '<a target=\"_blank\" href=https://colab.research.google.com/notebooks/data_table.ipynb>data table notebook</a>'\n",
              "            + ' to learn more about interactive tables.';\n",
              "          element.innerHTML = '';\n",
              "          dataTable['output_type'] = 'display_data';\n",
              "          await google.colab.output.renderOutput(dataTable, element);\n",
              "          const docLink = document.createElement('div');\n",
              "          docLink.innerHTML = docLinkHtml;\n",
              "          element.appendChild(docLink);\n",
              "        }\n",
              "      </script>\n",
              "    </div>\n",
              "  </div>\n",
              "  "
            ]
          },
          "metadata": {},
          "execution_count": 240
        }
      ]
    },
    {
      "cell_type": "markdown",
      "source": [
        "The mean is not that accurate to predict versicolor. \n",
        "\n",
        "Since no value is greater than 0.5.\n"
      ],
      "metadata": {
        "id": "aa6Q63ifvX63"
      }
    },
    {
      "cell_type": "markdown",
      "metadata": {
        "id": "Co14Ws3gupwP"
      },
      "source": [
        "# New logic introduced in this worksheet:\n",
        "\n",
        "1.  Adding headings to a CSV if none currently exist\n",
        "2.  Splitting a data set into train and test sets"
      ]
    },
    {
      "cell_type": "code",
      "source": [
        "## this type of plot will show the distribution on a chart\n",
        "from plotnine import *\n",
        "ggplot(train, aes(x='petal-length', y='petal-width', color='species')) + geom_point() + geom_vline(train, aes(xintercept=train['sepal-length'].mean(), color='species')) + geom_hline(train, aes(yintercept=train['sepal-length'].mean(), color='species'))"
      ],
      "metadata": {
        "id": "29Fk6rLOubKb"
      },
      "execution_count": null,
      "outputs": []
    },
    {
      "cell_type": "code",
      "source": [
        "from sklearn.model_selection import train_test_split\n",
        "\n",
        "# create the classification variables from the all columns\n",
        "train_1, test = train_test_split(iris_data, test_size=0.30)\n",
        "train.dropna(inplace = True)"
      ],
      "metadata": {
        "id": "l-sQsXDmucce"
      },
      "execution_count": null,
      "outputs": []
    },
    {
      "cell_type": "markdown",
      "source": [
        "#Reflection\n",
        "\n",
        "Need to get more familiar with encode function especially with the keywords.\n",
        "\n",
        "It took more time to think about the probability and the relationship with how to classify the decision tree. \n",
        "\n",
        "The plot is easier to see the classification. It can be used to exam the decision tree."
      ],
      "metadata": {
        "id": "gN-cMPkhvt2C"
      }
    }
  ]
}