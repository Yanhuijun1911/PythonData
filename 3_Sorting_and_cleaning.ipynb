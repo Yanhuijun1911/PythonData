{
  "nbformat": 4,
  "nbformat_minor": 0,
  "metadata": {
    "colab": {
      "name": "3. Sorting_and_cleaning.ipynb",
      "provenance": [],
      "collapsed_sections": [],
      "include_colab_link": true
    },
    "kernelspec": {
      "name": "python3",
      "display_name": "Python 3"
    },
    "language_info": {
      "name": "python"
    }
  },
  "cells": [
    {
      "cell_type": "markdown",
      "metadata": {
        "id": "view-in-github",
        "colab_type": "text"
      },
      "source": [
        "<a href=\"https://colab.research.google.com/github/Yanhuijun1911/PythonData/blob/main/3_Sorting_and_cleaning.ipynb\" target=\"_parent\"><img src=\"https://colab.research.google.com/assets/colab-badge.svg\" alt=\"Open In Colab\"/></a>"
      ]
    },
    {
      "cell_type": "markdown",
      "metadata": {
        "id": "4CVoh0pMzW0l"
      },
      "source": [
        "# Sorting and cleaning \n",
        "---\n",
        "\n",
        "\n",
        "\n",
        "In order to effectively analyse a dataset, often we need to prepare it first. \n",
        "Before a dataset is ready to be analysed we might need to:  \n",
        "\n",
        "* sort the data (can be a series or dataframe)  \n",
        "* remove any NaN values or drop NA values   \n",
        "* remove duplicate records (identical rows)  \n",
        "* normalise data in dataframe columns so that has a common scale [reference](https://towardsai.net/p/data-science/how-when-and-why-should-you-normalize-standardize-rescale-your-data-3f083def38ff#:~:text=Similarly%2C%20the%20goal%20of%20normalization,dataset%20does%20not%20require%20normalization.&text=So%20we%20normalize%20the%20data,variables%20to%20the%20same%20range.)\n",
        "\n",
        "## Sorting the data  \n",
        "---\n",
        "\n",
        "\n",
        "Typically we want to sort data by the values in one or more columns in the dataframe  \n",
        "\n",
        "To sort the dataframe by series we use the pandas function **sort_values()**.  \n",
        "\n",
        "By default `sort_values()` sorts into ascending order.\n",
        "\n",
        "* sort by a single column e.g.\n",
        "  * `df.sort_values(\"Make\") `\n",
        "* sort by multiple columns e.g. \n",
        "  * `df.sort_values(by = [\"Model\", \"Make\"]) `\n",
        "    * this sorts by Model, then my Make \n",
        "* sort in *descending* order\n",
        "  * `df.sort_values(by = \"Make\", ascending = False)`\n",
        "  * `df.sort_values(by = [\"Make\", \"Model\"], ascending = False])`  \n",
        "\n",
        "Dataframes are mostly **immutable**, ie changes like sort_values do not change the dataframe permanently, they just change it for the time that the instruction is being used.\n",
        "\n",
        "`df.sort_values(by='Make')` *dataframe is now in sorted order and can be copied to a new dataframe*  \n",
        "`df_sorted_on_make` *original dataframe, df, will be as it was - unsorted* \n",
        "\n",
        "To **split** columns away from the dataframe after sorting, do this in the same instruction, e.g.:\n",
        "\n",
        "`df.sort_values(by = [\"Make\", \"Model\"], ascending = False])[[\"Make\", \"Model\"]]`\n",
        "\n",
        "This sorts on Make and then Model in descending order, then splits off the Make and Model columns.\n",
        "\n",
        "`df.sort_values(by = [\"Make\", \"Model\"], ascending = False])[[\"Make\", \"Model\"]].head()`\n",
        "\n",
        "This sorts on Make and then Model, then splits off the Make and Model columns and then splits off the first 5 rows."
      ]
    },
    {
      "cell_type": "markdown",
      "metadata": {
        "id": "ANKknIx8E-hN"
      },
      "source": [
        "### Exercise 1 - get data, sort by happiness score \n",
        "---\n",
        "\n",
        "Read data into variable called **happiness** from the Excel file on Happiness Data at this link: https://github.com/futureCodersSE/working-with-data/blob/main/Happiness-Data/2015.xlsx?raw=true\n",
        "\n",
        "Write a function called **sorted_rank** to display first 5 rows of data  \n",
        "\n",
        "The data is currently sorted by Happiness Rank...\n",
        "*  sort the data by Happiness Score in ascending order\n",
        "*  display sorted table\n",
        "\n"
      ]
    },
    {
      "cell_type": "code",
      "source": [
        ""
      ],
      "metadata": {
        "id": "mR0SMLC5GvBw"
      },
      "execution_count": null,
      "outputs": []
    },
    {
      "cell_type": "code",
      "source": [
        "import pandas as pd\n",
        "\n",
        "url = \"https://github.com/futureCodersSE/working-with-data/blob/main/Happiness-Data/2015.xlsx?raw=true\"\n",
        "happiness = pd.read_excel(url)\n",
        "\n",
        "print(happiness)\n",
        "\n",
        "happinessD = happiness.describe()\n",
        "print(happinessD)\n",
        "\n",
        "happinessI = happiness.iloc[0:5]\n",
        "print(happinessI)\n",
        "\n",
        "info = happiness.info()\n",
        "print(info)\n",
        "\n",
        "print(happiness.head())"
      ],
      "metadata": {
        "colab": {
          "base_uri": "https://localhost:8080/"
        },
        "id": "zV6NzRgh9tpH",
        "outputId": "2079e443-339c-40bc-d961-965420f46c16"
      },
      "execution_count": null,
      "outputs": [
        {
          "output_type": "stream",
          "name": "stdout",
          "text": [
            "         Country  ... Dystopia Residual\n",
            "0    Switzerland  ...           2.51738\n",
            "1        Iceland  ...           2.70201\n",
            "2        Denmark  ...           2.49204\n",
            "3         Norway  ...           2.46531\n",
            "4         Canada  ...           2.45176\n",
            "..           ...  ...               ...\n",
            "153       Rwanda  ...           0.67042\n",
            "154        Benin  ...           1.63328\n",
            "155        Syria  ...           0.32858\n",
            "156      Burundi  ...           1.83302\n",
            "157         Togo  ...           1.56726\n",
            "\n",
            "[158 rows x 12 columns]\n",
            "       Happiness Rank  Happiness Score  ...  Generosity  Dystopia Residual\n",
            "count      158.000000       158.000000  ...  158.000000         158.000000\n",
            "mean        79.493671         5.375734  ...    0.237296           2.098977\n",
            "std         45.754363         1.145010  ...    0.126685           0.553550\n",
            "min          1.000000         2.839000  ...    0.000000           0.328580\n",
            "25%         40.250000         4.526000  ...    0.150553           1.759410\n",
            "50%         79.500000         5.232500  ...    0.216130           2.095415\n",
            "75%        118.750000         6.243750  ...    0.309882           2.462415\n",
            "max        158.000000         7.587000  ...    0.795880           3.602140\n",
            "\n",
            "[8 rows x 10 columns]\n",
            "       Country          Region  ...  Generosity  Dystopia Residual\n",
            "0  Switzerland  Western Europe  ...     0.29678            2.51738\n",
            "1      Iceland  Western Europe  ...     0.43630            2.70201\n",
            "2      Denmark  Western Europe  ...     0.34139            2.49204\n",
            "3       Norway  Western Europe  ...     0.34699            2.46531\n",
            "4       Canada   North America  ...     0.45811            2.45176\n",
            "\n",
            "[5 rows x 12 columns]\n",
            "<class 'pandas.core.frame.DataFrame'>\n",
            "RangeIndex: 158 entries, 0 to 157\n",
            "Data columns (total 12 columns):\n",
            " #   Column                         Non-Null Count  Dtype  \n",
            "---  ------                         --------------  -----  \n",
            " 0   Country                        158 non-null    object \n",
            " 1   Region                         158 non-null    object \n",
            " 2   Happiness Rank                 158 non-null    int64  \n",
            " 3   Happiness Score                158 non-null    float64\n",
            " 4   Standard Error                 158 non-null    float64\n",
            " 5   Economy (GDP per Capita)       158 non-null    float64\n",
            " 6   Family                         158 non-null    float64\n",
            " 7   Health (Life Expectancy)       158 non-null    float64\n",
            " 8   Freedom                        158 non-null    float64\n",
            " 9   Trust (Government Corruption)  158 non-null    float64\n",
            " 10  Generosity                     158 non-null    float64\n",
            " 11  Dystopia Residual              158 non-null    float64\n",
            "dtypes: float64(9), int64(1), object(2)\n",
            "memory usage: 14.9+ KB\n",
            "None\n",
            "       Country          Region  ...  Generosity  Dystopia Residual\n",
            "0  Switzerland  Western Europe  ...     0.29678            2.51738\n",
            "1      Iceland  Western Europe  ...     0.43630            2.70201\n",
            "2      Denmark  Western Europe  ...     0.34139            2.49204\n",
            "3       Norway  Western Europe  ...     0.34699            2.46531\n",
            "4       Canada   North America  ...     0.45811            2.45176\n",
            "\n",
            "[5 rows x 12 columns]\n"
          ]
        }
      ]
    },
    {
      "cell_type": "code",
      "metadata": {
        "id": "jkvFGvJtHXiH",
        "colab": {
          "base_uri": "https://localhost:8080/"
        },
        "outputId": "1a2293a3-979f-4539-b2f4-443342b3700d"
      },
      "source": [
        "import pandas as pd\n",
        "\n",
        "url = \"https://github.com/futureCodersSE/working-with-data/blob/main/Happiness-Data/2015.xlsx?raw=true\"\n",
        "happiness = pd.read_excel(url)\n",
        "print(happiness)\n",
        "\n",
        "def sorted_rank(df):\n",
        "# add code below to return a series sorted by Happiness Score in ascending order\n",
        "  df_new = df.sort_values(by = \"Happiness Score\", ascending = True)\n",
        "  print(df_new)\n",
        "  return df_new    #always put return as an end of the def. return to the df_new value\n",
        "                    #if not return to the value, actual would be none value\n",
        "\n",
        "# The code below will run and test your code to see if the first row of your series is correct \n",
        "actual = sorted_rank(happiness).index[0]\n",
        "expected = 157\n",
        "\n",
        "if actual == expected:\n",
        "  print(\"Well done, test passed\")\n",
        "else:\n",
        "  print(\"Test failed\",\"Should have got\", expected, \"got\", actual)\n"
      ],
      "execution_count": null,
      "outputs": [
        {
          "output_type": "stream",
          "name": "stdout",
          "text": [
            "         Country  ... Dystopia Residual\n",
            "0    Switzerland  ...           2.51738\n",
            "1        Iceland  ...           2.70201\n",
            "2        Denmark  ...           2.49204\n",
            "3         Norway  ...           2.46531\n",
            "4         Canada  ...           2.45176\n",
            "..           ...  ...               ...\n",
            "153       Rwanda  ...           0.67042\n",
            "154        Benin  ...           1.63328\n",
            "155        Syria  ...           0.32858\n",
            "156      Burundi  ...           1.83302\n",
            "157         Togo  ...           1.56726\n",
            "\n",
            "[158 rows x 12 columns]\n",
            "         Country  ... Dystopia Residual\n",
            "157         Togo  ...           1.56726\n",
            "156      Burundi  ...           1.83302\n",
            "155        Syria  ...           0.32858\n",
            "154        Benin  ...           1.63328\n",
            "153       Rwanda  ...           0.67042\n",
            "..           ...  ...               ...\n",
            "4         Canada  ...           2.45176\n",
            "3         Norway  ...           2.46531\n",
            "2        Denmark  ...           2.49204\n",
            "1        Iceland  ...           2.70201\n",
            "0    Switzerland  ...           2.51738\n",
            "\n",
            "[158 rows x 12 columns]\n",
            "Well done, test passed\n"
          ]
        }
      ]
    },
    {
      "cell_type": "markdown",
      "metadata": {
        "id": "5_iomqRTH8LA"
      },
      "source": [
        "### Exercise 2 - sort by multiple columns, display the first 5 rows \n",
        "---\n",
        "\n",
        "Write a function called **get_gdp_health** which:\n",
        "\n",
        "1. sort the data by Economy (GDP per Capita) and Health (Life Expectancy) in ascending order \n",
        "2. display the first 5 rows of sorted data \n"
      ]
    },
    {
      "cell_type": "code",
      "source": [
        "import pandas as pd\n",
        "\n",
        "url = \"https://github.com/futureCodersSE/working-with-data/blob/main/Happiness-Data/2015.xlsx?raw=true\"\n",
        "happiness = pd.read_excel(url)\n",
        "print(happiness)\n",
        "print(happiness.info())\n"
      ],
      "metadata": {
        "colab": {
          "base_uri": "https://localhost:8080/"
        },
        "id": "DH-dtDDBYpZC",
        "outputId": "609b02c5-b37e-40ed-aa50-91ca4e4235ed"
      },
      "execution_count": 5,
      "outputs": [
        {
          "output_type": "stream",
          "name": "stdout",
          "text": [
            "         Country  ... Dystopia Residual\n",
            "0    Switzerland  ...           2.51738\n",
            "1        Iceland  ...           2.70201\n",
            "2        Denmark  ...           2.49204\n",
            "3         Norway  ...           2.46531\n",
            "4         Canada  ...           2.45176\n",
            "..           ...  ...               ...\n",
            "153       Rwanda  ...           0.67042\n",
            "154        Benin  ...           1.63328\n",
            "155        Syria  ...           0.32858\n",
            "156      Burundi  ...           1.83302\n",
            "157         Togo  ...           1.56726\n",
            "\n",
            "[158 rows x 12 columns]\n",
            "<class 'pandas.core.frame.DataFrame'>\n",
            "RangeIndex: 158 entries, 0 to 157\n",
            "Data columns (total 12 columns):\n",
            " #   Column                         Non-Null Count  Dtype  \n",
            "---  ------                         --------------  -----  \n",
            " 0   Country                        158 non-null    object \n",
            " 1   Region                         158 non-null    object \n",
            " 2   Happiness Rank                 158 non-null    int64  \n",
            " 3   Happiness Score                158 non-null    float64\n",
            " 4   Standard Error                 158 non-null    float64\n",
            " 5   Economy (GDP per Capita)       158 non-null    float64\n",
            " 6   Family                         158 non-null    float64\n",
            " 7   Health (Life Expectancy)       158 non-null    float64\n",
            " 8   Freedom                        158 non-null    float64\n",
            " 9   Trust (Government Corruption)  158 non-null    float64\n",
            " 10  Generosity                     158 non-null    float64\n",
            " 11  Dystopia Residual              158 non-null    float64\n",
            "dtypes: float64(9), int64(1), object(2)\n",
            "memory usage: 14.9+ KB\n",
            "None\n"
          ]
        }
      ]
    },
    {
      "cell_type": "code",
      "metadata": {
        "id": "b7XalX7OK0u-",
        "colab": {
          "base_uri": "https://localhost:8080/"
        },
        "outputId": "990acbde-6188-4085-a583-06b4473dd720"
      },
      "source": [
        "def get_gdp_health(df):\n",
        "  # add code below to return a 5 row series which sorts rows by Economy and Health in ascending order \n",
        "  df_new = df.sort_values(by = [\"Economy (GDP per Capita)\", \"Health (Life Expectancy)\"], ascending = True)\n",
        "  print(df_new)\n",
        "  print(df_new.head())\n",
        "  return df_new\n",
        "\n",
        "# The code below will run and test your code to see if the first row of your series has the correct happiness score \n",
        "test = get_gdp_health(happiness)\n",
        "\n",
        "actual = test['Happiness Score'].iloc[0]\n",
        "expected = 4.517\n",
        "\n",
        "if actual == expected:\n",
        "  print(\"Well done, test passed\")\n",
        "else:\n",
        "  print(\"Test failed\",\"Should have got\", expected, \"got\", actual)"
      ],
      "execution_count": null,
      "outputs": [
        {
          "output_type": "stream",
          "name": "stdout",
          "text": [
            "              Country  ... Dystopia Residual\n",
            "119  Congo (Kinshasa)  ...           2.86712\n",
            "156           Burundi  ...           1.83302\n",
            "130            Malawi  ...           2.80791\n",
            "143             Niger  ...           1.87877\n",
            "115           Liberia  ...           2.77729\n",
            "..                ...  ...               ...\n",
            "3              Norway  ...           2.46531\n",
            "23          Singapore  ...           1.88501\n",
            "38             Kuwait  ...           1.87634\n",
            "16         Luxembourg  ...           1.96961\n",
            "27              Qatar  ...           1.55674\n",
            "\n",
            "[158 rows x 12 columns]\n",
            "              Country              Region  ...  Generosity  Dystopia Residual\n",
            "119  Congo (Kinshasa)  Sub-Saharan Africa  ...     0.24834            2.86712\n",
            "156           Burundi  Sub-Saharan Africa  ...     0.19727            1.83302\n",
            "130            Malawi  Sub-Saharan Africa  ...     0.33128            2.80791\n",
            "143             Niger  Sub-Saharan Africa  ...     0.19387            1.87877\n",
            "115           Liberia  Sub-Saharan Africa  ...     0.24362            2.77729\n",
            "\n",
            "[5 rows x 12 columns]\n",
            "Well done, test passed\n"
          ]
        }
      ]
    },
    {
      "cell_type": "markdown",
      "metadata": {
        "id": "xfQ3cys4LHNc"
      },
      "source": [
        "### Exercise 3 - sorting in descending order \n",
        "---\n",
        "\n",
        "Write a function called **get_descending** which will: \n",
        "\n",
        "Sort the data by Freedom and Trust (Government Corruption) in descending order and show the Country and Region only for the last five rows\n",
        "\n"
      ]
    },
    {
      "cell_type": "code",
      "metadata": {
        "id": "3haPVvX7MCom",
        "colab": {
          "base_uri": "https://localhost:8080/"
        },
        "outputId": "ed3e6d78-2de8-4a08-9f57-f3716179fda6"
      },
      "source": [
        "import pandas as pd\n",
        "\n",
        "url = \"https://github.com/futureCodersSE/working-with-data/blob/main/Happiness-Data/2015.xlsx?raw=true\"\n",
        "happiness = pd.read_excel(url)\n",
        "\n",
        "\n",
        "def get_descending(df):\n",
        "  #add code below to return a series which contains the last 5 rows of Country and Region sorted by Freedom and Trust in descending order\n",
        " df_new = df.sort_values(by = [\"Freedom\", \"Trust (Government Corruption)\"], ascending = False)\n",
        " \n",
        " print(df_new.head())\n",
        " print(df_new.tail())\n",
        " return df_new\n",
        "\n",
        "\n",
        "# The code below will run and test your code to see if the length and series are correct \n",
        "actual = get_descending(happiness).index[0]\n",
        "expected = 136\n",
        "\n",
        "if actual == expected and (len(get_descending(happiness)) == 5):\n",
        "  print(\"Test passed\", actual)\n",
        "else:\n",
        "  print(\"Test failed\",\"Should have got\", expected, \"got\", actual, \"and length of series should have been 5 but was\", len(get_descending(happiness)))"
      ],
      "execution_count": 17,
      "outputs": [
        {
          "output_type": "stream",
          "name": "stdout",
          "text": [
            "         Country                      Region  ...  Generosity  Dystopia Residual\n",
            "3         Norway              Western Europe  ...     0.34699            2.46531\n",
            "0    Switzerland              Western Europe  ...     0.29678            2.51738\n",
            "144     Cambodia           Southeastern Asia  ...     0.40359            0.98195\n",
            "7         Sweden              Western Europe  ...     0.36262            2.37119\n",
            "43    Uzbekistan  Central and Eastern Europe  ...     0.22837            2.23741\n",
            "\n",
            "[5 rows x 12 columns]\n",
            "                    Country  ... Dystopia Residual\n",
            "136                  Angola  ...           1.94939\n",
            "117                   Sudan  ...           2.20857\n",
            "95   Bosnia and Herzegovina  ...           2.06367\n",
            "101                  Greece  ...           1.80101\n",
            "111                    Iraq  ...           1.95335\n",
            "\n",
            "[5 rows x 12 columns]\n",
            "         Country                      Region  ...  Generosity  Dystopia Residual\n",
            "3         Norway              Western Europe  ...     0.34699            2.46531\n",
            "0    Switzerland              Western Europe  ...     0.29678            2.51738\n",
            "144     Cambodia           Southeastern Asia  ...     0.40359            0.98195\n",
            "7         Sweden              Western Europe  ...     0.36262            2.37119\n",
            "43    Uzbekistan  Central and Eastern Europe  ...     0.22837            2.23741\n",
            "\n",
            "[5 rows x 12 columns]\n",
            "                    Country  ... Dystopia Residual\n",
            "136                  Angola  ...           1.94939\n",
            "117                   Sudan  ...           2.20857\n",
            "95   Bosnia and Herzegovina  ...           2.06367\n",
            "101                  Greece  ...           1.80101\n",
            "111                    Iraq  ...           1.95335\n",
            "\n",
            "[5 rows x 12 columns]\n",
            "Test failed Should have got 136 got 3 and length of series should have been 5 but was 158\n"
          ]
        }
      ]
    },
    {
      "cell_type": "markdown",
      "metadata": {
        "id": "MqnAoELjMDs7"
      },
      "source": [
        "# Cleaning the data\n",
        "\n",
        "Data comes from a range of sources:  forms, monitoring devices, etc.  There will often be missing values, duplicate records and values that are incorrectly formatted.  These can affect summary statistics and graphs plotted from the data.\n",
        "\n",
        "Techniques for data cleansing include:\n",
        "*  removing records with missing or null data (NaN, NA, \"\")\n",
        "*  removing duplicate rows (keeping just one, either the first or the last)\n",
        "\n",
        "Removal of rows according to criteria, or of columns are other ways that data might be cleaned up.  \n"
      ]
    },
    {
      "cell_type": "markdown",
      "metadata": {
        "id": "rVqmfM5wk7NK"
      },
      "source": [
        "---\n",
        "\n",
        "## Removing NaN/Dropping NA values \n",
        "\n",
        "pandas have functions for checking a dataframe, or column, for null values, checking a column for missing values, and functions for dropping all rows that contain null values.\n",
        "\n",
        "* check for NA/NaN/missing values across dataframe (returns True if NA values exist)  \n",
        "  `df.isnull().values.any()`  \n",
        "\n",
        "* check for NA/NaN/missing values in specific column  \n",
        "  `df[\"column\"].isnull().values.any()`  \n",
        "\n",
        "* filter for non-null rows   \n",
        "  `df[~df[\"column\"].isnull()]`  \n",
        "  *hint: ~ means is not*\n",
        "\n",
        "* drop all rows that have NA/NaN values   \n",
        "  `df.dropna()`  \n",
        "\n",
        "* drop rows where NA/NaN values exist in specific columns  \n",
        "  `df.dropna(subset = [\"Make\", \"Model\"])`  "
      ]
    },
    {
      "cell_type": "markdown",
      "metadata": {
        "id": "DC65hEZGOKNL"
      },
      "source": [
        "### Exercise 4 - check for null values \n",
        "---\n",
        "\n",
        "1. read data into a variable called **housing** from the file housing_in_london_yearly_variables.csv from this link: https://raw.githubusercontent.com/futureCodersSE/working-with-data/main/Data%20sets/housing_in_london_yearly_variables.csv \n",
        "\n",
        "Write a function called **check_null** which will:\n",
        "2. check if any NA values exist in the dataframe and print the result \n",
        "3. use df.info() to see which columns have null entries (*Hint: if the non-null count is less than total entries, column contains missing/NA entries*)  \n"
      ]
    },
    {
      "cell_type": "code",
      "source": [
        "import pandas as pd\n",
        "\n",
        "url = \"https://raw.githubusercontent.com/futureCodersSE/working-with-data/main/Data%20sets/housing_in_london_yearly_variables.csv\"\n",
        "housing = pd.read_csv(url)\n",
        "print(housing)\n",
        "print(housing.info())"
      ],
      "metadata": {
        "colab": {
          "base_uri": "https://localhost:8080/"
        },
        "id": "MJcvKsbM1-IY",
        "outputId": "32298cdd-dcf9-42d9-d9d8-6068fffdd5f6"
      },
      "execution_count": 10,
      "outputs": [
        {
          "output_type": "stream",
          "name": "stdout",
          "text": [
            "           code                  area  ... no_of_houses  borough_flag\n",
            "0     E09000001        city of london  ...          NaN             1\n",
            "1     E09000002  barking and dagenham  ...          NaN             1\n",
            "2     E09000003                barnet  ...          NaN             1\n",
            "3     E09000004                bexley  ...          NaN             1\n",
            "4     E09000005                 brent  ...          NaN             1\n",
            "...         ...                   ...  ...          ...           ...\n",
            "1066  K03000001         great britain  ...          NaN             0\n",
            "1067  K04000001     england and wales  ...          NaN             0\n",
            "1068  N92000002      northern ireland  ...          NaN             0\n",
            "1069  S92000003              scotland  ...          NaN             0\n",
            "1070  W92000004                 wales  ...          NaN             0\n",
            "\n",
            "[1071 rows x 12 columns]\n",
            "<class 'pandas.core.frame.DataFrame'>\n",
            "RangeIndex: 1071 entries, 0 to 1070\n",
            "Data columns (total 12 columns):\n",
            " #   Column             Non-Null Count  Dtype  \n",
            "---  ------             --------------  -----  \n",
            " 0   code               1071 non-null   object \n",
            " 1   area               1071 non-null   object \n",
            " 2   date               1071 non-null   object \n",
            " 3   median_salary      1049 non-null   float64\n",
            " 4   life_satisfaction  352 non-null    float64\n",
            " 5   mean_salary        1071 non-null   object \n",
            " 6   recycling_pct      860 non-null    object \n",
            " 7   population_size    1018 non-null   float64\n",
            " 8   number_of_jobs     931 non-null    float64\n",
            " 9   area_size          666 non-null    float64\n",
            " 10  no_of_houses       666 non-null    float64\n",
            " 11  borough_flag       1071 non-null   int64  \n",
            "dtypes: float64(6), int64(1), object(5)\n",
            "memory usage: 100.5+ KB\n",
            "None\n"
          ]
        }
      ]
    },
    {
      "cell_type": "code",
      "metadata": {
        "id": "U7LYkXDNVVc9",
        "colab": {
          "base_uri": "https://localhost:8080/"
        },
        "outputId": "3a2978ec-34b1-465f-b7f8-60118be8f67f"
      },
      "source": [
        "import pandas as pd\n",
        "\n",
        "url = \"https://raw.githubusercontent.com/futureCodersSE/working-with-data/main/Data%20sets/housing_in_london_yearly_variables.csv\"\n",
        "housing = pd.read_csv(url)\n",
        "\n",
        "def check_null(df):\n",
        "  # add code below to return a bool statement for whether or not there are null values \n",
        "  df_new = df.isnull().values.any()\n",
        "  print(df_new)\n",
        "  info = df.info()\n",
        "  print(info)\n",
        "  return df_new\n",
        "  \n",
        "\n",
        "# The code below will run and test your code to see if you are returning the correct answer\n",
        "actual = check_null(housing)\n",
        "expected = True\n",
        "\n",
        "if actual == expected:\n",
        "  print(\"Test passed\", actual)\n",
        "else:\n",
        "  print(\"Test failed\",\"Should have got\", expected, \"got\", actual)"
      ],
      "execution_count": 26,
      "outputs": [
        {
          "output_type": "stream",
          "name": "stdout",
          "text": [
            "True\n",
            "<class 'pandas.core.frame.DataFrame'>\n",
            "RangeIndex: 1071 entries, 0 to 1070\n",
            "Data columns (total 12 columns):\n",
            " #   Column             Non-Null Count  Dtype  \n",
            "---  ------             --------------  -----  \n",
            " 0   code               1071 non-null   object \n",
            " 1   area               1071 non-null   object \n",
            " 2   date               1071 non-null   object \n",
            " 3   median_salary      1049 non-null   float64\n",
            " 4   life_satisfaction  352 non-null    float64\n",
            " 5   mean_salary        1071 non-null   object \n",
            " 6   recycling_pct      860 non-null    object \n",
            " 7   population_size    1018 non-null   float64\n",
            " 8   number_of_jobs     931 non-null    float64\n",
            " 9   area_size          666 non-null    float64\n",
            " 10  no_of_houses       666 non-null    float64\n",
            " 11  borough_flag       1071 non-null   int64  \n",
            "dtypes: float64(6), int64(1), object(5)\n",
            "memory usage: 100.5+ KB\n",
            "None\n",
            "Test passed True\n"
          ]
        }
      ]
    },
    {
      "cell_type": "markdown",
      "metadata": {
        "id": "qJTecutIXFJM"
      },
      "source": [
        "### Exercise 5 - filter for non-null rows\n",
        "---\n",
        "\n",
        "Create function called **filter_null()** which filters the non-null rows by the `number_of_jobs` column. \n"
      ]
    },
    {
      "cell_type": "code",
      "metadata": {
        "id": "7fWi0_MLXEzY",
        "colab": {
          "base_uri": "https://localhost:8080/"
        },
        "outputId": "6584231f-8331-4b4b-d657-ec5f4caebdcf"
      },
      "source": [
        "import pandas as pd\n",
        "\n",
        "url = \"https://raw.githubusercontent.com/futureCodersSE/working-with-data/main/Data%20sets/housing_in_london_yearly_variables.csv\"\n",
        "housing = pd.read_csv(url)\n",
        "\n",
        "def filter_null(df):\n",
        "  # add code below to filter out null values\n",
        "  filter = df[~df[\"number_of_jobs\"].isnull()]\n",
        "  return filter\n",
        "\n",
        "\n",
        "\n",
        "\n",
        "# The code below will run and test your code to see if the length of your returned dataframe is correct\n",
        "\n",
        "actual = len(filter_null(housing))\n",
        "expected = 931 \n",
        "\n",
        "if actual == expected:\n",
        "  print(\"Test passed\", actual)\n",
        "else:\n",
        "  print(\"Test failed expected\", expected, \"got\", actual)"
      ],
      "execution_count": 33,
      "outputs": [
        {
          "output_type": "stream",
          "name": "stdout",
          "text": [
            "Test passed 931\n"
          ]
        }
      ]
    },
    {
      "cell_type": "markdown",
      "metadata": {
        "id": "BRBLm_bJVItu"
      },
      "source": [
        "### Exercise 5 - remove null values \n",
        "---\n",
        "Write a function called **drop_null** which will:\n",
        "1. remove rows with NA values for `life_satisfaction` (use [ ] even if only one column in list)\n"
      ]
    },
    {
      "cell_type": "code",
      "metadata": {
        "id": "OjZJNIC3QObK",
        "colab": {
          "base_uri": "https://localhost:8080/"
        },
        "outputId": "8f0c7519-8319-4dfd-e567-48e69786eaa4"
      },
      "source": [
        "import pandas as pd\n",
        "\n",
        "url = \"https://raw.githubusercontent.com/futureCodersSE/working-with-data/main/Data%20sets/housing_in_london_yearly_variables.csv\"\n",
        "housing = pd.read_csv(url)\n",
        "\n",
        "def drop_null(df):\n",
        "  # add code which returns a dataframe with rows that contain NA values in the life_satisfaction column removed\n",
        "  df_new = df.dropna(subset = [\"life_satisfaction\"])\n",
        "  \n",
        "  return df_new\n",
        "\n",
        "# The code below will run and test your code to see if you have returned a series with the correct length and first row\n",
        "actual = drop_null(housing).index[0]\n",
        "expected = 613 \n",
        "\n",
        "if actual == expected and len(drop_null(housing)) == 352:\n",
        "  print(\"Test passed\", actual)\n",
        "else:\n",
        "  print(\"Test failed\",\"Should have got\", expected, \"got\", actual, \"and length of series should have been 352 but was\", len(drop_null(housing))) "
      ],
      "execution_count": 54,
      "outputs": [
        {
          "output_type": "stream",
          "name": "stdout",
          "text": [
            "Test passed 613\n"
          ]
        }
      ]
    },
    {
      "cell_type": "markdown",
      "metadata": {
        "id": "ui8HF5z8SiK8"
      },
      "source": [
        "## Dropping duplicates\n",
        "---\n",
        "\n",
        "* To remove duplicate rows based on duplication of values in all columns  \n",
        "  `df.drop_duplicates()`  \n",
        "\n",
        "* To remove rows that have duplicate entries in a specified column  \n",
        "  `df.drop_duplicates(subset = ['Make'])`  \n",
        "\n",
        "* To remove rows that have duplicate entries in multiple columns  \n",
        "  `df.drop_duplicates(subset = ['Make', 'Model'])` \n",
        "\n",
        "* Remove duplicate rows keeping the last instance rather than the first (default):  \n",
        "  `df.drop_duplicates(keep='last')`  "
      ]
    },
    {
      "cell_type": "markdown",
      "metadata": {
        "id": "_2Qf6uMxSb5t"
      },
      "source": [
        "### Exercise 6 - Removing duplicate entries \n",
        "---\n",
        "Write a function called **drop_duplicates** which will: \n",
        "\n",
        "remove duplicate `area` entries keeping first instance  \n"
      ]
    },
    {
      "cell_type": "code",
      "metadata": {
        "id": "OQ8T0tYVQj74",
        "colab": {
          "base_uri": "https://localhost:8080/"
        },
        "outputId": "7f61fbf3-cad5-4bf6-ac05-d4011468b788"
      },
      "source": [
        "import pandas as pd\n",
        "\n",
        "url = \"https://raw.githubusercontent.com/futureCodersSE/working-with-data/main/Data%20sets/housing_in_london_yearly_variables.csv\"\n",
        "housing = pd.read_csv(url)\n",
        "\n",
        "def drop_duplicates(df):\n",
        "  # add code which returns a dataframe without duplicate area entries with first instance kept \n",
        "  df_new = df.drop_duplicates (subset = \"area\")\n",
        "  return df_new\n",
        "\n",
        "\n",
        "\n",
        "# The code below will run and test your code to see if you have returned a series with the correct length and first row\n",
        "actual = drop_duplicates(housing).index[0]\n",
        "expected = 0\n",
        "\n",
        "if actual == expected and len(drop_duplicates(housing)) == 51:\n",
        "  print(\"Test passed\", actual)\n",
        "else:\n",
        "  print(\"Test failed\",\"Should have got\", expected, \"got\", actual, \"and length of series should have been 51 but was\", len(drop_duplicates(housing))) "
      ],
      "execution_count": 48,
      "outputs": [
        {
          "output_type": "stream",
          "name": "stdout",
          "text": [
            "Test passed 0\n"
          ]
        }
      ]
    },
    {
      "cell_type": "markdown",
      "metadata": {
        "id": "yQyytEbnZ1lw"
      },
      "source": [
        "# Reflection\n",
        "----\n",
        "\n",
        "## What skills have you demonstrated in completing this notebook?"
      ]
    },
    {
      "cell_type": "markdown",
      "metadata": {
        "id": "MM00hR5aZk1-"
      },
      "source": [
        "Your answer: "
      ]
    },
    {
      "cell_type": "markdown",
      "metadata": {
        "id": "Zgexd27sZ1ly"
      },
      "source": [
        "## What caused you the most difficulty?"
      ]
    },
    {
      "cell_type": "markdown",
      "metadata": {
        "id": "-Y_nrVBwaGXr"
      },
      "source": [
        "Your answer: "
      ]
    }
  ]
}