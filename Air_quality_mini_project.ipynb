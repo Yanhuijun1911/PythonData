{
  "nbformat": 4,
  "nbformat_minor": 0,
  "metadata": {
    "colab": {
      "name": "Air quality mini-project.ipynb",
      "provenance": [],
      "collapsed_sections": [],
      "include_colab_link": true
    },
    "kernelspec": {
      "name": "python3",
      "display_name": "Python 3"
    },
    "language_info": {
      "name": "python"
    }
  },
  "cells": [
    {
      "cell_type": "markdown",
      "metadata": {
        "id": "view-in-github",
        "colab_type": "text"
      },
      "source": [
        "<a href=\"https://colab.research.google.com/github/Yanhuijun1911/PythonData/blob/main/Air_quality_mini_project.ipynb\" target=\"_parent\"><img src=\"https://colab.research.google.com/assets/colab-badge.svg\" alt=\"Open In Colab\"/></a>"
      ]
    },
    {
      "cell_type": "markdown",
      "source": [
        "# Clean and wrangle air quality data\n",
        "\n",
        "The following data file contains data collected at a roadside monitoring station.  You can see the data in a spreadsheet here: https://docs.google.com/spreadsheets/d/1XpAvrpuyMsKDO76EZ3kxuddBOu7cZX1Od4uEts14zco/edit?usp=sharing\n",
        "\n",
        "The data contains:\n",
        "* a heading line (Chatham Roadside) which needs to be skipped\n",
        "* dates which are sometimes left- and sometimes right-justified indicating that they are not formatted as dates, rather they are text (so need to be converted to dates)\n",
        "* times which are not all in the same format\n",
        "* Nitrogen Dioxide levels which are, again, text and sometimes contain nodata\n",
        "* Status which is always the same\n",
        "\n",
        "\n",
        "\n"
      ],
      "metadata": {
        "id": "8qnlsapq24Df"
      }
    },
    {
      "cell_type": "markdown",
      "source": [
        "### Project - clean, sort and wrangle the data\n",
        "\n",
        "Read the dataset into a dataframe, skipping the first row   \n",
        "Convert dates to date format  \n",
        "Remove rows with nodata in the Nitrogen dioxide column  \n",
        "Convert the Nitrogen dioxide levels values to float type  \n",
        "Sort by Nitrogen dioxide level  \n",
        "Create a new column for 'Weekdays' (use df['Date'].dt.weekday)  \n",
        "Rename the column Nitrogen dioxide level to NO2 Level (V ug/m2)  \n",
        "Remove the Status column  \n",
        "\n",
        "The dataset can be viewed here:  https://drive.google.com/file/d/1aYmBf9il2dWA-EROvbYRCZ1rU2t7JwvJ/view?usp=sharing  and the data accessed here: https://drive.google.com/uc?id=1QSNJ3B1ku8kjXsA_tCBh4fbpDK7wVLAA This is a .csv file  \n",
        "\n",
        "**NOTE:** Some useful references are included at the bottom of this spreadsheet.\n",
        "\n",
        "Use the code cell below to work your code."
      ],
      "metadata": {
        "id": "SSvLiFnp4LjG"
      }
    },
    {
      "cell_type": "code",
      "source": [
        "import pandas as pd\n",
        "import numpy as np\n",
        "\n",
        "url = \"https://drive.google.com/uc?id=1QSNJ3B1ku8kjXsA_tCBh4fbpDK7wVLAA\"\n",
        "df = pd.read_csv(url, skiprows=1)\n",
        "df[\"Date\"]= pd.to_datetime(df[\"Date\"])\n",
        "print(df)\n",
        "df.info()"
      ],
      "metadata": {
        "id": "txM4TIRUHhsJ",
        "colab": {
          "base_uri": "https://localhost:8080/"
        },
        "outputId": "ad49a051-b956-499e-92f5-7f1384e2221b"
      },
      "execution_count": null,
      "outputs": [
        {
          "output_type": "stream",
          "name": "stdout",
          "text": [
            "           Date      Time Nitrogen dioxide   Status\n",
            "0    2020-01-01      1:00         35.65193  V µg/m³\n",
            "1    2020-01-01      2:00         37.99122  V µg/m³\n",
            "2    2020-01-01      3:00         35.70462  V µg/m³\n",
            "3    2020-01-01      4:00          36.5796  V µg/m³\n",
            "4    2020-01-01      5:00          32.9441  V µg/m³\n",
            "...         ...       ...              ...      ...\n",
            "8779 2020-12-31     20:00         11.22419  V µg/m³\n",
            "8780 2020-12-31     21:00         11.17037  V µg/m³\n",
            "8781 2020-12-31     22:00          9.54137  V µg/m³\n",
            "8782 2020-12-31     23:00          8.21683  V µg/m³\n",
            "8783 2020-12-31  24:00:00          8.16537  V µg/m³\n",
            "\n",
            "[8784 rows x 4 columns]\n",
            "<class 'pandas.core.frame.DataFrame'>\n",
            "RangeIndex: 8784 entries, 0 to 8783\n",
            "Data columns (total 4 columns):\n",
            " #   Column            Non-Null Count  Dtype         \n",
            "---  ------            --------------  -----         \n",
            " 0   Date              8784 non-null   datetime64[ns]\n",
            " 1   Time              8784 non-null   object        \n",
            " 2   Nitrogen dioxide  8784 non-null   object        \n",
            " 3   Status            8784 non-null   object        \n",
            "dtypes: datetime64[ns](1), object(3)\n",
            "memory usage: 274.6+ KB\n"
          ]
        }
      ]
    },
    {
      "cell_type": "code",
      "source": [
        "# Drop a row by condition\n",
        "#df[df.Name != 'Alisa']\n",
        "\n",
        "df = df[df[\"Nitrogen dioxide\"] != 'nodata']\n",
        "print(df)"
      ],
      "metadata": {
        "colab": {
          "base_uri": "https://localhost:8080/"
        },
        "id": "biegcG4T7l_g",
        "outputId": "060208cc-5259-4def-81f1-4ade72a896ec"
      },
      "execution_count": null,
      "outputs": [
        {
          "output_type": "stream",
          "name": "stdout",
          "text": [
            "           Date      Time Nitrogen dioxide   Status\n",
            "0    2020-01-01      1:00         35.65193  V µg/m³\n",
            "1    2020-01-01      2:00         37.99122  V µg/m³\n",
            "2    2020-01-01      3:00         35.70462  V µg/m³\n",
            "3    2020-01-01      4:00          36.5796  V µg/m³\n",
            "4    2020-01-01      5:00          32.9441  V µg/m³\n",
            "...         ...       ...              ...      ...\n",
            "8779 2020-12-31     20:00         11.22419  V µg/m³\n",
            "8780 2020-12-31     21:00         11.17037  V µg/m³\n",
            "8781 2020-12-31     22:00          9.54137  V µg/m³\n",
            "8782 2020-12-31     23:00          8.21683  V µg/m³\n",
            "8783 2020-12-31  24:00:00          8.16537  V µg/m³\n",
            "\n",
            "[8672 rows x 4 columns]\n"
          ]
        }
      ]
    },
    {
      "cell_type": "code",
      "source": [
        "df[\"Nitrogen dioxide\"] = df[\"Nitrogen dioxide\"].astype(float)\n",
        "df.info()"
      ],
      "metadata": {
        "colab": {
          "base_uri": "https://localhost:8080/"
        },
        "id": "Se7K1dIp78Fn",
        "outputId": "97ce3fce-8ddb-44b2-9a08-b26ae89d48bb"
      },
      "execution_count": null,
      "outputs": [
        {
          "output_type": "stream",
          "name": "stdout",
          "text": [
            "<class 'pandas.core.frame.DataFrame'>\n",
            "Int64Index: 8672 entries, 0 to 8783\n",
            "Data columns (total 4 columns):\n",
            " #   Column            Non-Null Count  Dtype         \n",
            "---  ------            --------------  -----         \n",
            " 0   Date              8672 non-null   datetime64[ns]\n",
            " 1   Time              8672 non-null   object        \n",
            " 2   Nitrogen dioxide  8672 non-null   float64       \n",
            " 3   Status            8672 non-null   object        \n",
            "dtypes: datetime64[ns](1), float64(1), object(2)\n",
            "memory usage: 338.8+ KB\n"
          ]
        }
      ]
    },
    {
      "cell_type": "code",
      "source": [
        "df= df.sort_values(\"Nitrogen dioxide\")\n",
        "print(df)"
      ],
      "metadata": {
        "colab": {
          "base_uri": "https://localhost:8080/"
        },
        "id": "o0c-7nmSfNce",
        "outputId": "f02cd9ec-9744-49b8-ff9b-2cac1893a676"
      },
      "execution_count": null,
      "outputs": [
        {
          "output_type": "stream",
          "name": "stdout",
          "text": [
            "           Date      Time  Nitrogen dioxide   Status\n",
            "3442 2020-05-23     11:00           0.31041  V µg/m³\n",
            "5844 2020-08-31     13:00           0.38390  V µg/m³\n",
            "7684 2020-11-16      5:00           0.40116  V µg/m³\n",
            "7756 2020-11-19      5:00           0.40229  V µg/m³\n",
            "3440 2020-05-23      9:00           0.41544  V µg/m³\n",
            "...         ...       ...               ...      ...\n",
            "501  2020-01-21     22:00          66.59166  V µg/m³\n",
            "504  2020-01-22      1:00          67.62859  V µg/m³\n",
            "503  2020-01-21  24:00:00          69.17734  V µg/m³\n",
            "2347 2020-07-04     20:00          69.88823  V µg/m³\n",
            "502  2020-01-21     23:00          70.41527  V µg/m³\n",
            "\n",
            "[8672 rows x 4 columns]\n"
          ]
        }
      ]
    },
    {
      "cell_type": "code",
      "source": [
        "#Create a new column for 'Weekdays' (use df['Date'].dt.weekday)\n",
        "df[\"Weekdays\"] = df[\"Date\"].dt.weekday\n",
        "print(df)\n"
      ],
      "metadata": {
        "colab": {
          "base_uri": "https://localhost:8080/"
        },
        "id": "23Bji8wR8jnh",
        "outputId": "c34730b6-2833-4654-bc7a-eb11bd2f14dc"
      },
      "execution_count": null,
      "outputs": [
        {
          "output_type": "stream",
          "name": "stdout",
          "text": [
            "           Date      Time  Nitrogen dioxide   Status  Weekdays\n",
            "3442 2020-05-23     11:00           0.31041  V µg/m³         5\n",
            "5844 2020-08-31     13:00           0.38390  V µg/m³         0\n",
            "7684 2020-11-16      5:00           0.40116  V µg/m³         0\n",
            "7756 2020-11-19      5:00           0.40229  V µg/m³         3\n",
            "3440 2020-05-23      9:00           0.41544  V µg/m³         5\n",
            "...         ...       ...               ...      ...       ...\n",
            "501  2020-01-21     22:00          66.59166  V µg/m³         1\n",
            "504  2020-01-22      1:00          67.62859  V µg/m³         2\n",
            "503  2020-01-21  24:00:00          69.17734  V µg/m³         1\n",
            "2347 2020-07-04     20:00          69.88823  V µg/m³         5\n",
            "502  2020-01-21     23:00          70.41527  V µg/m³         1\n",
            "\n",
            "[8672 rows x 5 columns]\n"
          ]
        }
      ]
    },
    {
      "cell_type": "code",
      "source": [
        "df.drop(\"Status\", axis = 1, inplace=True)\n",
        "df"
      ],
      "metadata": {
        "colab": {
          "base_uri": "https://localhost:8080/",
          "height": 424
        },
        "id": "1iOWmox3CL50",
        "outputId": "aedb74cf-6e79-4ea5-8b34-58255cd4d621"
      },
      "execution_count": null,
      "outputs": [
        {
          "output_type": "execute_result",
          "data": {
            "text/html": [
              "\n",
              "  <div id=\"df-24ab8e7b-c98b-4440-870a-bb781c3f7d3d\">\n",
              "    <div class=\"colab-df-container\">\n",
              "      <div>\n",
              "<style scoped>\n",
              "    .dataframe tbody tr th:only-of-type {\n",
              "        vertical-align: middle;\n",
              "    }\n",
              "\n",
              "    .dataframe tbody tr th {\n",
              "        vertical-align: top;\n",
              "    }\n",
              "\n",
              "    .dataframe thead th {\n",
              "        text-align: right;\n",
              "    }\n",
              "</style>\n",
              "<table border=\"1\" class=\"dataframe\">\n",
              "  <thead>\n",
              "    <tr style=\"text-align: right;\">\n",
              "      <th></th>\n",
              "      <th>Date</th>\n",
              "      <th>Time</th>\n",
              "      <th>Nitrogen dioxide</th>\n",
              "      <th>Weekdays</th>\n",
              "    </tr>\n",
              "  </thead>\n",
              "  <tbody>\n",
              "    <tr>\n",
              "      <th>3442</th>\n",
              "      <td>2020-05-23</td>\n",
              "      <td>11:00</td>\n",
              "      <td>0.31041</td>\n",
              "      <td>5</td>\n",
              "    </tr>\n",
              "    <tr>\n",
              "      <th>5844</th>\n",
              "      <td>2020-08-31</td>\n",
              "      <td>13:00</td>\n",
              "      <td>0.38390</td>\n",
              "      <td>0</td>\n",
              "    </tr>\n",
              "    <tr>\n",
              "      <th>7684</th>\n",
              "      <td>2020-11-16</td>\n",
              "      <td>5:00</td>\n",
              "      <td>0.40116</td>\n",
              "      <td>0</td>\n",
              "    </tr>\n",
              "    <tr>\n",
              "      <th>7756</th>\n",
              "      <td>2020-11-19</td>\n",
              "      <td>5:00</td>\n",
              "      <td>0.40229</td>\n",
              "      <td>3</td>\n",
              "    </tr>\n",
              "    <tr>\n",
              "      <th>3440</th>\n",
              "      <td>2020-05-23</td>\n",
              "      <td>9:00</td>\n",
              "      <td>0.41544</td>\n",
              "      <td>5</td>\n",
              "    </tr>\n",
              "    <tr>\n",
              "      <th>...</th>\n",
              "      <td>...</td>\n",
              "      <td>...</td>\n",
              "      <td>...</td>\n",
              "      <td>...</td>\n",
              "    </tr>\n",
              "    <tr>\n",
              "      <th>501</th>\n",
              "      <td>2020-01-21</td>\n",
              "      <td>22:00</td>\n",
              "      <td>66.59166</td>\n",
              "      <td>1</td>\n",
              "    </tr>\n",
              "    <tr>\n",
              "      <th>504</th>\n",
              "      <td>2020-01-22</td>\n",
              "      <td>1:00</td>\n",
              "      <td>67.62859</td>\n",
              "      <td>2</td>\n",
              "    </tr>\n",
              "    <tr>\n",
              "      <th>503</th>\n",
              "      <td>2020-01-21</td>\n",
              "      <td>24:00:00</td>\n",
              "      <td>69.17734</td>\n",
              "      <td>1</td>\n",
              "    </tr>\n",
              "    <tr>\n",
              "      <th>2347</th>\n",
              "      <td>2020-07-04</td>\n",
              "      <td>20:00</td>\n",
              "      <td>69.88823</td>\n",
              "      <td>5</td>\n",
              "    </tr>\n",
              "    <tr>\n",
              "      <th>502</th>\n",
              "      <td>2020-01-21</td>\n",
              "      <td>23:00</td>\n",
              "      <td>70.41527</td>\n",
              "      <td>1</td>\n",
              "    </tr>\n",
              "  </tbody>\n",
              "</table>\n",
              "<p>8672 rows × 4 columns</p>\n",
              "</div>\n",
              "      <button class=\"colab-df-convert\" onclick=\"convertToInteractive('df-24ab8e7b-c98b-4440-870a-bb781c3f7d3d')\"\n",
              "              title=\"Convert this dataframe to an interactive table.\"\n",
              "              style=\"display:none;\">\n",
              "        \n",
              "  <svg xmlns=\"http://www.w3.org/2000/svg\" height=\"24px\"viewBox=\"0 0 24 24\"\n",
              "       width=\"24px\">\n",
              "    <path d=\"M0 0h24v24H0V0z\" fill=\"none\"/>\n",
              "    <path d=\"M18.56 5.44l.94 2.06.94-2.06 2.06-.94-2.06-.94-.94-2.06-.94 2.06-2.06.94zm-11 1L8.5 8.5l.94-2.06 2.06-.94-2.06-.94L8.5 2.5l-.94 2.06-2.06.94zm10 10l.94 2.06.94-2.06 2.06-.94-2.06-.94-.94-2.06-.94 2.06-2.06.94z\"/><path d=\"M17.41 7.96l-1.37-1.37c-.4-.4-.92-.59-1.43-.59-.52 0-1.04.2-1.43.59L10.3 9.45l-7.72 7.72c-.78.78-.78 2.05 0 2.83L4 21.41c.39.39.9.59 1.41.59.51 0 1.02-.2 1.41-.59l7.78-7.78 2.81-2.81c.8-.78.8-2.07 0-2.86zM5.41 20L4 18.59l7.72-7.72 1.47 1.35L5.41 20z\"/>\n",
              "  </svg>\n",
              "      </button>\n",
              "      \n",
              "  <style>\n",
              "    .colab-df-container {\n",
              "      display:flex;\n",
              "      flex-wrap:wrap;\n",
              "      gap: 12px;\n",
              "    }\n",
              "\n",
              "    .colab-df-convert {\n",
              "      background-color: #E8F0FE;\n",
              "      border: none;\n",
              "      border-radius: 50%;\n",
              "      cursor: pointer;\n",
              "      display: none;\n",
              "      fill: #1967D2;\n",
              "      height: 32px;\n",
              "      padding: 0 0 0 0;\n",
              "      width: 32px;\n",
              "    }\n",
              "\n",
              "    .colab-df-convert:hover {\n",
              "      background-color: #E2EBFA;\n",
              "      box-shadow: 0px 1px 2px rgba(60, 64, 67, 0.3), 0px 1px 3px 1px rgba(60, 64, 67, 0.15);\n",
              "      fill: #174EA6;\n",
              "    }\n",
              "\n",
              "    [theme=dark] .colab-df-convert {\n",
              "      background-color: #3B4455;\n",
              "      fill: #D2E3FC;\n",
              "    }\n",
              "\n",
              "    [theme=dark] .colab-df-convert:hover {\n",
              "      background-color: #434B5C;\n",
              "      box-shadow: 0px 1px 3px 1px rgba(0, 0, 0, 0.15);\n",
              "      filter: drop-shadow(0px 1px 2px rgba(0, 0, 0, 0.3));\n",
              "      fill: #FFFFFF;\n",
              "    }\n",
              "  </style>\n",
              "\n",
              "      <script>\n",
              "        const buttonEl =\n",
              "          document.querySelector('#df-24ab8e7b-c98b-4440-870a-bb781c3f7d3d button.colab-df-convert');\n",
              "        buttonEl.style.display =\n",
              "          google.colab.kernel.accessAllowed ? 'block' : 'none';\n",
              "\n",
              "        async function convertToInteractive(key) {\n",
              "          const element = document.querySelector('#df-24ab8e7b-c98b-4440-870a-bb781c3f7d3d');\n",
              "          const dataTable =\n",
              "            await google.colab.kernel.invokeFunction('convertToInteractive',\n",
              "                                                     [key], {});\n",
              "          if (!dataTable) return;\n",
              "\n",
              "          const docLinkHtml = 'Like what you see? Visit the ' +\n",
              "            '<a target=\"_blank\" href=https://colab.research.google.com/notebooks/data_table.ipynb>data table notebook</a>'\n",
              "            + ' to learn more about interactive tables.';\n",
              "          element.innerHTML = '';\n",
              "          dataTable['output_type'] = 'display_data';\n",
              "          await google.colab.output.renderOutput(dataTable, element);\n",
              "          const docLink = document.createElement('div');\n",
              "          docLink.innerHTML = docLinkHtml;\n",
              "          element.appendChild(docLink);\n",
              "        }\n",
              "      </script>\n",
              "    </div>\n",
              "  </div>\n",
              "  "
            ],
            "text/plain": [
              "           Date      Time  Nitrogen dioxide  Weekdays\n",
              "3442 2020-05-23     11:00           0.31041         5\n",
              "5844 2020-08-31     13:00           0.38390         0\n",
              "7684 2020-11-16      5:00           0.40116         0\n",
              "7756 2020-11-19      5:00           0.40229         3\n",
              "3440 2020-05-23      9:00           0.41544         5\n",
              "...         ...       ...               ...       ...\n",
              "501  2020-01-21     22:00          66.59166         1\n",
              "504  2020-01-22      1:00          67.62859         2\n",
              "503  2020-01-21  24:00:00          69.17734         1\n",
              "2347 2020-07-04     20:00          69.88823         5\n",
              "502  2020-01-21     23:00          70.41527         1\n",
              "\n",
              "[8672 rows x 4 columns]"
            ]
          },
          "metadata": {},
          "execution_count": 155
        }
      ]
    },
    {
      "cell_type": "code",
      "source": [
        "#Rename the column Nitrogen dioxide level to NO2 Level (V ug/m2)\n",
        "df['NO2 Level (V ug/m2)'] = df['Nitrogen dioxide']\n",
        "print(df)\n"
      ],
      "metadata": {
        "colab": {
          "base_uri": "https://localhost:8080/"
        },
        "id": "rG-ZhdlL9stA",
        "outputId": "1c13b50d-e0e8-4032-a31e-d91bb6a8c727"
      },
      "execution_count": null,
      "outputs": [
        {
          "output_type": "stream",
          "name": "stdout",
          "text": [
            "           Date      Time  Nitrogen dioxide  Weekdays  NO2 Level (V ug/m2)\n",
            "3442 2020-05-23     11:00           0.31041         5              0.31041\n",
            "5844 2020-08-31     13:00           0.38390         0              0.38390\n",
            "7684 2020-11-16      5:00           0.40116         0              0.40116\n",
            "7756 2020-11-19      5:00           0.40229         3              0.40229\n",
            "3440 2020-05-23      9:00           0.41544         5              0.41544\n",
            "...         ...       ...               ...       ...                  ...\n",
            "501  2020-01-21     22:00          66.59166         1             66.59166\n",
            "504  2020-01-22      1:00          67.62859         2             67.62859\n",
            "503  2020-01-21  24:00:00          69.17734         1             69.17734\n",
            "2347 2020-07-04     20:00          69.88823         5             69.88823\n",
            "502  2020-01-21     23:00          70.41527         1             70.41527\n",
            "\n",
            "[8672 rows x 5 columns]\n"
          ]
        }
      ]
    },
    {
      "cell_type": "markdown",
      "source": [
        "### Expand the dataset and show summary statistics for larger dataset\n",
        "---\n",
        "\n",
        "There is a second data set here covering the year 2021:  https://drive.google.com/uc?id=1aYmBf9il2dWA-EROvbYRCZ1rU2t7JwvJ  \n",
        "\n",
        "Concatenate the two datasets to expand it to 2020 and 2021.  \n",
        "\n",
        "Before you can concatenate the datasets you will need to clean and wrangle the second dataset in the same way as the first.  Use the code cell below.  Give the second dataset a different name. \n",
        "\n",
        "After the datasets have been concatenated, group the data by Weekdays and show summary statistics by day of the week."
      ],
      "metadata": {
        "id": "jnzAnbsmHk4B"
      }
    },
    {
      "cell_type": "code",
      "source": [
        "#Read the dataset into a dataframe, skipping the first row\n",
        "#Convert dates to date format\n",
        "#Remove rows with nodata in the Nitrogen dioxide column\n",
        "#Convert the Nitrogen dioxide levels values to float type\n",
        "#Sort by Nitrogen dioxide level\n",
        "#Create a new column for 'Weekdays' (use df['Date'].dt.weekday)\n",
        "#Rename the column Nitrogen dioxide level to NO2 Level (V ug/m2)\n",
        "#Remove the Status column"
      ],
      "metadata": {
        "id": "Gz4u6trsIQJ6"
      },
      "execution_count": null,
      "outputs": []
    },
    {
      "cell_type": "code",
      "source": [
        "import pandas as pd\n",
        "url = \"https://drive.google.com/uc?id=1QSNJ3B1ku8kjXsA_tCBh4fbpDK7wVLAA\"\n",
        "df = pd.read_csv(url, skiprows=1)\n",
        "url2 = \"https://drive.google.com/uc?id=1aYmBf9il2dWA-EROvbYRCZ1rU2t7JwvJ\"\n",
        "df2 = pd.read_csv(url2, skiprows=1)\n",
        "df_new = pd.concat([df, df2], ignore_index = True)\n",
        "print(df_new)\n"
      ],
      "metadata": {
        "colab": {
          "base_uri": "https://localhost:8080/"
        },
        "id": "qT8SdIgPEpeM",
        "outputId": "519ab5c1-50a1-4195-cf90-2a88f0876739"
      },
      "execution_count": null,
      "outputs": [
        {
          "output_type": "stream",
          "name": "stdout",
          "text": [
            "             Date   Time Nitrogen dioxide   Status\n",
            "0      01/01/2020   1:00         35.65193  V µg/m³\n",
            "1      01/01/2020   2:00         37.99122  V µg/m³\n",
            "2      01/01/2020   3:00         35.70462  V µg/m³\n",
            "3      01/01/2020   4:00          36.5796  V µg/m³\n",
            "4      01/01/2020   5:00          32.9441  V µg/m³\n",
            "...           ...    ...              ...      ...\n",
            "17539  31/12/2021  20:00         12.51492  P µg/m³\n",
            "17540  31/12/2021  21:00         14.00046  P µg/m³\n",
            "17541  31/12/2021  22:00         10.04780  P µg/m³\n",
            "17542  31/12/2021  23:00          3.49557  P µg/m³\n",
            "17543  31/12/2021  24:00          4.15682  P µg/m³\n",
            "\n",
            "[17544 rows x 4 columns]\n"
          ]
        }
      ]
    },
    {
      "cell_type": "code",
      "source": [
        "df_new[\"Date\"]= pd.to_datetime(df_new[\"Date\"])\n",
        "df_new.info()\n",
        "print(df_new)"
      ],
      "metadata": {
        "colab": {
          "base_uri": "https://localhost:8080/"
        },
        "id": "8oDrTAYnHMVJ",
        "outputId": "385fdb85-d79e-4888-a19d-d1555ecfe28c"
      },
      "execution_count": null,
      "outputs": [
        {
          "output_type": "stream",
          "name": "stdout",
          "text": [
            "<class 'pandas.core.frame.DataFrame'>\n",
            "RangeIndex: 17544 entries, 0 to 17543\n",
            "Data columns (total 4 columns):\n",
            " #   Column            Non-Null Count  Dtype         \n",
            "---  ------            --------------  -----         \n",
            " 0   Date              17544 non-null  datetime64[ns]\n",
            " 1   Time              17544 non-null  object        \n",
            " 2   Nitrogen dioxide  17544 non-null  object        \n",
            " 3   Status            17544 non-null  object        \n",
            "dtypes: datetime64[ns](1), object(3)\n",
            "memory usage: 548.4+ KB\n",
            "            Date   Time Nitrogen dioxide   Status\n",
            "0     2020-01-01   1:00         35.65193  V µg/m³\n",
            "1     2020-01-01   2:00         37.99122  V µg/m³\n",
            "2     2020-01-01   3:00         35.70462  V µg/m³\n",
            "3     2020-01-01   4:00          36.5796  V µg/m³\n",
            "4     2020-01-01   5:00          32.9441  V µg/m³\n",
            "...          ...    ...              ...      ...\n",
            "17539 2021-12-31  20:00         12.51492  P µg/m³\n",
            "17540 2021-12-31  21:00         14.00046  P µg/m³\n",
            "17541 2021-12-31  22:00         10.04780  P µg/m³\n",
            "17542 2021-12-31  23:00          3.49557  P µg/m³\n",
            "17543 2021-12-31  24:00          4.15682  P µg/m³\n",
            "\n",
            "[17544 rows x 4 columns]\n"
          ]
        }
      ]
    },
    {
      "cell_type": "code",
      "source": [
        "df_new[\"Nitrogen dioxide\"]= df_new[\"Nitrogen dioxide\"][df_new[\"Nitrogen dioxide\"] != \"nodata\"]\n",
        "print(df_new)"
      ],
      "metadata": {
        "colab": {
          "base_uri": "https://localhost:8080/"
        },
        "id": "rU0MzjRRJBR7",
        "outputId": "486a5a9f-fc83-4b1d-f6a9-5d7b6bee1921"
      },
      "execution_count": null,
      "outputs": [
        {
          "output_type": "stream",
          "name": "stdout",
          "text": [
            "            Date   Time Nitrogen dioxide   Status\n",
            "0     2020-01-01   1:00         35.65193  V µg/m³\n",
            "1     2020-01-01   2:00         37.99122  V µg/m³\n",
            "2     2020-01-01   3:00         35.70462  V µg/m³\n",
            "3     2020-01-01   4:00          36.5796  V µg/m³\n",
            "4     2020-01-01   5:00          32.9441  V µg/m³\n",
            "...          ...    ...              ...      ...\n",
            "17539 2021-12-31  20:00         12.51492  P µg/m³\n",
            "17540 2021-12-31  21:00         14.00046  P µg/m³\n",
            "17541 2021-12-31  22:00         10.04780  P µg/m³\n",
            "17542 2021-12-31  23:00          3.49557  P µg/m³\n",
            "17543 2021-12-31  24:00          4.15682  P µg/m³\n",
            "\n",
            "[17544 rows x 4 columns]\n"
          ]
        }
      ]
    },
    {
      "cell_type": "code",
      "source": [
        "df_new[\"Nitrogen dioxide\"] = df_new[\"Nitrogen dioxide\"].astype(float)\n",
        "df_new.info()\n"
      ],
      "metadata": {
        "colab": {
          "base_uri": "https://localhost:8080/"
        },
        "id": "yObh7qMXInJt",
        "outputId": "861556d1-e942-46d6-e99f-680a1387ec6f"
      },
      "execution_count": null,
      "outputs": [
        {
          "output_type": "stream",
          "name": "stdout",
          "text": [
            "<class 'pandas.core.frame.DataFrame'>\n",
            "RangeIndex: 17544 entries, 0 to 17543\n",
            "Data columns (total 4 columns):\n",
            " #   Column            Non-Null Count  Dtype         \n",
            "---  ------            --------------  -----         \n",
            " 0   Date              17544 non-null  datetime64[ns]\n",
            " 1   Time              17544 non-null  object        \n",
            " 2   Nitrogen dioxide  17352 non-null  float64       \n",
            " 3   Status            17544 non-null  object        \n",
            "dtypes: datetime64[ns](1), float64(1), object(2)\n",
            "memory usage: 548.4+ KB\n"
          ]
        }
      ]
    },
    {
      "cell_type": "code",
      "source": [
        "df_new = df_new.sort_values([\"Nitrogen dioxide\"])    \n",
        "print(df_new)\n",
        "\n",
        "#? why there're NaN in Nitrogen dioxie?????"
      ],
      "metadata": {
        "colab": {
          "base_uri": "https://localhost:8080/"
        },
        "id": "Vu6e-PLGLU9c",
        "outputId": "a202b345-908b-4913-a162-a87fb1ed4045"
      },
      "execution_count": null,
      "outputs": [
        {
          "output_type": "stream",
          "name": "stdout",
          "text": [
            "            Date   Time  Nitrogen dioxide   Status\n",
            "15961 2021-10-27  02:00          -0.77743  P µg/m³\n",
            "15793 2021-10-20  02:00          -0.54076  P µg/m³\n",
            "15891 2021-10-24  04:00          -0.41740  P µg/m³\n",
            "15458 2021-06-10  03:00          -0.31174  P µg/m³\n",
            "15962 2021-10-27  03:00          -0.28544  P µg/m³\n",
            "...          ...    ...               ...      ...\n",
            "15157 2021-09-23  14:00               NaN  V µg/m³\n",
            "15464 2021-06-10  09:00               NaN  P µg/m³\n",
            "15801 2021-10-20  10:00               NaN  P µg/m³\n",
            "16810 2021-01-12  11:00               NaN  P µg/m³\n",
            "17171 2021-12-16  12:00               NaN  P µg/m³\n",
            "\n",
            "[17544 rows x 4 columns]\n"
          ]
        }
      ]
    },
    {
      "cell_type": "code",
      "source": [
        "#Weekdays' (use df['Date'].dt.weekday\n",
        "df_new['Weekdays']= df_new['Date'].dt.weekday\n",
        "print(df_new)\n",
        "\n",
        "#Rename the column Nitrogen dioxide level to NO2 Level (V ug/m2)\n",
        "df_new[\"NO2 Level (V ug/m2)\"] = df_new['Nitrogen dioxide']\n",
        "print(df_new)\n",
        "#Remove the Status column\n",
        "df_new.drop(\"Status\", axis= 1, inplace = True)\n",
        "print(df_new)"
      ],
      "metadata": {
        "colab": {
          "base_uri": "https://localhost:8080/"
        },
        "id": "TpSKgGRdL66Q",
        "outputId": "b22fe76b-5bf1-4d58-c127-5fdef712be8a"
      },
      "execution_count": null,
      "outputs": [
        {
          "output_type": "stream",
          "name": "stdout",
          "text": [
            "            Date   Time  ...  Weekdays NO2 Level (V ug/m2)\n",
            "15961 2021-10-27  02:00  ...         2            -0.77743\n",
            "15793 2021-10-20  02:00  ...         2            -0.54076\n",
            "15891 2021-10-24  04:00  ...         6            -0.41740\n",
            "15458 2021-06-10  03:00  ...         3            -0.31174\n",
            "15962 2021-10-27  03:00  ...         2            -0.28544\n",
            "...          ...    ...  ...       ...                 ...\n",
            "15157 2021-09-23  14:00  ...         3                 NaN\n",
            "15464 2021-06-10  09:00  ...         3                 NaN\n",
            "15801 2021-10-20  10:00  ...         2                 NaN\n",
            "16810 2021-01-12  11:00  ...         1                 NaN\n",
            "17171 2021-12-16  12:00  ...         3                 NaN\n",
            "\n",
            "[17544 rows x 6 columns]\n",
            "            Date   Time  ...  Weekdays NO2 Level (V ug/m2)\n",
            "15961 2021-10-27  02:00  ...         2            -0.77743\n",
            "15793 2021-10-20  02:00  ...         2            -0.54076\n",
            "15891 2021-10-24  04:00  ...         6            -0.41740\n",
            "15458 2021-06-10  03:00  ...         3            -0.31174\n",
            "15962 2021-10-27  03:00  ...         2            -0.28544\n",
            "...          ...    ...  ...       ...                 ...\n",
            "15157 2021-09-23  14:00  ...         3                 NaN\n",
            "15464 2021-06-10  09:00  ...         3                 NaN\n",
            "15801 2021-10-20  10:00  ...         2                 NaN\n",
            "16810 2021-01-12  11:00  ...         1                 NaN\n",
            "17171 2021-12-16  12:00  ...         3                 NaN\n",
            "\n",
            "[17544 rows x 6 columns]\n",
            "            Date   Time  Nitrogen dioxide  Weekdays  NO2 Level (V ug/m2)\n",
            "15961 2021-10-27  02:00          -0.77743         2             -0.77743\n",
            "15793 2021-10-20  02:00          -0.54076         2             -0.54076\n",
            "15891 2021-10-24  04:00          -0.41740         6             -0.41740\n",
            "15458 2021-06-10  03:00          -0.31174         3             -0.31174\n",
            "15962 2021-10-27  03:00          -0.28544         2             -0.28544\n",
            "...          ...    ...               ...       ...                  ...\n",
            "15157 2021-09-23  14:00               NaN         3                  NaN\n",
            "15464 2021-06-10  09:00               NaN         3                  NaN\n",
            "15801 2021-10-20  10:00               NaN         2                  NaN\n",
            "16810 2021-01-12  11:00               NaN         1                  NaN\n",
            "17171 2021-12-16  12:00               NaN         3                  NaN\n",
            "\n",
            "[17544 rows x 5 columns]\n"
          ]
        }
      ]
    },
    {
      "cell_type": "markdown",
      "source": [
        "### Helpful references\n",
        "---\n",
        "Skipping rows when reading datasets:  \n",
        "https://www.geeksforgeeks.org/how-to-skip-rows-while-reading-csv-file-using-pandas/  \n",
        "\n",
        "Converting strings to dates:  \n",
        "https://www.geeksforgeeks.org/convert-the-column-type-from-string-to-datetime-format-in-pandas-dataframe/\n",
        "\n",
        "Dropping rows where data has a given value:  \n",
        "https://www.datasciencemadesimple.com/drop-delete-rows-conditions-python-pandas/  \n",
        "(see section Drop a row or observation by condition) \n",
        "\n",
        "Convert a column of strings to a column of floats:\n",
        "https://datatofish.com/convert-string-to-float-dataframe/  \n",
        "\n",
        "Create a new column from data converted in an existing column:  \n",
        "https://www.geeksforgeeks.org/create-a-new-column-in-pandas-dataframe-based-on-the-existing-columns/  \n",
        "\n",
        "Rename a column:  \n",
        "https://pandas.pydata.org/docs/reference/api/pandas.DataFrame.rename.html  \n",
        "\n",
        "Remove a column by name:  \n",
        "https://www.kite.com/python/answers/how-to-delete-columns-from-a-pandas-%60dataframe%60-by-column-name-in-python#:~:text=Use%20the%20del%20keyword%20to,the%20name%20column_name%20from%20DataFrame%20.\n"
      ],
      "metadata": {
        "id": "hkj-Ofus_D6_"
      }
    },
    {
      "cell_type": "markdown",
      "source": [
        "#Reflection\n",
        "1. datetime\n",
        "2. merge\n",
        "3. drop\n",
        "4. change type: astype"
      ],
      "metadata": {
        "id": "k4Z1z693e1Nl"
      }
    }
  ]
}