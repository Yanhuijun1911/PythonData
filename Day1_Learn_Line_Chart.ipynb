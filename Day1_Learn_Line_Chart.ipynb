{
  "nbformat": 4,
  "nbformat_minor": 0,
  "metadata": {
    "colab": {
      "name": "Day1-Learn Line Chart.ipynb",
      "provenance": [],
      "collapsed_sections": [],
      "include_colab_link": true
    },
    "kernelspec": {
      "name": "python3",
      "display_name": "Python 3"
    },
    "language_info": {
      "name": "python"
    }
  },
  "cells": [
    {
      "cell_type": "markdown",
      "metadata": {
        "id": "view-in-github",
        "colab_type": "text"
      },
      "source": [
        "<a href=\"https://colab.research.google.com/github/Yanhuijun1911/PythonData/blob/main/Day1_Learn_Line_Chart.ipynb\" target=\"_parent\"><img src=\"https://colab.research.google.com/assets/colab-badge.svg\" alt=\"Open In Colab\"/></a>"
      ]
    },
    {
      "cell_type": "markdown",
      "metadata": {
        "id": "AVCxMzqnFpGg"
      },
      "source": [
        "# Using Python code to change the data for creating a chart\n",
        "---\n",
        "\n",
        "You have now looked at a dataset using Pandas, dropped rows of data with missing values (nodata) and changed datatypes.  Let's use the same dataset to practise creating a line chart.\n",
        "\n",
        "## Setting up\n",
        "\n",
        "In the cell code below, write the code to:\n",
        "* import the pandas library\n",
        "* store the link (url)\n",
        "* create a dataframe from the dataset  (df= )\n",
        "* display the dataframe (df) info\n",
        "* drop the rows that have no data in the 'NO2 Level' column\n",
        "* change the datatype for the Date column to datetime\n",
        "* change the datatype for the NO2 Level column to float\n",
        "\n",
        "\n",
        "\n",
        "\n",
        "\n",
        "\n",
        " "
      ]
    },
    {
      "cell_type": "code",
      "metadata": {
        "id": "-TvPXkxFFmNJ",
        "colab": {
          "base_uri": "https://localhost:8080/",
          "height": 920
        },
        "outputId": "b8de100b-006a-42cd-e432-36bf0af44d2b"
      },
      "source": [
        "# copy the 7 relevant code lines from the Sheppy College Learn 1 worksheet here\n",
        "import pandas as pd\n",
        "\n",
        "url = \"https://drive.google.com/uc?id=1_arR3BXakHSMSUkBfPkRleXBX1HZcJ5F\"\n",
        "df = pd.read_csv(url, skiprows=1)\n",
        "print(df)\n",
        "\n",
        "\n",
        "display (df.info())\n",
        "\n",
        "df.drop(df[df['NO2 Level'] == 'nodata'].index, inplace = True)\n",
        "\n",
        "df['Date'] = pd.to_datetime(df['Date'])\n",
        "\n",
        "df['NO2 Level'] = df['NO2 Level'].astype(float)\n",
        "display(df.info())\n",
        "print(df)\n",
        "\n",
        "\n"
      ],
      "execution_count": 1,
      "outputs": [
        {
          "output_type": "stream",
          "name": "stdout",
          "text": [
            "          Date      Time    Day NO2 Level\n",
            "0   01/01/2020   8:00:00    Mon      28.5\n",
            "1   02/01/2020   8:00:00   Tues      17.5\n",
            "2   03/01/2020   8:00:00    Wed      23.5\n",
            "3   04/01/2020   8:00:00  Thurs     28.23\n",
            "4   05/01/2020   8:00:00    Fri     24.53\n",
            "..         ...       ...    ...       ...\n",
            "86  27/03/2020   8:00:00    Wed      28.3\n",
            "87  28/03/2020   8:00:00  Thurs     19.45\n",
            "88  29/03/2020   8:00:00    Fri     21.04\n",
            "89  30/03/2020  12:00:00    Sat      4.23\n",
            "90  31/03/2020  12:00:00    Sun      1.59\n",
            "\n",
            "[91 rows x 4 columns]\n",
            "<class 'pandas.core.frame.DataFrame'>\n",
            "RangeIndex: 91 entries, 0 to 90\n",
            "Data columns (total 4 columns):\n",
            " #   Column     Non-Null Count  Dtype \n",
            "---  ------     --------------  ----- \n",
            " 0   Date       91 non-null     object\n",
            " 1   Time       91 non-null     object\n",
            " 2   Day        91 non-null     object\n",
            " 3   NO2 Level  91 non-null     object\n",
            "dtypes: object(4)\n",
            "memory usage: 3.0+ KB\n"
          ]
        },
        {
          "output_type": "display_data",
          "data": {
            "text/plain": [
              "None"
            ]
          },
          "metadata": {}
        },
        {
          "output_type": "stream",
          "name": "stdout",
          "text": [
            "<class 'pandas.core.frame.DataFrame'>\n",
            "Int64Index: 90 entries, 0 to 90\n",
            "Data columns (total 4 columns):\n",
            " #   Column     Non-Null Count  Dtype         \n",
            "---  ------     --------------  -----         \n",
            " 0   Date       90 non-null     datetime64[ns]\n",
            " 1   Time       90 non-null     object        \n",
            " 2   Day        90 non-null     object        \n",
            " 3   NO2 Level  90 non-null     float64       \n",
            "dtypes: datetime64[ns](1), float64(1), object(2)\n",
            "memory usage: 3.5+ KB\n"
          ]
        },
        {
          "output_type": "display_data",
          "data": {
            "text/plain": [
              "None"
            ]
          },
          "metadata": {}
        },
        {
          "output_type": "stream",
          "name": "stdout",
          "text": [
            "         Date      Time    Day  NO2 Level\n",
            "0  2020-01-01   8:00:00    Mon      28.50\n",
            "1  2020-02-01   8:00:00   Tues      17.50\n",
            "2  2020-03-01   8:00:00    Wed      23.50\n",
            "3  2020-04-01   8:00:00  Thurs      28.23\n",
            "4  2020-05-01   8:00:00    Fri      24.53\n",
            "..        ...       ...    ...        ...\n",
            "86 2020-03-27   8:00:00    Wed      28.30\n",
            "87 2020-03-28   8:00:00  Thurs      19.45\n",
            "88 2020-03-29   8:00:00    Fri      21.04\n",
            "89 2020-03-30  12:00:00    Sat       4.23\n",
            "90 2020-03-31  12:00:00    Sun       1.59\n",
            "\n",
            "[90 rows x 4 columns]\n"
          ]
        }
      ]
    },
    {
      "cell_type": "markdown",
      "metadata": {
        "id": "DFkBpPeKi9f8"
      },
      "source": [
        "## Creating a Line Chart\n",
        "\n",
        "Now you have linked to your dataset and your datatypes are correct for the Date and NO2 Levels, you can start to create a chart.  **Note**:  you must have run the code cell above before you can run the code cell below to make the chart.\n",
        "\n",
        "To start a chart you need to import a new library from Python (which must go before any code that needs to use it):\n",
        "```\n",
        "import matplotlib.pyplot as plt\n",
        "```\n",
        "In the code cell below, add the code to create a chart.  Every line chart will need:\n",
        "\n",
        "1. A title\n",
        "2. A label for x axis \n",
        "3. A label for y axis\n",
        "4. Some data to plot against the y axis\n",
        "5. A chart type and data\n",
        "6. A command to tell the chart to draw\n",
        "\n",
        "The codes for a line chart showing the NO2 levels by date are:\n",
        "\n",
        "```\n",
        "1. plt.title('My chart title')\n",
        "2. plt.xlabel('x axis label')\n",
        "3. plt.ylabel('y axis label')\n",
        "4. y = df['NO2 Level']\n",
        "5. plt.plot(y)\n",
        "6. plt.show()\n",
        "```\n",
        "**Note:** the code for line 5 always starts with plt.plot(), but the information in the brackets will depend on what data you are plotting.  (For these charts we are not adding x-axis values as there would be far too many)   \n",
        "\n",
        "Have a go at adding and running this code and see what your graph looks like, then change the title, x axis label and y axis label to something more appropriate.\n"
      ]
    },
    {
      "cell_type": "code",
      "metadata": {
        "id": "oXHNkyvhbOig",
        "colab": {
          "base_uri": "https://localhost:8080/",
          "height": 295
        },
        "outputId": "468f29e3-eade-4805-fbbc-c11fd21db748"
      },
      "source": [
        "import matplotlib.pyplot as plt\n",
        "\n",
        "# add code below to create the line chart\n",
        "plt.title('NO2 Level')\n",
        "plt.xlabel('x axis label')\n",
        "plt.ylabel('y axis label')\n",
        "y = df['NO2 Level']\n",
        "plt.plot(y)\n",
        "plt.show()\n",
        "\n"
      ],
      "execution_count": null,
      "outputs": [
        {
          "output_type": "display_data",
          "data": {
            "image/png": "[encoded data removed]",
            "text/plain": [
              "<Figure size 432x288 with 1 Axes>"
            ]
          },
          "metadata": {
            "needs_background": "light"
          }
        }
      ]
    },
    {
      "cell_type": "markdown",
      "metadata": {
        "id": "vUWhsF1ihcak"
      },
      "source": [
        "## Changing the data\n",
        "\n",
        "Now lets clear the last chart and make a new one that is a bit more meaningful."
      ]
    },
    {
      "cell_type": "markdown",
      "metadata": {
        "id": "d8LrSIQjhkuM"
      },
      "source": [
        "## Using groupby() to Simplify Data (linechart2)\n",
        "\n",
        "Data can be grouped to allow it to be easier to understand in a chart.  If for example you had hundreds of records that included dates and there were multiple entries for one month, it might be beneficial to calculate the maximum or minimum or average (mean or median) for an individual month.\n",
        "\n",
        "In this dataset, the month is included in the date so can't be accessed easily on its own.  So, you can create new columns and extract, or calculate data from existing columns to get the data you need.\n",
        "\n",
        "The example below creates a new column called Month, and extracts the month of the date to populate the new column:\n",
        "```\n",
        "df['Month'] = df['Date'].dt.month\n",
        "```\n",
        "\n",
        "Now there is a Month column, the data can be grouped by month\n",
        "```\n",
        "y = df.groupby(['Month'])['NO2 Level'].mean()\n",
        "plt.plot(y)\n",
        "```\n",
        "In the code cell below:\n",
        "* create the new Month column \n",
        "* create a chart title \"NO2 levels by month\"\n",
        "* create an x axis label \"Month number\"\n",
        "* create a y axis label NO2 mg/m3\n",
        "* group the NO2 level data by month, calculating the mean (as above)\n",
        "* plot the grouped data (y)\n",
        "* show the plot\n",
        "\n",
        "\n",
        "\n",
        "\n"
      ]
    },
    {
      "cell_type": "code",
      "metadata": {
        "id": "W8xSimyducP7",
        "colab": {
          "base_uri": "https://localhost:8080/",
          "height": 295
        },
        "outputId": "35d78b8d-d0ea-4ec5-aba5-ac05134e78b5"
      },
      "source": [
        "# clear the current chart\n",
        "plt.cla()\n",
        "\n",
        "# add code below to create the second line chart\n",
        "df['Month'] = df['Date'].dt.month\n",
        "y = df.groupby(['Month'])['NO2 Level'].mean()\n",
        "plt.title('NO2 Level by month')\n",
        "plt.xlabel('Month number')\n",
        "plt.ylabel('NO2 mg/m3')\n",
        "\n",
        "plt.plot(y)\n",
        "plt.show()\n"
      ],
      "execution_count": null,
      "outputs": [
        {
          "output_type": "display_data",
          "data": {
            "image/png": "[encoded data removed]",
            "text/plain": [
              "<Figure size 432x288 with 1 Axes>"
            ]
          },
          "metadata": {
            "needs_background": "light"
          }
        }
      ]
    },
    {
      "cell_type": "markdown",
      "metadata": {
        "id": "MzRd2pjWx0F9"
      },
      "source": [
        "You have now learnt the basics of creating a line chart using a dataset and the matplotlib.pyplot library.  To learn how to change the style of a chart further complete the worksheet called [Learn Styling Charts](https://colab.research.google.com/drive/1pTb2VbP6Etnbd-nyIqLSZKU_mezUFr1A?usp=sharing)."
      ]
    },
    {
      "cell_type": "markdown",
      "source": [
        "#Reflection\n",
        "\n",
        "1. Understanding of selecting data, drop none, change type (datetime, astype)\n",
        "2. plot: grouping data first"
      ],
      "metadata": {
        "id": "fJ2ef1nEhd7d"
      }
    },
    {
      "cell_type": "code",
      "source": [
        ""
      ],
      "metadata": {
        "id": "qY4M0_LTh_tM"
      },
      "execution_count": null,
      "outputs": []
    }
  ]
}