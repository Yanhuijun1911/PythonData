{
  "nbformat": 4,
  "nbformat_minor": 0,
  "metadata": {
    "colab": {
      "name": "Day1-Make a visualisation.ipynb",
      "provenance": [],
      "collapsed_sections": [],
      "include_colab_link": true
    },
    "kernelspec": {
      "name": "python3",
      "display_name": "Python 3"
    },
    "language_info": {
      "name": "python"
    }
  },
  "cells": [
    {
      "cell_type": "markdown",
      "metadata": {
        "id": "view-in-github",
        "colab_type": "text"
      },
      "source": [
        "<a href=\"https://colab.research.google.com/github/Yanhuijun1911/PythonData/blob/main/Day1_Make_a_visualisation.ipynb\" target=\"_parent\"><img src=\"https://colab.research.google.com/assets/colab-badge.svg\" alt=\"Open In Colab\"/></a>"
      ]
    },
    {
      "cell_type": "markdown",
      "metadata": {
        "id": "xWRHWcO8oKV7"
      },
      "source": [
        "# Make a visualisation\n",
        "\n",
        "Use the code cell below to:\n",
        "\n",
        "* import the pandas library\n",
        "* store the link (url)\n",
        "* create a dataframe from the dataset  (df= )\n",
        "* display the dataframe (df) info\n",
        "* drop the rows that have no data in the 'NO2 Level' column\n",
        "* change the datatype for the Date column to datetime\n",
        "* change the datatype for the NO2 Level column to float\n",
        "\n",
        "Choose the url for your chosen dataset from this list:\n",
        "\n",
        "### NO2-daily-mean-2014-2021-Rochester-Stoke.csv\n",
        "https://drive.google.com/uc?id=16aM_5IUWKrpY2Hq3SRWcElHg-NbzX84x  \n",
        "\n",
        "### NO2-measurement-data-2020-Rochester-Stoke.csv\n",
        "https://drive.google.com/uc?id=1QSNJ3B1ku8kjXsA_tCBh4fbpDK7wVLAA  \n",
        "\n",
        "###NO2-daily-mean 2014-2-21-Swale-Newington.csv\n",
        "https://drive.google.com/uc?id=142uY47X9XLXnHhLdTNjtGR2xu0mG914n\n",
        "\n",
        "### NO2-measurement-data-2020-Swale-Newington.csv\n",
        "https://drive.google.com/uc?id=1obId239aLn0yAFcUkTA0h9r6hc-M6Au\n",
        "\n",
        "###NO2-daily-mean 2014-2-21-Swale-Ospringe.csv\n",
        "https://drive.google.com/uc?id=14VhDFa5UE8RaZjLa4OR7MYa4WseNGENP\n",
        "\n",
        "### NO2-measurement-data-2020-Swale-Ospringe.csv\n",
        "https://drive.google.com/uc?id=1frgM9uNYHMoqn1Dfh3nPE8j2zgXJwYCm\n"
      ]
    },
    {
      "cell_type": "code",
      "metadata": {
        "id": "wzt08wuZoHV9",
        "colab": {
          "base_uri": "https://localhost:8080/",
          "height": 1000
        },
        "outputId": "83b93020-60a1-4c6f-e131-73f3ad8402a4"
      },
      "source": [
        "# prepare the data using the code in the learning worksheets, changing the url to the one for your chosen dataset\n",
        "import pandas as pd\n",
        "\n",
        "url = \"https://drive.google.com/uc?id=1QSNJ3B1ku8kjXsA_tCBh4fbpDK7wVLAA\"\n",
        "df = pd.read_csv(url, skiprows=1)\n",
        "print(df)\n",
        "\n",
        "display(df)\n",
        "display (df.info())\n",
        "df.drop(df[df['Nitrogen dioxide'] == 'nodata'].index, inplace = True)\n",
        "df['Date'] = pd.to_datetime(df['Date'])\n",
        "df['NO2 Level'] = df['Nitrogen dioxide'].astype(float)\n",
        "display(df.info())\n",
        "\n",
        "\n"
      ],
      "execution_count": 9,
      "outputs": [
        {
          "output_type": "stream",
          "name": "stdout",
          "text": [
            "            Date      Time Nitrogen dioxide   Status\n",
            "0     01/01/2020      1:00         35.65193  V µg/m³\n",
            "1     01/01/2020      2:00         37.99122  V µg/m³\n",
            "2     01/01/2020      3:00         35.70462  V µg/m³\n",
            "3     01/01/2020      4:00          36.5796  V µg/m³\n",
            "4     01/01/2020      5:00          32.9441  V µg/m³\n",
            "...          ...       ...              ...      ...\n",
            "8779  31/12/2020     20:00         11.22419  V µg/m³\n",
            "8780  31/12/2020     21:00         11.17037  V µg/m³\n",
            "8781  31/12/2020     22:00          9.54137  V µg/m³\n",
            "8782  31/12/2020     23:00          8.21683  V µg/m³\n",
            "8783  31/12/2020  24:00:00          8.16537  V µg/m³\n",
            "\n",
            "[8784 rows x 4 columns]\n"
          ]
        },
        {
          "output_type": "display_data",
          "data": {
            "text/html": [
              "\n",
              "  <div id=\"df-834b9a7c-c3b5-4899-99bd-422fd6873d1e\">\n",
              "    <div class=\"colab-df-container\">\n",
              "      <div>\n",
              "<style scoped>\n",
              "    .dataframe tbody tr th:only-of-type {\n",
              "        vertical-align: middle;\n",
              "    }\n",
              "\n",
              "    .dataframe tbody tr th {\n",
              "        vertical-align: top;\n",
              "    }\n",
              "\n",
              "    .dataframe thead th {\n",
              "        text-align: right;\n",
              "    }\n",
              "</style>\n",
              "<table border=\"1\" class=\"dataframe\">\n",
              "  <thead>\n",
              "    <tr style=\"text-align: right;\">\n",
              "      <th></th>\n",
              "      <th>Date</th>\n",
              "      <th>Time</th>\n",
              "      <th>Nitrogen dioxide</th>\n",
              "      <th>Status</th>\n",
              "    </tr>\n",
              "  </thead>\n",
              "  <tbody>\n",
              "    <tr>\n",
              "      <th>0</th>\n",
              "      <td>01/01/2020</td>\n",
              "      <td>1:00</td>\n",
              "      <td>35.65193</td>\n",
              "      <td>V µg/m³</td>\n",
              "    </tr>\n",
              "    <tr>\n",
              "      <th>1</th>\n",
              "      <td>01/01/2020</td>\n",
              "      <td>2:00</td>\n",
              "      <td>37.99122</td>\n",
              "      <td>V µg/m³</td>\n",
              "    </tr>\n",
              "    <tr>\n",
              "      <th>2</th>\n",
              "      <td>01/01/2020</td>\n",
              "      <td>3:00</td>\n",
              "      <td>35.70462</td>\n",
              "      <td>V µg/m³</td>\n",
              "    </tr>\n",
              "    <tr>\n",
              "      <th>3</th>\n",
              "      <td>01/01/2020</td>\n",
              "      <td>4:00</td>\n",
              "      <td>36.5796</td>\n",
              "      <td>V µg/m³</td>\n",
              "    </tr>\n",
              "    <tr>\n",
              "      <th>4</th>\n",
              "      <td>01/01/2020</td>\n",
              "      <td>5:00</td>\n",
              "      <td>32.9441</td>\n",
              "      <td>V µg/m³</td>\n",
              "    </tr>\n",
              "    <tr>\n",
              "      <th>...</th>\n",
              "      <td>...</td>\n",
              "      <td>...</td>\n",
              "      <td>...</td>\n",
              "      <td>...</td>\n",
              "    </tr>\n",
              "    <tr>\n",
              "      <th>8779</th>\n",
              "      <td>31/12/2020</td>\n",
              "      <td>20:00</td>\n",
              "      <td>11.22419</td>\n",
              "      <td>V µg/m³</td>\n",
              "    </tr>\n",
              "    <tr>\n",
              "      <th>8780</th>\n",
              "      <td>31/12/2020</td>\n",
              "      <td>21:00</td>\n",
              "      <td>11.17037</td>\n",
              "      <td>V µg/m³</td>\n",
              "    </tr>\n",
              "    <tr>\n",
              "      <th>8781</th>\n",
              "      <td>31/12/2020</td>\n",
              "      <td>22:00</td>\n",
              "      <td>9.54137</td>\n",
              "      <td>V µg/m³</td>\n",
              "    </tr>\n",
              "    <tr>\n",
              "      <th>8782</th>\n",
              "      <td>31/12/2020</td>\n",
              "      <td>23:00</td>\n",
              "      <td>8.21683</td>\n",
              "      <td>V µg/m³</td>\n",
              "    </tr>\n",
              "    <tr>\n",
              "      <th>8783</th>\n",
              "      <td>31/12/2020</td>\n",
              "      <td>24:00:00</td>\n",
              "      <td>8.16537</td>\n",
              "      <td>V µg/m³</td>\n",
              "    </tr>\n",
              "  </tbody>\n",
              "</table>\n",
              "<p>8784 rows × 4 columns</p>\n",
              "</div>\n",
              "      <button class=\"colab-df-convert\" onclick=\"convertToInteractive('df-834b9a7c-c3b5-4899-99bd-422fd6873d1e')\"\n",
              "              title=\"Convert this dataframe to an interactive table.\"\n",
              "              style=\"display:none;\">\n",
              "        \n",
              "  <svg xmlns=\"http://www.w3.org/2000/svg\" height=\"24px\"viewBox=\"0 0 24 24\"\n",
              "       width=\"24px\">\n",
              "    <path d=\"M0 0h24v24H0V0z\" fill=\"none\"/>\n",
              "    <path d=\"M18.56 5.44l.94 2.06.94-2.06 2.06-.94-2.06-.94-.94-2.06-.94 2.06-2.06.94zm-11 1L8.5 8.5l.94-2.06 2.06-.94-2.06-.94L8.5 2.5l-.94 2.06-2.06.94zm10 10l.94 2.06.94-2.06 2.06-.94-2.06-.94-.94-2.06-.94 2.06-2.06.94z\"/><path d=\"M17.41 7.96l-1.37-1.37c-.4-.4-.92-.59-1.43-.59-.52 0-1.04.2-1.43.59L10.3 9.45l-7.72 7.72c-.78.78-.78 2.05 0 2.83L4 21.41c.39.39.9.59 1.41.59.51 0 1.02-.2 1.41-.59l7.78-7.78 2.81-2.81c.8-.78.8-2.07 0-2.86zM5.41 20L4 18.59l7.72-7.72 1.47 1.35L5.41 20z\"/>\n",
              "  </svg>\n",
              "      </button>\n",
              "      \n",
              "  <style>\n",
              "    .colab-df-container {\n",
              "      display:flex;\n",
              "      flex-wrap:wrap;\n",
              "      gap: 12px;\n",
              "    }\n",
              "\n",
              "    .colab-df-convert {\n",
              "      background-color: #E8F0FE;\n",
              "      border: none;\n",
              "      border-radius: 50%;\n",
              "      cursor: pointer;\n",
              "      display: none;\n",
              "      fill: #1967D2;\n",
              "      height: 32px;\n",
              "      padding: 0 0 0 0;\n",
              "      width: 32px;\n",
              "    }\n",
              "\n",
              "    .colab-df-convert:hover {\n",
              "      background-color: #E2EBFA;\n",
              "      box-shadow: 0px 1px 2px rgba(60, 64, 67, 0.3), 0px 1px 3px 1px rgba(60, 64, 67, 0.15);\n",
              "      fill: #174EA6;\n",
              "    }\n",
              "\n",
              "    [theme=dark] .colab-df-convert {\n",
              "      background-color: #3B4455;\n",
              "      fill: #D2E3FC;\n",
              "    }\n",
              "\n",
              "    [theme=dark] .colab-df-convert:hover {\n",
              "      background-color: #434B5C;\n",
              "      box-shadow: 0px 1px 3px 1px rgba(0, 0, 0, 0.15);\n",
              "      filter: drop-shadow(0px 1px 2px rgba(0, 0, 0, 0.3));\n",
              "      fill: #FFFFFF;\n",
              "    }\n",
              "  </style>\n",
              "\n",
              "      <script>\n",
              "        const buttonEl =\n",
              "          document.querySelector('#df-834b9a7c-c3b5-4899-99bd-422fd6873d1e button.colab-df-convert');\n",
              "        buttonEl.style.display =\n",
              "          google.colab.kernel.accessAllowed ? 'block' : 'none';\n",
              "\n",
              "        async function convertToInteractive(key) {\n",
              "          const element = document.querySelector('#df-834b9a7c-c3b5-4899-99bd-422fd6873d1e');\n",
              "          const dataTable =\n",
              "            await google.colab.kernel.invokeFunction('convertToInteractive',\n",
              "                                                     [key], {});\n",
              "          if (!dataTable) return;\n",
              "\n",
              "          const docLinkHtml = 'Like what you see? Visit the ' +\n",
              "            '<a target=\"_blank\" href=https://colab.research.google.com/notebooks/data_table.ipynb>data table notebook</a>'\n",
              "            + ' to learn more about interactive tables.';\n",
              "          element.innerHTML = '';\n",
              "          dataTable['output_type'] = 'display_data';\n",
              "          await google.colab.output.renderOutput(dataTable, element);\n",
              "          const docLink = document.createElement('div');\n",
              "          docLink.innerHTML = docLinkHtml;\n",
              "          element.appendChild(docLink);\n",
              "        }\n",
              "      </script>\n",
              "    </div>\n",
              "  </div>\n",
              "  "
            ],
            "text/plain": [
              "            Date      Time Nitrogen dioxide   Status\n",
              "0     01/01/2020      1:00         35.65193  V µg/m³\n",
              "1     01/01/2020      2:00         37.99122  V µg/m³\n",
              "2     01/01/2020      3:00         35.70462  V µg/m³\n",
              "3     01/01/2020      4:00          36.5796  V µg/m³\n",
              "4     01/01/2020      5:00          32.9441  V µg/m³\n",
              "...          ...       ...              ...      ...\n",
              "8779  31/12/2020     20:00         11.22419  V µg/m³\n",
              "8780  31/12/2020     21:00         11.17037  V µg/m³\n",
              "8781  31/12/2020     22:00          9.54137  V µg/m³\n",
              "8782  31/12/2020     23:00          8.21683  V µg/m³\n",
              "8783  31/12/2020  24:00:00          8.16537  V µg/m³\n",
              "\n",
              "[8784 rows x 4 columns]"
            ]
          },
          "metadata": {}
        },
        {
          "output_type": "stream",
          "name": "stdout",
          "text": [
            "<class 'pandas.core.frame.DataFrame'>\n",
            "RangeIndex: 8784 entries, 0 to 8783\n",
            "Data columns (total 4 columns):\n",
            " #   Column            Non-Null Count  Dtype \n",
            "---  ------            --------------  ----- \n",
            " 0   Date              8784 non-null   object\n",
            " 1   Time              8784 non-null   object\n",
            " 2   Nitrogen dioxide  8784 non-null   object\n",
            " 3   Status            8784 non-null   object\n",
            "dtypes: object(4)\n",
            "memory usage: 274.6+ KB\n"
          ]
        },
        {
          "output_type": "display_data",
          "data": {
            "text/plain": [
              "None"
            ]
          },
          "metadata": {}
        },
        {
          "output_type": "stream",
          "name": "stdout",
          "text": [
            "<class 'pandas.core.frame.DataFrame'>\n",
            "Int64Index: 8672 entries, 0 to 8783\n",
            "Data columns (total 5 columns):\n",
            " #   Column            Non-Null Count  Dtype         \n",
            "---  ------            --------------  -----         \n",
            " 0   Date              8672 non-null   datetime64[ns]\n",
            " 1   Time              8672 non-null   object        \n",
            " 2   Nitrogen dioxide  8672 non-null   object        \n",
            " 3   Status            8672 non-null   object        \n",
            " 4   NO2 Level         8672 non-null   float64       \n",
            "dtypes: datetime64[ns](1), float64(1), object(3)\n",
            "memory usage: 406.5+ KB\n"
          ]
        },
        {
          "output_type": "display_data",
          "data": {
            "text/plain": [
              "None"
            ]
          },
          "metadata": {}
        }
      ]
    },
    {
      "cell_type": "markdown",
      "metadata": {
        "id": "LyKb6H0aqWWX"
      },
      "source": [
        "## Add code to group data as needed for the chart you want to make"
      ]
    },
    {
      "cell_type": "code",
      "metadata": {
        "id": "vg0gQLbkqe8s",
        "colab": {
          "base_uri": "https://localhost:8080/",
          "height": 295
        },
        "outputId": "f680ed91-71bd-440e-a7fe-6e81e1b131dd"
      },
      "source": [
        "import matplotlib.pyplot as plt\n",
        "\n",
        "df['Month'] = df['Date'].dt.month\n",
        "y = df.groupby(['Month'])['NO2 Level'].mean()\n",
        "plt.title('NO2 Level by month')\n",
        "plt.xlabel('Month number')\n",
        "plt.ylabel('NO2 mg/m3')\n",
        "\n",
        "plt.plot(y)\n",
        "plt.show()"
      ],
      "execution_count": 12,
      "outputs": [
        {
          "output_type": "display_data",
          "data": {
            "image/png": "[encoded data removed]",
            "text/plain": [
              "<Figure size 432x288 with 1 Axes>"
            ]
          },
          "metadata": {
            "needs_background": "light"
          }
        }
      ]
    },
    {
      "cell_type": "markdown",
      "metadata": {
        "id": "8ByaMMFHqf1L"
      },
      "source": [
        "## Create and style the chart"
      ]
    },
    {
      "cell_type": "code",
      "metadata": {
        "id": "D2I3sBXCqkMz",
        "colab": {
          "base_uri": "https://localhost:8080/",
          "height": 265
        },
        "outputId": "0cd9363d-f8a2-43c0-cb4c-cef1c43eff33"
      },
      "source": [
        "plt.plot(y, linestyle=\"dotted\", color=\"darkmagenta\")\n",
        "plt.show()"
      ],
      "execution_count": 15,
      "outputs": [
        {
          "output_type": "display_data",
          "data": {
            "image/png": "[encoded data removed]",
            "text/plain": [
              "<Figure size 432x288 with 1 Axes>"
            ]
          },
          "metadata": {
            "needs_background": "light"
          }
        }
      ]
    },
    {
      "cell_type": "markdown",
      "metadata": {
        "id": "7RjhGvOLqlD8"
      },
      "source": [
        "## Finally\n",
        "\n",
        "To download your finished image to a file:\n",
        "\n",
        "* right-click on the image\n",
        "* select Save image as...\n",
        "* give the file a name (maybe the same as the chart title)\n",
        "* save it to the downloads folder\n",
        "\n",
        "Go to the Jamboard:  https://jamboard.google.com/d/15AHamnKEWIVIf66_fu2Jp41G7J74fw0vlsLQfcApmJo/edit?usp=sharing  \n",
        "\n",
        "Click on the right arrow at the top of the page to go to the 2nd screen  \n",
        "Click on the image icon in the tools bar on the left  \n",
        "Select your file from the download folder  \n",
        "Move the image to a suitable place on the Jamboard"
      ]
    }
  ]
}