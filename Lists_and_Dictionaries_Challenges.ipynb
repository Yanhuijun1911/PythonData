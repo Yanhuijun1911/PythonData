{
  "nbformat": 4,
  "nbformat_minor": 0,
  "metadata": {
    "colab": {
      "name": "Lists and Dictionaries Challenges.ipynb",
      "provenance": [],
      "collapsed_sections": [],
      "include_colab_link": true
    },
    "kernelspec": {
      "name": "python3",
      "display_name": "Python 3"
    },
    "language_info": {
      "name": "python"
    }
  },
  "cells": [
    {
      "cell_type": "markdown",
      "metadata": {
        "id": "view-in-github",
        "colab_type": "text"
      },
      "source": [
        "<a href=\"https://colab.research.google.com/github/Yanhuijun1911/PythonData/blob/main/Lists_and_Dictionaries_Challenges.ipynb\" target=\"_parent\"><img src=\"https://colab.research.google.com/assets/colab-badge.svg\" alt=\"Open In Colab\"/></a>"
      ]
    },
    {
      "cell_type": "markdown",
      "metadata": {
        "id": "nEJLJX3J9B2k"
      },
      "source": [
        "# Some challenges to help you become more confident with using Lists, Tuples and Dictionaries\n",
        "\n",
        "---\n",
        "\n"
      ]
    },
    {
      "cell_type": "markdown",
      "metadata": {
        "id": "JvV6htgh9Nc1"
      },
      "source": [
        "### Exercise 1 - extending a list\n",
        "\n",
        "There are three ways to extend a list in Python:  \n",
        "*  use `list_name.append(item)`, `list_name.insert(item)`\n",
        "*  concatenate two lists using the + operator (e.g. new_list = list1 + list2)\n",
        "*  use `list1_name.extend(list2_name)`\n",
        "\n",
        "The last method allows us to add all the `list2` items onto `list1` and for the new, extended list to now be `list1`.  `list2` will always be added to the end of `list1`.  \n",
        "\n",
        "If the objective is to add list2 before list1 then use `list2.extend(list1)`\n",
        "\n",
        "Write a function which will:  \n",
        "*  create a list of **years** containing the years 1960, 1970, 1980, 1990, 2000  \n",
        "*  print the list of years  \n",
        "*  calculate how long ago each year was and print the year and how long ago it was (e.g. 1990 was 30 years ago)  *(Hint:  use the datetime library to get the current year)*   \n",
        "*  create a second list, **years2** containing the years 2010 and 2020, extend `years` to include these later years\n",
        "*  create a third list, **years3** containing the years 1930, 1940 and 1950 and extend the list to include all the years between 1930 and 2020\n",
        "*  print the final list\n",
        "\n",
        "Expected output:  \n",
        "[1960, 1970, 1980, 1990]  \n",
        "1960 was 61 years ago  \n",
        "1970 was 51 years ago  \n",
        "1980 was 41 years ago  \n",
        "1990 was 31 years ago  \n",
        "2000 was 21 years ago  \n",
        "[1930, 1940, 1950, 1960, 1970, 1980, 1990, 2000, 2010, 2020] "
      ]
    },
    {
      "cell_type": "code",
      "source": [
        "import pandas as pd\n",
        "import datetime "
      ],
      "metadata": {
        "id": "BZZZy4si33qu"
      },
      "execution_count": 2,
      "outputs": []
    },
    {
      "cell_type": "code",
      "metadata": {
        "id": "QAyTVqoO8-08",
        "colab": {
          "base_uri": "https://localhost:8080/"
        },
        "outputId": "63a95b56-5512-465e-992e-5c9485e73942"
      },
      "source": [
        "def add_years():\n",
        "  years = [1960, 1970, 1980, 1990, 2000]\n",
        "  print(years)\n",
        "\n",
        "  current_year = datetime.datetime.now().strftime('%Y')\n",
        "  current_year = int(current_year)\n",
        "\n",
        "  for value in years:\n",
        "    difference = current_year - value\n",
        "    print(value, 'was ', difference, 'years ago')\n",
        "\n",
        "  years2 = [2010, 2020]\n",
        "  years3 = [1930, 1940, 1950]\n",
        "  new_years = years + years2\n",
        "  new_years = years3 + new_years\n",
        "  print(new_years)\n",
        "\n",
        "  return\n",
        "\n",
        "add_years()\n"
      ],
      "execution_count": 3,
      "outputs": [
        {
          "output_type": "stream",
          "name": "stdout",
          "text": [
            "[1960, 1970, 1980, 1990, 2000]\n",
            "1960 was  62 years ago\n",
            "1970 was  52 years ago\n",
            "1980 was  42 years ago\n",
            "1990 was  32 years ago\n",
            "2000 was  22 years ago\n",
            "[1930, 1940, 1950, 1960, 1970, 1980, 1990, 2000, 2010, 2020]\n"
          ]
        }
      ]
    },
    {
      "cell_type": "markdown",
      "metadata": {
        "id": "S5iPicFzBzOW"
      },
      "source": [
        "---\n",
        "### Exercise 2 - creating a dictionary from a tuple and three lists\n",
        "\n",
        "Write a function which will create a list of dictionary items using the values in a tuple as the dictionary keys and the values in three corresponding lists as the dictionary values.\n",
        "\n",
        "*  loop through the status items in the tuple called task_status\n",
        "*  for each status, loop through the list with the same name (*Hint:  you can use eval(status) to access the list with the matching name  e.g. for task in eval(status)* )\n",
        "*  each time round this second loop, create a dictionary object with the  key:value pair {status : task}\n",
        "*  add each new dictionary to a list called **project_board** that was created as an empty list before the loops  \n",
        "*  print the project_board list\n",
        "\n",
        "Expected output:  \n",
        "\n",
        "[{'assigned': 'task1'}, {'assigned': 'task2'}, {'assigned': 'task3'}, {'inprogress': 'task4'}, {'inprogress': 'task5'}, {'inprogress': 'task6'}, {'completed': 'task7'}, {'completed': 'task8'}, {'completed': 'task9'}] \n",
        "\n"
      ]
    },
    {
      "cell_type": "code",
      "metadata": {
        "id": "KXYOSHY-C7m4",
        "colab": {
          "base_uri": "https://localhost:8080/"
        },
        "outputId": "081c3b8c-38b3-49af-be7b-985baa2f491e"
      },
      "source": [
        "def create_project_board():\n",
        "  task_status = (\"assigned\", \"inprogress\", \"completed\")\n",
        "  assigned = ['task1','task2','task3']\n",
        "  inprogress = ['task4','task5','task6']\n",
        "  completed = ['task7','task8','task9']\n",
        "  #  add your code below here\n",
        "  \n",
        "  project_board = []\n",
        "  for status in task_status:\n",
        "    if status == 'assigned':\n",
        "      for task in eval(status):\n",
        "        dic_1 = {status: task}\n",
        "        project_board.append(dic_1)\n",
        "         \n",
        "    elif status == 'inprogress':\n",
        "      for task in eval(status):\n",
        "        dic_2 = {status: task}\n",
        "        project_board.append(dic_2)\n",
        "         \n",
        "    else:\n",
        "      for task in eval(status):\n",
        "        dic_3 = {status: task}\n",
        "        project_board.append(dic_3)\n",
        "        \n",
        "  print(project_board)\n",
        "\n",
        "create_project_board()\n"
      ],
      "execution_count": 4,
      "outputs": [
        {
          "output_type": "stream",
          "name": "stdout",
          "text": [
            "[{'assigned': 'task1'}, {'assigned': 'task2'}, {'assigned': 'task3'}, {'inprogress': 'task4'}, {'inprogress': 'task5'}, {'inprogress': 'task6'}, {'completed': 'task7'}, {'completed': 'task8'}, {'completed': 'task9'}]\n"
          ]
        }
      ]
    },
    {
      "cell_type": "markdown",
      "metadata": {
        "id": "M1BuTu9p19Ma"
      },
      "source": [
        "---\n",
        "### Exercise 3 - names and heights\n",
        "\n",
        "Write a function which will allow a user to enter the names and heights of a set of people and add each set of information as a record (dictionary) to a list. The function will stop collecting names and heights when the user enters \"STOP\" as the name.\n",
        "\n",
        "Then, the function will:  \n",
        "\n",
        "*   produce a list of names in order of the shortest person to the tallest\n",
        "*   calculate the name of the tallest person\n",
        "*   calculate the name of the shortest person\n",
        "*   calculate the average height\n",
        "*   calculate the name of the person who is closest to the average height\n",
        "\n",
        "\n",
        "\n",
        "\n"
      ]
    },
    {
      "cell_type": "code",
      "metadata": {
        "id": "reuyww3e18uv",
        "colab": {
          "base_uri": "https://localhost:8080/"
        },
        "outputId": "a54213dc-f83f-4350-c851-e9f7f9efd958"
      },
      "source": [
        "def calculate_heights ():\n",
        "\n",
        "# create a dictionary\n",
        "  lst_name = []\n",
        "  lst_heights = []\n",
        "  while True:\n",
        "    name = input('input your name:')\n",
        "    if name == 'STOP':\n",
        "      break\n",
        "\n",
        "    heights = float(input('input your height:'))\n",
        "    lst_name.append(name)\n",
        "    lst_heights.append(heights)\n",
        "\n",
        "  dic = dict(zip (lst_name, lst_heights))\n",
        "\n",
        "  print('original dictionary:', dic)\n",
        "\n",
        "# sort the dictionary\n",
        "  \n",
        "  sort_name = []\n",
        "  dic_new = {k: v for k, v in sorted(dic.items(), key = lambda v: v[1])}\n",
        "  for k in dic_new.keys():\n",
        "    sort_name.append(k)\n",
        "  print('sorted dictionary:', dic_new)\n",
        "  print('a list of names in order of the shortest person to the tallest:', sort_name)\n",
        "  print('the name of the tallest person:', sort_name[-1])\n",
        "  print('the name of the shortest person:', sort_name[0])\n",
        "\n",
        "# average height\n",
        "\n",
        "  length = len(dic_new)\n",
        "  total = sum (dic_new.values())\n",
        "  avg_height = total / length\n",
        "  print('the average height is:', avg_height)\n",
        "\n",
        "#closest to mean\n",
        "  sorted_lst_height = list(dic_new.values())\n",
        "  lst_diff = []\n",
        "  for value in sorted_lst_height:\n",
        "      diff = abs(value - avg_height)\n",
        "      lst_diff.append(diff)\n",
        "\n",
        "  min_diff = min(lst_diff)\n",
        "  #if min_diff in lst_diff:\n",
        "  result = lst_diff.index(min_diff)\n",
        "  print(result)\n",
        "  print(lst_diff)\n",
        "  print(min_diff)\n",
        "\n",
        "#closest person\n",
        "  lst_keys = list(dic_new.keys())\n",
        "  closet_name = lst_keys[lst_diff.index(min_diff)]\n",
        "  print(' the name of the person who is closest to the average height:', closet_name)\n",
        "\n",
        "\n",
        "calculate_heights ()\n",
        "\n",
        "\n",
        "\n",
        "\n"
      ],
      "execution_count": 19,
      "outputs": [
        {
          "output_type": "stream",
          "name": "stdout",
          "text": [
            "input your name:aaa\n",
            "input your height:175\n",
            "input your name:bbb\n",
            "input your height:197\n",
            "input your name:ccc\n",
            "input your height:153\n",
            "input your name:ddd\n",
            "input your height:144\n",
            "input your name:STOP\n",
            "original dictionary: {'aaa': 175.0, 'bbb': 197.0, 'ccc': 153.0, 'ddd': 144.0}\n",
            "sorted dictionary: {'ddd': 144.0, 'ccc': 153.0, 'aaa': 175.0, 'bbb': 197.0}\n",
            "a list of names in order of the shortest person to the tallest: ['ddd', 'ccc', 'aaa', 'bbb']\n",
            "the name of the tallest person: bbb\n",
            "the name of the shortest person: ddd\n",
            "the average height is: 167.25\n",
            "2\n",
            "[23.25, 14.25, 7.75, 29.75]\n",
            "7.75\n",
            " the name of the person who is closest to the average height: aaa\n"
          ]
        }
      ]
    },
    {
      "cell_type": "markdown",
      "source": [
        "#Reflection\n",
        "\n",
        "Excercise 2:\n",
        "\n",
        "At beginning, I can print all libraries but can only add the last printed libraries in the list. So I used a empty list before the loop and append each library in the loop.\n",
        "\n",
        "I'm not familiar with the function eval(). So I watched a couple of videoes to learn the function before writing the code. \n",
        "\n",
        "Excercise 3:\n",
        "\n",
        "I was thinking how to put all the input in the library. Then my idea was to get two list of names and heights separately before using the zip function. \n",
        "\n",
        "After sorting the dictionary, I created a new list of the names in order to look for the name with given conditions.\n",
        "\n",
        "To look for the person whose height is closest to the average, I calculated the average height first. Then calculdate the minimum difference value between height and average height. Using the index of the value to find the corresponding key(name)."
      ],
      "metadata": {
        "id": "CL5vw8USrqAH"
      }
    }
  ]
}