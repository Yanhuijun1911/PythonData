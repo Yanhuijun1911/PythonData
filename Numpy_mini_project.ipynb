{
  "nbformat": 4,
  "nbformat_minor": 0,
  "metadata": {
    "colab": {
      "name": "Numpy mini-project.ipynb",
      "provenance": [],
      "collapsed_sections": [],
      "include_colab_link": true
    },
    "kernelspec": {
      "name": "python3",
      "display_name": "Python 3"
    },
    "language_info": {
      "name": "python"
    }
  },
  "cells": [
    {
      "cell_type": "markdown",
      "metadata": {
        "id": "view-in-github",
        "colab_type": "text"
      },
      "source": [
        "<a href=\"https://colab.research.google.com/github/Yanhuijun1911/PythonData/blob/main/Numpy_mini_project.ipynb\" target=\"_parent\"><img src=\"https://colab.research.google.com/assets/colab-badge.svg\" alt=\"Open In Colab\"/></a>"
      ]
    },
    {
      "cell_type": "markdown",
      "source": [
        "# Investigate, wrangle, add new data to the dataframe, filter and correlate\n",
        "\n",
        "The following data file contains data about student scores in math, reading and writing.  The exam scores are assumed to be percentages. It also contains data about gender, ethnicity, parental education, whether the student qualifies for free school food and whether or not the student has taken a preparation course for the exams.  The data set has already been cleaned. \n",
        "\n",
        "1.  Investigate the data set.\n",
        "\n",
        "2.  Create numpy arrays to hold each of the three sets of scores.  \n",
        "Create a new numpy array to hold the average exam score (of the three scores for each student)\n",
        "Add the new numpy array as a new column in the dataframe.\n",
        "\n",
        "3.  Filter the original dataset into a new dataframe containing just the females.  Calculate the average exam scores for all rows in this new dataframe and then find the mean of the average column.\n",
        "\n",
        "4.  Do the same for the males.\n",
        "\n",
        "5.  Use the original dataset to find the correlation coefficient for reading and maths.  How closely do they correlate?  Write what you find in a text box below the code.\n",
        "\n",
        "6.  Do the same for reading and writing. What do you find?\n",
        "\n",
        "7.  You might want to filter on different criteria and check correlation (e.g. those on free school meals, or those who had prepared, etc)\n",
        "\n",
        "\n",
        "\n",
        "\n",
        "\n"
      ],
      "metadata": {
        "id": "8qnlsapq24Df"
      }
    },
    {
      "cell_type": "markdown",
      "source": [
        "The dataset can be accessed here:  https://raw.githubusercontent.com/lilaceri/Working-with-data-/main/Data%20Sets%20for%20code%20divisio/exams.csv.  This is a .csv file.\n",
        "\n",
        "**NOTE:** Some useful references are included at the bottom of this spreadsheet.\n",
        "\n",
        "Use the code cell below to work your code."
      ],
      "metadata": {
        "id": "SSvLiFnp4LjG"
      }
    },
    {
      "cell_type": "code",
      "source": [
        "from numpy.ma.extras import corrcoef\n",
        "import pandas as pd\n",
        "import numpy as np\n",
        "\n",
        "url = \"https://raw.githubusercontent.com/lilaceri/Working-with-data-/main/Data%20Sets%20for%20code%20divisio/exams.csv\"\n",
        "df = pd.read_csv(url)\n",
        "df.info()\n",
        "\n",
        "math_score = df[\"math_score\"].to_numpy(np.int64)\n",
        "reading_score = df[\"reading_score\"].to_numpy(np.int64)\n",
        "writing_score = df[\"writing_score\"].to_numpy(np.int64)\n",
        "\n",
        "average_score = (math_score + reading_score + writing_score) / 3\n",
        "df[\"average_score\"] = average_score.tolist()\n",
        "print(df)\n"
      ],
      "metadata": {
        "id": "txM4TIRUHhsJ",
        "colab": {
          "base_uri": "https://localhost:8080/"
        },
        "outputId": "a3fe9645-1408-41e0-84a7-d57325b8b17e"
      },
      "execution_count": 10,
      "outputs": [
        {
          "output_type": "stream",
          "name": "stdout",
          "text": [
            "<class 'pandas.core.frame.DataFrame'>\n",
            "RangeIndex: 1000 entries, 0 to 999\n",
            "Data columns (total 8 columns):\n",
            " #   Column              Non-Null Count  Dtype \n",
            "---  ------              --------------  ----- \n",
            " 0   gender              1000 non-null   object\n",
            " 1   ethnicity           1000 non-null   object\n",
            " 2   parental_education  1000 non-null   object\n",
            " 3   lunch               1000 non-null   object\n",
            " 4   preparation_course  1000 non-null   object\n",
            " 5   math_score          1000 non-null   int64 \n",
            " 6   reading_score       1000 non-null   int64 \n",
            " 7   writing_score       1000 non-null   int64 \n",
            "dtypes: int64(3), object(5)\n",
            "memory usage: 62.6+ KB\n",
            "     gender ethnicity  ... writing_score average_score\n",
            "0    female   group E  ...            71     70.666667\n",
            "1      male   group C  ...            69     72.000000\n",
            "2    female   group B  ...            61     59.666667\n",
            "3      male   group D  ...            59     59.666667\n",
            "4    female   group C  ...            55     47.666667\n",
            "..      ...       ...  ...           ...           ...\n",
            "995    male   group B  ...            74     75.666667\n",
            "996    male   group D  ...            82     83.666667\n",
            "997  female   group C  ...            93     84.000000\n",
            "998    male   group B  ...            57     60.333333\n",
            "999    male   group B  ...            40     39.000000\n",
            "\n",
            "[1000 rows x 9 columns]\n"
          ]
        }
      ]
    },
    {
      "cell_type": "code",
      "source": [
        "\n",
        "female = df[df[\"gender\"] == \"female\"]\n",
        "print(female)\n",
        "average_female = female[\"average_score\"].to_numpy(np.float64)\n",
        "print(average_female.mean())"
      ],
      "metadata": {
        "colab": {
          "base_uri": "https://localhost:8080/"
        },
        "id": "TOGDPQNPATFF",
        "outputId": "45bd2229-696d-43b3-c79d-41268fce0212"
      },
      "execution_count": 11,
      "outputs": [
        {
          "output_type": "stream",
          "name": "stdout",
          "text": [
            "     gender ethnicity  ... writing_score average_score\n",
            "0    female   group E  ...            71     70.666667\n",
            "2    female   group B  ...            61     59.666667\n",
            "4    female   group C  ...            55     47.666667\n",
            "5    female   group B  ...            61     60.000000\n",
            "6    female   group D  ...            92     88.333333\n",
            "..      ...       ...  ...           ...           ...\n",
            "989  female   group D  ...            82     76.666667\n",
            "991  female   group C  ...            77     74.000000\n",
            "992  female   group C  ...            65     57.666667\n",
            "994  female   group D  ...            80     75.333333\n",
            "997  female   group C  ...            93     84.000000\n",
            "\n",
            "[496 rows x 9 columns]\n",
            "70.81989247311829\n"
          ]
        }
      ]
    },
    {
      "cell_type": "code",
      "source": [
        "male = df[df[\"gender\"] == \"male\"]\n",
        "average_male = male[\"average_score\"].to_numpy(np.float64)\n",
        "print(male)\n",
        "print(average_male.mean())"
      ],
      "metadata": {
        "colab": {
          "base_uri": "https://localhost:8080/"
        },
        "id": "nvzHxSBwmhrv",
        "outputId": "c1873821-d0dc-43fb-e9d4-ef383a9740cd"
      },
      "execution_count": 12,
      "outputs": [
        {
          "output_type": "stream",
          "name": "stdout",
          "text": [
            "    gender ethnicity  ... writing_score average_score\n",
            "1     male   group C  ...            69     72.000000\n",
            "3     male   group D  ...            59     59.666667\n",
            "7     male   group E  ...            70     78.666667\n",
            "9     male   group C  ...            82     80.666667\n",
            "13    male   group C  ...            81     84.000000\n",
            "..     ...       ...  ...           ...           ...\n",
            "993   male   group E  ...            69     75.333333\n",
            "995   male   group B  ...            74     75.666667\n",
            "996   male   group D  ...            82     83.666667\n",
            "998   male   group B  ...            57     60.333333\n",
            "999   male   group B  ...            40     39.000000\n",
            "\n",
            "[504 rows x 9 columns]\n",
            "65.99272486772487\n"
          ]
        }
      ]
    },
    {
      "cell_type": "code",
      "source": [
        "coef_reading_math = corrcoef(reading_score, math_score)\n",
        "print(coef_reading_math)\n",
        "\n",
        "coef_reading_writing = corrcoef(reading_score, writing_score)\n",
        "print(coef_reading_writing)"
      ],
      "metadata": {
        "colab": {
          "base_uri": "https://localhost:8080/"
        },
        "id": "ajO6eMgknlTy",
        "outputId": "fec398d8-8103-4d72-bd75-5ba9e8bfcaa2"
      },
      "execution_count": 13,
      "outputs": [
        {
          "output_type": "stream",
          "name": "stdout",
          "text": [
            "[[1.0 0.8145975152425367]\n",
            " [0.8145975152425367 1.0]]\n",
            "[[1.0 0.9567686336066268]\n",
            " [0.9567686336066268 1.0]]\n"
          ]
        }
      ]
    },
    {
      "cell_type": "code",
      "source": [
        "#strong correlation. The correlation of reading & writing is stronger than that of reading & math."
      ],
      "metadata": {
        "id": "hfXWhaiznqjH"
      },
      "execution_count": null,
      "outputs": []
    },
    {
      "cell_type": "code",
      "source": [
        "\n",
        "#prepared = df[df[\"preparation_course\"] == \"completed\"]\n",
        "#average_prepared = prepared[\"average_score\"].to_numpy(np.float64)\n",
        "non_prepared = df[df[\"preparation_course\"] == \"none\"]\n",
        "average_non_prepared = non_prepared[\"average_score\"].to_numpy(np.float64)\n",
        "math_non_prepared = non_prepared[\"math_score\"].to_numpy(np.float64)\n",
        "\n",
        "coef_preparation = corrcoef(average_non_prepaged, math_non_prepared)\n",
        "print(coef_preparation)\n"
      ],
      "metadata": {
        "colab": {
          "base_uri": "https://localhost:8080/"
        },
        "id": "FvPQPyOcoJvS",
        "outputId": "05318d94-e561-41e7-e37a-128222e8f38d"
      },
      "execution_count": 20,
      "outputs": [
        {
          "output_type": "stream",
          "name": "stdout",
          "text": [
            "[[1.0 0.9237004066549152]\n",
            " [0.9237004066549152 1.0]]\n"
          ]
        }
      ]
    },
    {
      "cell_type": "markdown",
      "source": [
        "### Helpful references\n",
        "---\n",
        "\n",
        "Filtering on criteria using df references:  \n",
        "`filtered_df = df[df['column name' == value]]`  \n",
        "\n",
        "Filtering on multiple criteria using df reference:  \n",
        "`filtered_df = df[df['first column name' == value] & df[second column name] >= value]`\n",
        "\n",
        "Numpy help sheet:  http://datacamp-community-prod.s3.amazonaws.com/da466534-51fe-4c6d-b0cb-154f4782eb54\n",
        "\n"
      ],
      "metadata": {
        "id": "hkj-Ofus_D6_"
      }
    }
  ]
}